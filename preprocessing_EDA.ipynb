{
 "cells": [
  {
   "cell_type": "code",
   "execution_count": 1,
   "metadata": {
    "ExecuteTime": {
     "end_time": "2019-02-18T05:30:27.024848Z",
     "start_time": "2019-02-18T05:30:26.664359Z"
    },
    "collapsed": true
   },
   "outputs": [],
   "source": [
    "import pandas as pd\n",
    "import pyarrow.parquet as pq\n",
    "import numpy as np\n",
    "import datetime\n",
    "\n",
    "from pyspark import SparkContext, SparkConf\n",
    "from pyspark.sql import SparkSession, Row, SQLContext\n",
    "from pyspark.sql.types import *\n",
    "import pyspark.sql.functions as f\n",
    "from pyspark.storagelevel import StorageLevel"
   ]
  },
  {
   "cell_type": "code",
   "execution_count": 3,
   "metadata": {
    "ExecuteTime": {
     "end_time": "2019-02-18T03:57:42.262313Z",
     "start_time": "2019-02-18T03:57:39.497044Z"
    },
    "collapsed": true
   },
   "outputs": [],
   "source": [
    "conf = SparkConf().setMaster(\"local[*]\").setAppName('ml')\n",
    "sc = SparkContext(conf=conf)\n",
    "\n",
    "ss = SparkSession.builder.getOrCreate()\n",
    "\n",
    "ss.conf.set(\"spark.executor.memory\", '7g')\n",
    "ss.conf.set('spark.executor.cores', '8')\n",
    "ss.conf.set('spark.cores.max', '10')\n",
    "ss.conf.set(\"spark.driver.memory\", '8g')"
   ]
  },
  {
   "cell_type": "markdown",
   "metadata": {},
   "source": [
    "# Preprocessing \n",
    "## Reduce sizes of datasets"
   ]
  },
  {
   "cell_type": "code",
   "execution_count": 3,
   "metadata": {
    "ExecuteTime": {
     "end_time": "2019-02-18T03:45:01.826674Z",
     "start_time": "2019-02-18T03:45:01.824242Z"
    },
    "collapsed": true
   },
   "outputs": [],
   "source": [
    "utc_date_func = f.udf(\n",
    "    lambda x: datetime.datetime.utcfromtimestamp(x / 1000).date(), DateType())"
   ]
  },
  {
   "cell_type": "markdown",
   "metadata": {},
   "source": [
    "### Sessions"
   ]
  },
  {
   "cell_type": "code",
   "execution_count": 4,
   "metadata": {
    "ExecuteTime": {
     "end_time": "2019-02-18T03:45:08.909570Z",
     "start_time": "2019-02-18T03:45:05.976870Z"
    },
    "collapsed": true
   },
   "outputs": [],
   "source": [
    "sessions_df = ss.read.csv(\"/mnt/data/sessions.csv\", header=True, sep=\",\").\\\n",
    "              filter(\"is_session=='true' AND is_developer=='false' \\\n",
    "                     AND is_wau=='false' AND is_mau=='false'\"                                                             ).\\\n",
    "              drop('is_session', 'is_developer', 'is_wau', 'is_mau', 'app_id').\\\n",
    "              persist(StorageLevel.DISK_ONLY)"
   ]
  },
  {
   "cell_type": "code",
   "execution_count": 5,
   "metadata": {
    "ExecuteTime": {
     "end_time": "2019-02-18T03:45:10.424462Z",
     "start_time": "2019-02-18T03:45:10.387183Z"
    },
    "collapsed": true
   },
   "outputs": [],
   "source": [
    "sessions_df2 = sessions_df.\\\n",
    "               withColumn('start_timestamp_int', \n",
    "                          sessions_df['start_timestamp'].cast(LongType())).\\\n",
    "               drop('start_timestamp')\n",
    "sessions_df2 = sessions_df2.\\\n",
    "               withColumn('user_created_timestamp_int',\n",
    "                          sessions_df2['user_created_timestamp'].cast(LongType())).\\\n",
    "               drop('user_created_timestamp')"
   ]
  },
  {
   "cell_type": "code",
   "execution_count": 6,
   "metadata": {
    "ExecuteTime": {
     "end_time": "2019-02-18T03:45:15.497032Z",
     "start_time": "2019-02-18T03:45:15.401718Z"
    },
    "collapsed": true
   },
   "outputs": [],
   "source": [
    "sessions_df3 = sessions_df2.\\\n",
    "               withColumn('start_time',\n",
    "                          utc_date_func(sessions_df2['start_timestamp_int'])).\\\n",
    "               drop('start_timestamp_int')\n",
    "sessions_df3 = sessions_df3.\\\n",
    "               withColumn('user_created_time',\n",
    "                          utc_date_func(sessions_df3['user_created_timestamp_int'])).\\\n",
    "               drop('user_created_timestamp_int').persist(StorageLevel.DISK_ONLY)"
   ]
  },
  {
   "cell_type": "code",
   "execution_count": 7,
   "metadata": {
    "ExecuteTime": {
     "end_time": "2019-02-18T03:45:18.699997Z",
     "start_time": "2019-02-18T03:45:18.642088Z"
    },
    "collapsed": true
   },
   "outputs": [],
   "source": [
    "sessions_df3 = sessions_df3.\\\n",
    "               withColumn('start_date', sessions_df3['start_time'].cast(StringType())).\\\n",
    "               drop('start_time').persist(StorageLevel.DISK_ONLY)\n",
    "sessions_df3 = sessions_df3.\\\n",
    "               withColumn('user_created_date', sessions_df3['user_created_time'].cast(StringType())).\\\n",
    "               drop('user_created_time').persist(StorageLevel.DISK_ONLY)"
   ]
  },
  {
   "cell_type": "code",
   "execution_count": 8,
   "metadata": {
    "ExecuteTime": {
     "end_time": "2019-02-18T03:45:34.268851Z",
     "start_time": "2019-02-18T03:45:19.775710Z"
    },
    "scrolled": true
   },
   "outputs": [
    {
     "name": "stdout",
     "output_type": "stream",
     "text": [
      "+----------+-----------------+\n",
      "|start_date|user_created_date|\n",
      "+----------+-----------------+\n",
      "|2018-11-14|       2018-10-07|\n",
      "|2018-12-02|       2018-10-07|\n",
      "|2018-10-10|       2018-10-07|\n",
      "|2018-10-21|       2018-10-07|\n",
      "|2018-11-19|       2018-10-07|\n",
      "+----------+-----------------+\n",
      "only showing top 5 rows\n",
      "\n"
     ]
    }
   ],
   "source": [
    "sessions_df3.select('start_date', 'user_created_date').show(5)"
   ]
  },
  {
   "cell_type": "code",
   "execution_count": 9,
   "metadata": {
    "ExecuteTime": {
     "end_time": "2019-02-18T03:45:34.277791Z",
     "start_time": "2019-02-18T03:45:34.269899Z"
    }
   },
   "outputs": [
    {
     "name": "stdout",
     "output_type": "stream",
     "text": [
      "root\n",
      " |-- session_id: string (nullable = true)\n",
      " |-- timezone: string (nullable = true)\n",
      " |-- timezone_offset: string (nullable = true)\n",
      " |-- previous_sessions_duration: string (nullable = true)\n",
      " |-- is_user_first_session: string (nullable = true)\n",
      " |-- country: string (nullable = true)\n",
      " |-- region: string (nullable = true)\n",
      " |-- city: string (nullable = true)\n",
      " |-- latitude: string (nullable = true)\n",
      " |-- longitude: string (nullable = true)\n",
      " |-- locale: string (nullable = true)\n",
      " |-- os_name: string (nullable = true)\n",
      " |-- session_index: string (nullable = true)\n",
      " |-- device_id: string (nullable = true)\n",
      " |-- user_id_hash: string (nullable = true)\n",
      " |-- start_date: string (nullable = true)\n",
      " |-- user_created_date: string (nullable = true)\n",
      "\n"
     ]
    }
   ],
   "source": [
    "sessions_df3.printSchema()"
   ]
  },
  {
   "cell_type": "code",
   "execution_count": 29,
   "metadata": {
    "ExecuteTime": {
     "end_time": "2019-02-17T22:25:12.668620Z",
     "start_time": "2019-02-17T22:25:12.653415Z"
    },
    "collapsed": true
   },
   "outputs": [],
   "source": [
    "user_sessions = sessions_df3.select('user_id_hash').distinct()\n",
    "session_sessions = sessions_df3.select('session_id').distinct()"
   ]
  },
  {
   "cell_type": "code",
   "execution_count": 31,
   "metadata": {
    "ExecuteTime": {
     "end_time": "2019-02-17T22:26:38.947786Z",
     "start_time": "2019-02-17T22:26:38.945633Z"
    },
    "collapsed": true
   },
   "outputs": [],
   "source": [
    "# convert to pandas dataframe and save to local for backup if needed\n",
    "# user_sessions_csv = user_sessions.toPandas()\n",
    "# session_sessions_csv = session_sessions.toPandas()\n",
    "\n",
    "# user_sessions_csv.to_csv('./newdata/user_sessions.csv', index=False)\n",
    "# session_sessions_csv.to_csv('./newdata/session_sessions.csv', index=False)"
   ]
  },
  {
   "cell_type": "markdown",
   "metadata": {},
   "source": [
    "### Events"
   ]
  },
  {
   "cell_type": "code",
   "execution_count": 17,
   "metadata": {
    "ExecuteTime": {
     "end_time": "2019-02-18T03:48:38.632919Z",
     "start_time": "2019-02-18T03:48:38.435897Z"
    },
    "collapsed": true
   },
   "outputs": [],
   "source": [
    "events_df = ss.read.csv(\n",
    "    \"/mnt/data/events.csv\", header=True, sep=\",\").drop('app_id')"
   ]
  },
  {
   "cell_type": "code",
   "execution_count": 18,
   "metadata": {
    "ExecuteTime": {
     "end_time": "2019-02-18T03:48:39.109976Z",
     "start_time": "2019-02-18T03:48:39.107280Z"
    },
    "scrolled": true
   },
   "outputs": [
    {
     "name": "stdout",
     "output_type": "stream",
     "text": [
      "root\n",
      " |-- session_id: string (nullable = true)\n",
      " |-- event: string (nullable = true)\n",
      " |-- event_timestamp: string (nullable = true)\n",
      " |-- event_value: string (nullable = true)\n",
      " |-- user_id_hash: string (nullable = true)\n",
      "\n"
     ]
    }
   ],
   "source": [
    "events_df.printSchema()"
   ]
  },
  {
   "cell_type": "code",
   "execution_count": 20,
   "metadata": {
    "ExecuteTime": {
     "end_time": "2019-02-18T03:50:00.571378Z",
     "start_time": "2019-02-18T03:50:00.547168Z"
    },
    "collapsed": true
   },
   "outputs": [],
   "source": [
    "events_df2 = events_df.\\\n",
    "    withColumn('event_timestamp_int',\n",
    "               events_df['event_timestamp'].cast(LongType())).\\\n",
    "    drop('event_timestamp')\n",
    "events_df3 = events_df2.\\\n",
    "    withColumn('event_time',\n",
    "               utc_date_func(events_df2['event_timestamp_int'])).\\\n",
    "    drop('event_timestamp_int').persist(StorageLevel.DISK_ONLY)"
   ]
  },
  {
   "cell_type": "code",
   "execution_count": 21,
   "metadata": {
    "ExecuteTime": {
     "end_time": "2019-02-18T03:50:03.986386Z",
     "start_time": "2019-02-18T03:50:03.968775Z"
    },
    "collapsed": true
   },
   "outputs": [],
   "source": [
    "events_df3 = events_df3.\\\n",
    "    withColumn('event_date', events_df3['event_time'].cast(StringType())).\\\n",
    "    drop('event_time').persist(StorageLevel.DISK_ONLY)"
   ]
  },
  {
   "cell_type": "code",
   "execution_count": 22,
   "metadata": {
    "ExecuteTime": {
     "end_time": "2019-02-18T03:50:13.576217Z",
     "start_time": "2019-02-18T03:50:08.387983Z"
    },
    "scrolled": true
   },
   "outputs": [
    {
     "name": "stdout",
     "output_type": "stream",
     "text": [
      "+----------+\n",
      "|event_date|\n",
      "+----------+\n",
      "|2018-11-14|\n",
      "|2018-11-14|\n",
      "|2018-11-02|\n",
      "|2018-12-02|\n",
      "|2018-12-02|\n",
      "+----------+\n",
      "only showing top 5 rows\n",
      "\n"
     ]
    }
   ],
   "source": [
    "events_df3.select('event_date').show(5)"
   ]
  },
  {
   "cell_type": "code",
   "execution_count": 23,
   "metadata": {
    "ExecuteTime": {
     "end_time": "2019-02-18T03:50:29.406503Z",
     "start_time": "2019-02-18T03:50:29.403794Z"
    }
   },
   "outputs": [
    {
     "name": "stdout",
     "output_type": "stream",
     "text": [
      "root\n",
      " |-- session_id: string (nullable = true)\n",
      " |-- event: string (nullable = true)\n",
      " |-- event_value: string (nullable = true)\n",
      " |-- user_id_hash: string (nullable = true)\n",
      " |-- event_date: string (nullable = true)\n",
      "\n"
     ]
    }
   ],
   "source": [
    "events_df3.printSchema()"
   ]
  },
  {
   "cell_type": "code",
   "execution_count": 36,
   "metadata": {
    "ExecuteTime": {
     "end_time": "2019-02-17T22:31:41.966482Z",
     "start_time": "2019-02-17T22:31:41.955245Z"
    },
    "collapsed": true
   },
   "outputs": [],
   "source": [
    "user_events = events_df3.select('user_id_hash').distinct()\n",
    "session_events = events_df3.select('session_id').distinct()"
   ]
  },
  {
   "cell_type": "code",
   "execution_count": 37,
   "metadata": {
    "ExecuteTime": {
     "end_time": "2019-02-17T22:31:45.617248Z",
     "start_time": "2019-02-17T22:31:45.614894Z"
    },
    "collapsed": true
   },
   "outputs": [],
   "source": [
    "# convert to pandas dataframe and save to local for backup if needed\n",
    "\n",
    "# user_events_csv = user_events.toPandas()\n",
    "# session_events_csv = session_events.toPandas()\n",
    "\n",
    "# user_events_csv.to_csv('./newdata/user_events.csv', index=False)\n",
    "# session_events_csv.to_csv('./newdata/session_events.csv', index=False)"
   ]
  },
  {
   "cell_type": "markdown",
   "metadata": {},
   "source": [
    "### Attributes"
   ]
  },
  {
   "cell_type": "code",
   "execution_count": 3,
   "metadata": {
    "ExecuteTime": {
     "end_time": "2019-02-17T23:00:45.998333Z",
     "start_time": "2019-02-17T23:00:45.590386Z"
    },
    "collapsed": true
   },
   "outputs": [],
   "source": [
    "attributes = sc.textFile(\"attributes.csv\", 100).\\\n",
    "             map(lambda x: [x.split(',')[0], x.split(',')[1], x.split(',')[2],\n",
    "                            ','.join(x.split(',')[3:-1]).replace(\"\\\"\",\"\").replace(\"\\\\\",\"\"),\n",
    "                            x.split(',')[-1]])"
   ]
  },
  {
   "cell_type": "code",
   "execution_count": 4,
   "metadata": {
    "ExecuteTime": {
     "end_time": "2019-02-17T23:00:46.720601Z",
     "start_time": "2019-02-17T23:00:46.103735Z"
    },
    "collapsed": true
   },
   "outputs": [],
   "source": [
    "header = attributes.first()\n",
    "attributes = attributes.filter(lambda x: 'app_id' not in x)\n",
    "\n",
    "fields = [StructField(field_name, StringType(), True) for field_name in header]\n",
    "schema = StructType(fields)"
   ]
  },
  {
   "cell_type": "code",
   "execution_count": 5,
   "metadata": {
    "ExecuteTime": {
     "end_time": "2019-02-17T23:00:48.102319Z",
     "start_time": "2019-02-17T23:00:46.882446Z"
    },
    "collapsed": true
   },
   "outputs": [],
   "source": [
    "attributes_df = ss.createDataFrame(attributes, schema=schema).\\\n",
    "                persist(StorageLevel.DISK_ONLY)\n",
    "attributes_df2 = attributes_df.drop('app_id').\\\n",
    "                 persist(StorageLevel.DISK_ONLY)"
   ]
  },
  {
   "cell_type": "code",
   "execution_count": 6,
   "metadata": {
    "ExecuteTime": {
     "end_time": "2019-02-17T23:00:51.239088Z",
     "start_time": "2019-02-17T23:00:48.222672Z"
    },
    "scrolled": true
   },
   "outputs": [
    {
     "name": "stdout",
     "output_type": "stream",
     "text": [
      "+-------------------+---------+--------------------+--------------------+\n",
      "|         session_id|attribute|     attribute_value|        user_id_hash|\n",
      "+-------------------+---------+--------------------+--------------------+\n",
      "|2201961907282901522|        0|                   1|9943447915df3a45f...|\n",
      "|2201961907282901522|        1|                   1|9943447915df3a45f...|\n",
      "|2201961907282901522|        3|                   0|9943447915df3a45f...|\n",
      "|2201961907282901522|        4|                0.00|9943447915df3a45f...|\n",
      "|2201961907282901522|        5|romance_the_royal...|9943447915df3a45f...|\n",
      "+-------------------+---------+--------------------+--------------------+\n",
      "only showing top 5 rows\n",
      "\n"
     ]
    }
   ],
   "source": [
    "# make the action to be taken\n",
    "attributes_df2.show(5)"
   ]
  },
  {
   "cell_type": "code",
   "execution_count": 42,
   "metadata": {
    "ExecuteTime": {
     "end_time": "2019-02-17T22:32:07.285628Z",
     "start_time": "2019-02-17T22:32:07.283717Z"
    },
    "collapsed": true
   },
   "outputs": [],
   "source": [
    "# Total number of rows in this data set\n",
    "# attributes_df.count() # 185590092 rows"
   ]
  },
  {
   "cell_type": "code",
   "execution_count": 43,
   "metadata": {
    "ExecuteTime": {
     "end_time": "2019-02-17T22:32:07.792279Z",
     "start_time": "2019-02-17T22:32:07.781547Z"
    },
    "collapsed": true
   },
   "outputs": [],
   "source": [
    "user_attributes = attributes_df2.select('user_id_hash').distinct()\n",
    "session_attributes = attributes_df2.select('session_id').distinct()\n",
    "# user_attributes.write.format(\"csv\").save(\"./newdata/user_attributes.csv\")\n",
    "# print(f\"The total number of user id in this data set is {user_attributes.count()}.\")"
   ]
  },
  {
   "cell_type": "code",
   "execution_count": 30,
   "metadata": {
    "ExecuteTime": {
     "end_time": "2019-02-17T22:26:30.823942Z",
     "start_time": "2019-02-17T22:26:30.821702Z"
    },
    "collapsed": true
   },
   "outputs": [],
   "source": [
    "# convert to pandas dataframe if needed\n",
    "# user_attributes_csv = user_attributes.toPandas()\n",
    "# session_attributes_csv = session_attributes.toPandas()\n",
    "\n",
    "# save to local as csv file for backup if needed\n",
    "# user_attributes_csv.to_csv('./newdata/user_attributes.csv',index=False)\n",
    "# session_attributes_csv.to_csv('./newdata/session_attributes.csv',index=False)"
   ]
  },
  {
   "cell_type": "markdown",
   "metadata": {
    "ExecuteTime": {
     "end_time": "2019-02-17T01:34:58.831990Z",
     "start_time": "2019-02-17T01:32:54.613475Z"
    }
   },
   "source": [
    "### Create mappings"
   ]
  },
  {
   "cell_type": "code",
   "execution_count": 46,
   "metadata": {
    "ExecuteTime": {
     "end_time": "2019-02-17T22:34:09.402454Z",
     "start_time": "2019-02-17T22:34:08.868076Z"
    },
    "collapsed": true
   },
   "outputs": [],
   "source": [
    "# use pandas dataframe to create mappings\n",
    "# user_ids = pd.concat([user_attributes_csv, user_events_csv, user_sessions_csv]).\\\n",
    "#            drop_duplicates()\n",
    "# session_ids = pd.concat([session_attributes_csv, session_events_csv,\n",
    "#                          session_sessions_csv]).\\\n",
    "#               drop_duplicates()\n",
    "\n",
    "# use spark sql dataframe to create mappings\n",
    "user_ids = user_attributes.union(user_events).union(user_sessions).\\\n",
    "           distinct().persist(StorageLevel.DISK_ONLY)\n",
    "session_ids = session_attributes.union(session_events).\\\n",
    "              union(session_sessions).\\\n",
    "              distinct().persist(StorageLevel.DISK_ONLY)"
   ]
  },
  {
   "cell_type": "code",
   "execution_count": 49,
   "metadata": {
    "ExecuteTime": {
     "end_time": "2019-02-17T22:46:25.590732Z",
     "start_time": "2019-02-17T22:34:39.286636Z"
    }
   },
   "outputs": [
    {
     "data": {
      "text/plain": [
       "621500"
      ]
     },
     "execution_count": 49,
     "metadata": {},
     "output_type": "execute_result"
    }
   ],
   "source": [
    "user_ids.count()"
   ]
  },
  {
   "cell_type": "code",
   "execution_count": 50,
   "metadata": {
    "ExecuteTime": {
     "end_time": "2019-02-17T22:46:51.926320Z",
     "start_time": "2019-02-17T22:46:25.591843Z"
    }
   },
   "outputs": [
    {
     "data": {
      "text/plain": [
       "6510765"
      ]
     },
     "execution_count": 50,
     "metadata": {},
     "output_type": "execute_result"
    }
   ],
   "source": [
    "session_ids.count()"
   ]
  },
  {
   "cell_type": "code",
   "execution_count": 16,
   "metadata": {
    "ExecuteTime": {
     "end_time": "2019-02-17T07:10:09.100118Z",
     "start_time": "2019-02-17T07:06:04.404815Z"
    },
    "collapsed": true
   },
   "outputs": [],
   "source": [
    "# use pandas dataframe to create mappings\n",
    "# user_map = user_ids.reset_index()\n",
    "# session_map = session_ids.reset_index()\n",
    "\n",
    "# use spark sql dataframe to create mappings\n",
    "user_map = user_ids.toPandas().reset_index()\n",
    "session_map = session_ids.toPandas().reset_index()\n",
    "\n",
    "user_map.columns = ['user_code', 'user_id_hash']\n",
    "session_map.columns = ['session_code', 'session_id']"
   ]
  },
  {
   "cell_type": "code",
   "execution_count": 17,
   "metadata": {
    "ExecuteTime": {
     "end_time": "2019-02-17T07:10:21.534111Z",
     "start_time": "2019-02-17T07:10:12.670095Z"
    },
    "collapsed": true
   },
   "outputs": [],
   "source": [
    "# save to local for backup\n",
    "# user_map.to_csv('./newdata/user_map.csv', index=False)\n",
    "# session_map.to_csv('./newdata/session_map.csv', index=False)"
   ]
  },
  {
   "cell_type": "markdown",
   "metadata": {},
   "source": [
    "### create new data frame by joining"
   ]
  },
  {
   "cell_type": "code",
   "execution_count": 11,
   "metadata": {
    "ExecuteTime": {
     "end_time": "2019-02-18T03:46:20.640930Z",
     "start_time": "2019-02-18T03:46:20.193077Z"
    },
    "collapsed": true
   },
   "outputs": [],
   "source": [
    "# pandas dataframe mappings\n",
    "# user_map = pd.read_csv('./newdata/user_map.csv').set_index('user_id_hash')\n",
    "# session_map = pd.read_csv('./newdata/session_map.csv').set_index('session_id')\n",
    "\n",
    "# spark sql dataframe mappings\n",
    "user_map_df = ss.read.csv('./newdata/user_map.csv', header=True, sep=\",\")\n",
    "session_map_df = ss.read.csv('./newdata/session_map.csv', header=True, sep=\",\")"
   ]
  },
  {
   "cell_type": "code",
   "execution_count": 12,
   "metadata": {
    "ExecuteTime": {
     "end_time": "2019-02-18T03:46:23.675745Z",
     "start_time": "2019-02-18T03:46:23.604808Z"
    }
   },
   "outputs": [
    {
     "name": "stdout",
     "output_type": "stream",
     "text": [
      "+---------+--------------------+\n",
      "|user_code|        user_id_hash|\n",
      "+---------+--------------------+\n",
      "|        0|04b6836e16e856579...|\n",
      "|        1|c0421c03e84fa1c47...|\n",
      "|        2|448a7de13d61c19a1...|\n",
      "|        3|d44062550dc97f982...|\n",
      "|        4|e476dabc758fbdfed...|\n",
      "+---------+--------------------+\n",
      "only showing top 5 rows\n",
      "\n"
     ]
    }
   ],
   "source": [
    "user_map_df.show(5)"
   ]
  },
  {
   "cell_type": "markdown",
   "metadata": {},
   "source": [
    "#### Sessions"
   ]
  },
  {
   "cell_type": "code",
   "execution_count": 5,
   "metadata": {
    "ExecuteTime": {
     "end_time": "2019-02-17T21:32:55.266665Z",
     "start_time": "2019-02-17T21:32:24.146965Z"
    },
    "collapsed": true
   },
   "outputs": [],
   "source": [
    "# use pandas to join dataframes\n",
    "\n",
    "# sessions = pd.read_csv('sessions.csv')  # raw sessions csv\n",
    "\n",
    "# sessions = sessions[(sessions.is_session == True) &\n",
    "#                     (sessions.is_developer == False) &\n",
    "#                     (sessions.is_wau == False) &\n",
    "#                     (sessions.is_mau == False)].\\\n",
    "#     drop(['app_id', 'is_wau', 'is_mau', 'is_session', 'is_developer'], axis=1)\n",
    "\n",
    "# sessions_new = sessions.\\\n",
    "#                join(user_map, on='user_id_hash').\\\n",
    "#                join(session_map, on='session_id').\\\n",
    "#                drop(['session_id', 'user_id_hash'], axis=1)"
   ]
  },
  {
   "cell_type": "code",
   "execution_count": 14,
   "metadata": {
    "ExecuteTime": {
     "end_time": "2019-02-18T03:46:45.855387Z",
     "start_time": "2019-02-18T03:46:45.758640Z"
    },
    "collapsed": true
   },
   "outputs": [],
   "source": [
    "sessions = sessions_df3.\\\n",
    "           join(user_map_df, 'user_id_hash', 'left').\\\n",
    "           join(session_map_df, 'session_id', 'left').\\\n",
    "           select('start_date', 'timezone', 'timezone_offset',\n",
    "                  'previous_sessions_duration', 'user_created_date',\n",
    "                  'is_user_first_session', 'country', 'region', 'city',\n",
    "                  'latitude', 'longitude', 'locale', 'os_name',\n",
    "                  'session_index', 'device_id', 'user_code', 'session_code').\\\n",
    "            persist(StorageLevel.DISK_ONLY)"
   ]
  },
  {
   "cell_type": "code",
   "execution_count": 15,
   "metadata": {
    "ExecuteTime": {
     "end_time": "2019-02-18T03:47:57.059615Z",
     "start_time": "2019-02-18T03:46:49.148374Z"
    }
   },
   "outputs": [
    {
     "name": "stdout",
     "output_type": "stream",
     "text": [
      "+----------+----------------+---------------+--------------------------+-----------------+---------------------+-------+------+-----+------------------+-------------------+------+----------+-------------+--------------------+---------+------------+\n",
      "|start_date|        timezone|timezone_offset|previous_sessions_duration|user_created_date|is_user_first_session|country|region| city|          latitude|          longitude|locale|   os_name|session_index|           device_id|user_code|session_code|\n",
      "+----------+----------------+---------------+--------------------------+-----------------+---------------------+-------+------+-----+------------------+-------------------+------+----------+-------------+--------------------+---------+------------+\n",
      "|2018-12-02|America/Mazatlan|      -25200000|                  32613534|       2018-11-24|                false|     MX|   nay|tepic|21.504165649414062|-104.89459228515625| es_MX|Android OS|           44|e8aaee94-6baa-4ed...|   617387|       21760|\n",
      "+----------+----------------+---------------+--------------------------+-----------------+---------------------+-------+------+-----+------------------+-------------------+------+----------+-------------+--------------------+---------+------------+\n",
      "only showing top 1 row\n",
      "\n"
     ]
    }
   ],
   "source": [
    "sessions.show(1)"
   ]
  },
  {
   "cell_type": "code",
   "execution_count": 16,
   "metadata": {
    "ExecuteTime": {
     "end_time": "2019-02-18T03:48:30.641010Z",
     "start_time": "2019-02-18T03:47:59.436252Z"
    },
    "collapsed": true
   },
   "outputs": [],
   "source": [
    "# save to local as .parquet file\n",
    "sessions.write.parquet(\"./newdata/sessions_new.parquet\")"
   ]
  },
  {
   "cell_type": "markdown",
   "metadata": {},
   "source": [
    "#### Events"
   ]
  },
  {
   "cell_type": "code",
   "execution_count": 60,
   "metadata": {
    "ExecuteTime": {
     "end_time": "2019-02-17T22:55:13.205207Z",
     "start_time": "2019-02-17T22:55:13.202546Z"
    }
   },
   "outputs": [
    {
     "name": "stdout",
     "output_type": "stream",
     "text": [
      "root\n",
      " |-- session_id: string (nullable = true)\n",
      " |-- event: string (nullable = true)\n",
      " |-- event_value: string (nullable = true)\n",
      " |-- user_id_hash: string (nullable = true)\n",
      " |-- event_time: date (nullable = true)\n",
      "\n"
     ]
    }
   ],
   "source": [
    "events_df3.printSchema()"
   ]
  },
  {
   "cell_type": "code",
   "execution_count": 24,
   "metadata": {
    "ExecuteTime": {
     "end_time": "2019-02-18T03:50:54.248597Z",
     "start_time": "2019-02-18T03:50:54.206744Z"
    },
    "collapsed": true
   },
   "outputs": [],
   "source": [
    "events = events_df3.\\\n",
    "         join(user_map_df, 'user_id_hash', 'left').\\\n",
    "         join(session_map_df, 'session_id', 'left').\\\n",
    "         select('event', 'event_value', 'event_date',\n",
    "                'user_code', 'session_code').\\\n",
    "        persist(StorageLevel.DISK_ONLY)"
   ]
  },
  {
   "cell_type": "code",
   "execution_count": 25,
   "metadata": {
    "ExecuteTime": {
     "end_time": "2019-02-18T03:55:15.655514Z",
     "start_time": "2019-02-18T03:50:58.284317Z"
    }
   },
   "outputs": [
    {
     "name": "stdout",
     "output_type": "stream",
     "text": [
      "+------------------+-----------+----------+---------+------------+\n",
      "|             event|event_value|event_date|user_code|session_code|\n",
      "+------------------+-----------+----------+---------+------------+\n",
      "|.a5027911885258752|        0.0|2018-11-21|   619184|        8448|\n",
      "|.a5516611293544448|        0.0|2018-11-21|   619184|        8448|\n",
      "|.a5400102822346752|        0.0|2018-11-21|   619184|        8448|\n",
      "|                44|        0.0|2018-11-21|   619184|        8448|\n",
      "|                 5|        0.0|2018-11-21|   619184|        8448|\n",
      "+------------------+-----------+----------+---------+------------+\n",
      "only showing top 5 rows\n",
      "\n"
     ]
    }
   ],
   "source": [
    "events.show(5)"
   ]
  },
  {
   "cell_type": "code",
   "execution_count": 26,
   "metadata": {
    "ExecuteTime": {
     "end_time": "2019-02-18T03:56:56.425259Z",
     "start_time": "2019-02-18T03:55:15.656586Z"
    },
    "collapsed": true
   },
   "outputs": [],
   "source": [
    "# save to local as .parquet file\n",
    "events.write.parquet(\"./newdata/events_new.parquet\")"
   ]
  },
  {
   "cell_type": "markdown",
   "metadata": {},
   "source": [
    "#### Attributes"
   ]
  },
  {
   "cell_type": "code",
   "execution_count": 8,
   "metadata": {
    "ExecuteTime": {
     "end_time": "2019-02-17T23:04:46.504229Z",
     "start_time": "2019-02-17T23:04:46.398236Z"
    },
    "collapsed": true
   },
   "outputs": [],
   "source": [
    "attributes = attributes_df2.\\\n",
    "             join(user_map_df, 'user_id_hash', 'left').\\\n",
    "             join(session_map_df, 'session_id', 'left').\\\n",
    "             select('session_code', 'attribute', 'attribute_value', 'user_code').\\\n",
    "            persist(StorageLevel.DISK_ONLY)"
   ]
  },
  {
   "cell_type": "code",
   "execution_count": 9,
   "metadata": {
    "ExecuteTime": {
     "end_time": "2019-02-17T23:17:24.093203Z",
     "start_time": "2019-02-17T23:04:54.693047Z"
    }
   },
   "outputs": [
    {
     "name": "stdout",
     "output_type": "stream",
     "text": [
      "+------------+---------+---------------+---------+\n",
      "|session_code|attribute|attribute_value|user_code|\n",
      "+------------+---------+---------------+---------+\n",
      "|       21760|        0|              2|   617387|\n",
      "|       21760|        1|              0|   617387|\n",
      "+------------+---------+---------------+---------+\n",
      "only showing top 2 rows\n",
      "\n"
     ]
    }
   ],
   "source": [
    "attributes.show(2)"
   ]
  },
  {
   "cell_type": "code",
   "execution_count": 10,
   "metadata": {
    "ExecuteTime": {
     "end_time": "2019-02-17T23:20:30.153351Z",
     "start_time": "2019-02-17T23:17:24.094274Z"
    },
    "collapsed": true
   },
   "outputs": [],
   "source": [
    "attributes.write.parquet(\"./newdata/attributes.parquet\")"
   ]
  },
  {
   "cell_type": "markdown",
   "metadata": {
    "collapsed": true
   },
   "source": [
    "### Convert dtypes in pandas"
   ]
  },
  {
   "cell_type": "markdown",
   "metadata": {
    "collapsed": true
   },
   "source": [
    "#### sessions"
   ]
  },
  {
   "cell_type": "code",
   "execution_count": 5,
   "metadata": {
    "ExecuteTime": {
     "end_time": "2019-02-18T03:58:07.153795Z",
     "start_time": "2019-02-18T03:57:56.290943Z"
    },
    "collapsed": true
   },
   "outputs": [],
   "source": [
    "sessions_new = pd.read_parquet('./newdata/sessions_new.parquet', engine='pyarrow')"
   ]
  },
  {
   "cell_type": "code",
   "execution_count": 13,
   "metadata": {
    "ExecuteTime": {
     "end_time": "2019-02-17T23:25:56.948935Z",
     "start_time": "2019-02-17T23:25:56.941653Z"
    }
   },
   "outputs": [
    {
     "name": "stdout",
     "output_type": "stream",
     "text": [
      "<class 'pandas.core.frame.DataFrame'>\n",
      "RangeIndex: 5165760 entries, 0 to 5165759\n",
      "Data columns (total 17 columns):\n",
      "start_time                    object\n",
      "timezone                      object\n",
      "timezone_offset               object\n",
      "previous_sessions_duration    object\n",
      "user_created_time             object\n",
      "is_user_first_session         object\n",
      "country                       object\n",
      "region                        object\n",
      "city                          object\n",
      "latitude                      object\n",
      "longitude                     object\n",
      "locale                        object\n",
      "os_name                       object\n",
      "session_index                 object\n",
      "device_id                     object\n",
      "user_code                     object\n",
      "session_code                  object\n",
      "dtypes: object(17)\n",
      "memory usage: 670.0+ MB\n"
     ]
    }
   ],
   "source": [
    "sessions_new.info()"
   ]
  },
  {
   "cell_type": "markdown",
   "metadata": {},
   "source": [
    "- deal with time data: `start_time` and `user_created_time`\n",
    "- convert `previous_sessions_duration` and `timezone_offset` in seconds\n",
    "- convert data type: `user_code`(uint32) and `session_code`(uint32); `latitude`(int8) and `longitude`(int16); `session_index`(uint16)\n",
    "- convert object to category: `timezone`, `country`, `region`, `city`, `locale`, `device_id`"
   ]
  },
  {
   "cell_type": "code",
   "execution_count": 6,
   "metadata": {
    "ExecuteTime": {
     "end_time": "2019-02-18T03:58:15.687927Z",
     "start_time": "2019-02-18T03:58:07.155201Z"
    },
    "collapsed": true
   },
   "outputs": [],
   "source": [
    "# convert numeric data type\n",
    "sessions_new.session_index = sessions_new.session_index.astype(np.uint16)\n",
    "sessions_new.user_code = sessions_new.user_code.astype(np.uint32)\n",
    "sessions_new.session_code = sessions_new.session_code.astype(np.uint32)\n",
    "# there are nan's in latitude and longitude\n",
    "# sessions_new.latitude = sessions_new.latitude.astype(np.int8)\n",
    "# sessions_new.longitude = sessions_new.longitude.astype(np.int16)"
   ]
  },
  {
   "cell_type": "code",
   "execution_count": 7,
   "metadata": {
    "ExecuteTime": {
     "end_time": "2019-02-18T03:58:20.225226Z",
     "start_time": "2019-02-18T03:58:15.689094Z"
    },
    "collapsed": true
   },
   "outputs": [],
   "source": [
    "# convert timestamp in seconds\n",
    "sessions_new.previous_sessions_duration = \\\n",
    "    (np.uint64(sessions_new.previous_sessions_duration)/1000).astype(np.uint32)\n",
    "sessions_new.timezone_offset = \\\n",
    "    (np.int64(sessions_new.timezone_offset)/1000).astype(np.int32)"
   ]
  },
  {
   "cell_type": "code",
   "execution_count": 8,
   "metadata": {
    "ExecuteTime": {
     "end_time": "2019-02-18T03:58:26.093342Z",
     "start_time": "2019-02-18T03:58:20.226332Z"
    },
    "collapsed": true
   },
   "outputs": [],
   "source": [
    "# convert longitude and latitude to float\n",
    "sessions_new.latitude = sessions_new.latitude.astype(np.float64)\n",
    "sessions_new.longitude = sessions_new.longitude.astype(np.float64)"
   ]
  },
  {
   "cell_type": "code",
   "execution_count": 9,
   "metadata": {
    "ExecuteTime": {
     "end_time": "2019-02-18T03:58:27.365184Z",
     "start_time": "2019-02-18T03:58:26.094530Z"
    },
    "collapsed": true
   },
   "outputs": [],
   "source": [
    "# convert boolean to int\n",
    "sessions_new.is_user_first_session = \\\n",
    "    sessions_new.is_user_first_session.astype('bool').astype('uint8')"
   ]
  },
  {
   "cell_type": "code",
   "execution_count": 10,
   "metadata": {
    "ExecuteTime": {
     "end_time": "2019-02-18T03:58:39.165061Z",
     "start_time": "2019-02-18T03:58:27.366242Z"
    },
    "collapsed": true
   },
   "outputs": [],
   "source": [
    "# convert object to category\n",
    "sessions_new[sessions_new.select_dtypes(include='object').columns] = \\\n",
    "    sessions_new[sessions_new.select_dtypes(include='object').columns].\\\n",
    "    astype('category')"
   ]
  },
  {
   "cell_type": "code",
   "execution_count": 11,
   "metadata": {
    "ExecuteTime": {
     "end_time": "2019-02-18T03:58:39.172335Z",
     "start_time": "2019-02-18T03:58:39.166247Z"
    },
    "scrolled": false
   },
   "outputs": [
    {
     "name": "stdout",
     "output_type": "stream",
     "text": [
      "<class 'pandas.core.frame.DataFrame'>\n",
      "RangeIndex: 5165760 entries, 0 to 5165759\n",
      "Data columns (total 17 columns):\n",
      "start_date                    category\n",
      "timezone                      category\n",
      "timezone_offset               int32\n",
      "previous_sessions_duration    uint32\n",
      "user_created_date             category\n",
      "is_user_first_session         uint8\n",
      "country                       category\n",
      "region                        category\n",
      "city                          category\n",
      "latitude                      float64\n",
      "longitude                     float64\n",
      "locale                        category\n",
      "os_name                       category\n",
      "session_index                 uint16\n",
      "device_id                     category\n",
      "user_code                     uint32\n",
      "session_code                  uint32\n",
      "dtypes: category(9), float64(2), int32(1), uint16(1), uint32(3), uint8(1)\n",
      "memory usage: 282.5 MB\n"
     ]
    }
   ],
   "source": [
    "sessions_new.info()"
   ]
  },
  {
   "cell_type": "code",
   "execution_count": 12,
   "metadata": {
    "ExecuteTime": {
     "end_time": "2019-02-18T03:59:31.773111Z",
     "start_time": "2019-02-18T03:58:39.173366Z"
    },
    "collapsed": true
   },
   "outputs": [],
   "source": [
    "sessions_new.to_csv('./newdata/sessions_new.csv', index=False)"
   ]
  },
  {
   "cell_type": "markdown",
   "metadata": {},
   "source": [
    "**Reduce memory usage of *sessions.csv* from 674.9 MB to 282.5 MB.**"
   ]
  },
  {
   "cell_type": "markdown",
   "metadata": {},
   "source": [
    "#### events"
   ]
  },
  {
   "cell_type": "code",
   "execution_count": 17,
   "metadata": {
    "ExecuteTime": {
     "end_time": "2019-02-18T04:03:54.498678Z",
     "start_time": "2019-02-18T04:03:34.808660Z"
    },
    "collapsed": true
   },
   "outputs": [],
   "source": [
    "events_new = pd.read_parquet(\"./newdata/events_new.parquet\", engine='pyarrow')"
   ]
  },
  {
   "cell_type": "code",
   "execution_count": 29,
   "metadata": {
    "ExecuteTime": {
     "end_time": "2019-02-17T23:59:50.084008Z",
     "start_time": "2019-02-17T23:59:50.079100Z"
    }
   },
   "outputs": [
    {
     "name": "stdout",
     "output_type": "stream",
     "text": [
      "<class 'pandas.core.frame.DataFrame'>\n",
      "RangeIndex: 111946597 entries, 0 to 111946596\n",
      "Data columns (total 5 columns):\n",
      "event           object\n",
      "event_value     object\n",
      "event_time      object\n",
      "user_code       object\n",
      "session_code    object\n",
      "dtypes: object(5)\n",
      "memory usage: 4.2+ GB\n"
     ]
    }
   ],
   "source": [
    "events_new.info()"
   ]
  },
  {
   "cell_type": "code",
   "execution_count": 18,
   "metadata": {
    "ExecuteTime": {
     "end_time": "2019-02-18T04:04:56.139299Z",
     "start_time": "2019-02-18T04:03:54.499957Z"
    },
    "collapsed": true
   },
   "outputs": [],
   "source": [
    "events_new.user_code = events_new.user_code.astype(np.uint32)\n",
    "events_new.session_code = events_new.session_code.astype(np.uint32)\n",
    "\n",
    "events_new.event = events_new.event.astype('category')\n",
    "events_new.event_value = events_new.event_value.astype(np.float64)\n",
    "events_new.event_date = events_new.event_date.astype('category')"
   ]
  },
  {
   "cell_type": "code",
   "execution_count": 19,
   "metadata": {
    "ExecuteTime": {
     "end_time": "2019-02-18T04:04:56.736798Z",
     "start_time": "2019-02-18T04:04:56.140382Z"
    },
    "scrolled": true
   },
   "outputs": [
    {
     "name": "stdout",
     "output_type": "stream",
     "text": [
      "<class 'pandas.core.frame.DataFrame'>\n",
      "RangeIndex: 111946597 entries, 0 to 111946596\n",
      "Data columns (total 5 columns):\n",
      "event           category\n",
      "event_value     float64\n",
      "event_date      category\n",
      "user_code       uint32\n",
      "session_code    uint32\n",
      "dtypes: category(2), float64(1), uint32(2)\n",
      "memory usage: 1.9 GB\n"
     ]
    }
   ],
   "source": [
    "events_new.info()"
   ]
  },
  {
   "cell_type": "markdown",
   "metadata": {},
   "source": [
    "**Reduce memory usage of *events.csv* from 4.2+ GB to 1.9 GB.**"
   ]
  },
  {
   "cell_type": "code",
   "execution_count": 20,
   "metadata": {
    "ExecuteTime": {
     "end_time": "2019-02-18T04:10:34.200934Z",
     "start_time": "2019-02-18T04:04:56.737880Z"
    },
    "collapsed": true
   },
   "outputs": [],
   "source": [
    "events_new.to_csv('./newdata/events_new.csv', index=False)"
   ]
  },
  {
   "cell_type": "markdown",
   "metadata": {},
   "source": [
    "####  attributes"
   ]
  },
  {
   "cell_type": "code",
   "execution_count": 37,
   "metadata": {
    "ExecuteTime": {
     "end_time": "2019-02-18T00:12:58.131139Z",
     "start_time": "2019-02-18T00:12:08.672389Z"
    },
    "collapsed": true
   },
   "outputs": [],
   "source": [
    "attributes_new = pd.read_parquet(\"./newdata/attributes.parquet\", engine='pyarrow')"
   ]
  },
  {
   "cell_type": "code",
   "execution_count": 38,
   "metadata": {
    "ExecuteTime": {
     "end_time": "2019-02-18T00:13:00.449950Z",
     "start_time": "2019-02-18T00:13:00.445333Z"
    }
   },
   "outputs": [
    {
     "name": "stdout",
     "output_type": "stream",
     "text": [
      "<class 'pandas.core.frame.DataFrame'>\n",
      "RangeIndex: 185590092 entries, 0 to 185590091\n",
      "Data columns (total 4 columns):\n",
      "session_code       object\n",
      "attribute          object\n",
      "attribute_value    object\n",
      "user_code          object\n",
      "dtypes: object(4)\n",
      "memory usage: 5.5+ GB\n"
     ]
    }
   ],
   "source": [
    "attributes_new.info()"
   ]
  },
  {
   "cell_type": "code",
   "execution_count": 40,
   "metadata": {
    "ExecuteTime": {
     "end_time": "2019-02-18T00:15:44.720885Z",
     "start_time": "2019-02-18T00:13:44.279894Z"
    },
    "collapsed": true
   },
   "outputs": [],
   "source": [
    "attributes_new.session_code = attributes_new.session_code.astype(np.uint32)\n",
    "attributes_new.user_code = attributes_new.user_code.astype(np.uint32)\n",
    "attributes_new.attribute = attributes_new.attribute.astype(np.uint8)\n",
    "\n",
    "attributes_new.attribute_value = \\\n",
    "    attributes_new.attribute_value.astype('category')"
   ]
  },
  {
   "cell_type": "code",
   "execution_count": 41,
   "metadata": {
    "ExecuteTime": {
     "end_time": "2019-02-18T00:15:45.347068Z",
     "start_time": "2019-02-18T00:15:44.722143Z"
    }
   },
   "outputs": [
    {
     "name": "stdout",
     "output_type": "stream",
     "text": [
      "<class 'pandas.core.frame.DataFrame'>\n",
      "RangeIndex: 185590092 entries, 0 to 185590091\n",
      "Data columns (total 4 columns):\n",
      "session_code       uint32\n",
      "attribute          uint8\n",
      "attribute_value    category\n",
      "user_code          uint32\n",
      "dtypes: category(1), uint32(2), uint8(1)\n",
      "memory usage: 2.3 GB\n"
     ]
    }
   ],
   "source": [
    "attributes_new.info()"
   ]
  },
  {
   "cell_type": "markdown",
   "metadata": {},
   "source": [
    "**Reduce memory usage of *attributes.csv* from 5.5+ GB to 2.3 GB.**"
   ]
  },
  {
   "cell_type": "code",
   "execution_count": null,
   "metadata": {
    "collapsed": true
   },
   "outputs": [],
   "source": [
    "attributes_new.to_csv('./newdata/attributes_new.csv', index=False)"
   ]
  },
  {
   "cell_type": "markdown",
   "metadata": {},
   "source": [
    "# EDA"
   ]
  },
  {
   "cell_type": "code",
   "execution_count": 2,
   "metadata": {
    "ExecuteTime": {
     "end_time": "2019-02-18T06:46:10.189440Z",
     "start_time": "2019-02-18T06:46:09.620530Z"
    },
    "collapsed": true
   },
   "outputs": [],
   "source": [
    "import pandas as pd\n",
    "import pyarrow.parquet as pq\n",
    "import numpy as np\n",
    "import matplotlib.pyplot as plt\n",
    "import seaborn as sns\n",
    "\n",
    "import datetime\n",
    "\n",
    "import warnings\n",
    "warnings.filterwarnings('ignore')"
   ]
  },
  {
   "cell_type": "markdown",
   "metadata": {},
   "source": [
    "## sessions"
   ]
  },
  {
   "cell_type": "code",
   "execution_count": 73,
   "metadata": {
    "ExecuteTime": {
     "end_time": "2019-02-18T08:09:11.290508Z",
     "start_time": "2019-02-18T08:08:42.975482Z"
    },
    "collapsed": true
   },
   "outputs": [],
   "source": [
    "sessions_dtypes = {'start_date': 'category', \n",
    "                   'timezone': 'category', \n",
    "                   'timezone_offset': np.int32,\n",
    "                   'previous_sessions_duration': np.uint32,\n",
    "                   'user_created_date': 'category',\n",
    "                   'is_user_first_session': np.uint8,\n",
    "                   'country': 'category',\n",
    "                   'region': 'category',\n",
    "                   'city': 'category',\n",
    "                   'latitude': np.float64,\n",
    "                   'longitude': np.float64,\n",
    "                   'locale': 'category',\n",
    "                   'os_name': 'category',\n",
    "                   'session_index': np.uint32,\n",
    "                   'device_id': 'category',\n",
    "                   'user_code': np.uint32,\n",
    "                   'session_code': np.uint32\n",
    "                  }\n",
    "sessions_new = pd.read_csv('./newdata/sessions_new.csv', dtype=sessions_dtypes)"
   ]
  },
  {
   "cell_type": "code",
   "execution_count": 74,
   "metadata": {
    "ExecuteTime": {
     "end_time": "2019-02-18T08:09:11.297132Z",
     "start_time": "2019-02-18T08:09:11.291658Z"
    }
   },
   "outputs": [
    {
     "name": "stdout",
     "output_type": "stream",
     "text": [
      "<class 'pandas.core.frame.DataFrame'>\n",
      "RangeIndex: 5165760 entries, 0 to 5165759\n",
      "Data columns (total 17 columns):\n",
      "start_date                    category\n",
      "timezone                      category\n",
      "timezone_offset               int32\n",
      "previous_sessions_duration    uint32\n",
      "user_created_date             category\n",
      "is_user_first_session         uint8\n",
      "country                       category\n",
      "region                        category\n",
      "city                          category\n",
      "latitude                      float64\n",
      "longitude                     float64\n",
      "locale                        category\n",
      "os_name                       category\n",
      "session_index                 uint32\n",
      "device_id                     category\n",
      "user_code                     uint32\n",
      "session_code                  uint32\n",
      "dtypes: category(9), float64(2), int32(1), uint32(4), uint8(1)\n",
      "memory usage: 292.3 MB\n"
     ]
    }
   ],
   "source": [
    "sessions_new.info()"
   ]
  },
  {
   "cell_type": "markdown",
   "metadata": {},
   "source": [
    "### statistical description"
   ]
  },
  {
   "cell_type": "code",
   "execution_count": 50,
   "metadata": {
    "ExecuteTime": {
     "end_time": "2019-02-18T01:16:05.411381Z",
     "start_time": "2019-02-18T01:16:04.458171Z"
    },
    "scrolled": true
   },
   "outputs": [
    {
     "data": {
      "text/html": [
       "<div>\n",
       "<style scoped>\n",
       "    .dataframe tbody tr th:only-of-type {\n",
       "        vertical-align: middle;\n",
       "    }\n",
       "\n",
       "    .dataframe tbody tr th {\n",
       "        vertical-align: top;\n",
       "    }\n",
       "\n",
       "    .dataframe thead th {\n",
       "        text-align: right;\n",
       "    }\n",
       "</style>\n",
       "<table border=\"1\" class=\"dataframe\">\n",
       "  <thead>\n",
       "    <tr style=\"text-align: right;\">\n",
       "      <th></th>\n",
       "      <th>previous_sessions_duration</th>\n",
       "      <th>latitude</th>\n",
       "      <th>longitude</th>\n",
       "      <th>session_index</th>\n",
       "    </tr>\n",
       "  </thead>\n",
       "  <tbody>\n",
       "    <tr>\n",
       "      <th>count</th>\n",
       "      <td>5.165760e+06</td>\n",
       "      <td>5.163030e+06</td>\n",
       "      <td>5.163030e+06</td>\n",
       "      <td>5.165760e+06</td>\n",
       "    </tr>\n",
       "    <tr>\n",
       "      <th>mean</th>\n",
       "      <td>4.375607e+04</td>\n",
       "      <td>2.938464e+01</td>\n",
       "      <td>-2.152131e+01</td>\n",
       "      <td>3.975427e+01</td>\n",
       "    </tr>\n",
       "    <tr>\n",
       "      <th>std</th>\n",
       "      <td>7.677649e+04</td>\n",
       "      <td>2.210644e+01</td>\n",
       "      <td>8.031817e+01</td>\n",
       "      <td>6.650301e+01</td>\n",
       "    </tr>\n",
       "    <tr>\n",
       "      <th>min</th>\n",
       "      <td>0.000000e+00</td>\n",
       "      <td>-5.480191e+01</td>\n",
       "      <td>-1.752049e+02</td>\n",
       "      <td>1.000000e+00</td>\n",
       "    </tr>\n",
       "    <tr>\n",
       "      <th>25%</th>\n",
       "      <td>3.466000e+03</td>\n",
       "      <td>2.102776e+01</td>\n",
       "      <td>-8.678160e+01</td>\n",
       "      <td>4.000000e+00</td>\n",
       "    </tr>\n",
       "    <tr>\n",
       "      <th>50%</th>\n",
       "      <td>1.595300e+04</td>\n",
       "      <td>3.575647e+01</td>\n",
       "      <td>-7.023116e+01</td>\n",
       "      <td>1.500000e+01</td>\n",
       "    </tr>\n",
       "    <tr>\n",
       "      <th>75%</th>\n",
       "      <td>5.177400e+04</td>\n",
       "      <td>4.253574e+01</td>\n",
       "      <td>3.037941e+01</td>\n",
       "      <td>4.700000e+01</td>\n",
       "    </tr>\n",
       "    <tr>\n",
       "      <th>max</th>\n",
       "      <td>1.956531e+06</td>\n",
       "      <td>7.822318e+01</td>\n",
       "      <td>1.784501e+02</td>\n",
       "      <td>1.404000e+03</td>\n",
       "    </tr>\n",
       "  </tbody>\n",
       "</table>\n",
       "</div>"
      ],
      "text/plain": [
       "       previous_sessions_duration      latitude     longitude  session_index\n",
       "count                5.165760e+06  5.163030e+06  5.163030e+06   5.165760e+06\n",
       "mean                 4.375607e+04  2.938464e+01 -2.152131e+01   3.975427e+01\n",
       "std                  7.677649e+04  2.210644e+01  8.031817e+01   6.650301e+01\n",
       "min                  0.000000e+00 -5.480191e+01 -1.752049e+02   1.000000e+00\n",
       "25%                  3.466000e+03  2.102776e+01 -8.678160e+01   4.000000e+00\n",
       "50%                  1.595300e+04  3.575647e+01 -7.023116e+01   1.500000e+01\n",
       "75%                  5.177400e+04  4.253574e+01  3.037941e+01   4.700000e+01\n",
       "max                  1.956531e+06  7.822318e+01  1.784501e+02   1.404000e+03"
      ]
     },
     "execution_count": 50,
     "metadata": {},
     "output_type": "execute_result"
    }
   ],
   "source": [
    "sessions_new[[\n",
    "    'previous_sessions_duration', 'latitude', 'longitude', 'session_index'\n",
    "]].describe()"
   ]
  },
  {
   "cell_type": "code",
   "execution_count": 76,
   "metadata": {
    "ExecuteTime": {
     "end_time": "2019-02-18T08:13:19.348807Z",
     "start_time": "2019-02-18T08:13:18.583834Z"
    }
   },
   "outputs": [
    {
     "name": "stdout",
     "output_type": "stream",
     "text": [
      "The total number of countries is 229.\n",
      "The total number of regions is 756.\n",
      "The total number of cities is 31541.\n",
      "The total number of locale is 1760.\n",
      "The total number of os_name is 4.\n",
      "The total number of device_id is 612318.\n"
     ]
    }
   ],
   "source": [
    "print(f\"The total number of countries is {len(sessions_new.country.unique())}.\")\n",
    "print(f\"The total number of regions is {len(sessions_new.region.unique())}.\")\n",
    "print(f\"The total number of cities is {len(sessions_new.city.unique())}.\")\n",
    "print(f\"The total number of locale is {len(sessions_new.locale.unique())}.\")\n",
    "print(f\"The total number of os_name is {len(sessions_new.os_name.unique())}.\")\n",
    "print(f\"The total number of device_id is {len(sessions_new.device_id.unique())}.\")"
   ]
  },
  {
   "cell_type": "markdown",
   "metadata": {},
   "source": []
  },
  {
   "cell_type": "markdown",
   "metadata": {},
   "source": [
    "### distribution of number of new users/sessions vs date"
   ]
  },
  {
   "cell_type": "code",
   "execution_count": 57,
   "metadata": {
    "ExecuteTime": {
     "end_time": "2019-02-18T01:29:05.402943Z",
     "start_time": "2019-02-18T01:29:02.488431Z"
    },
    "collapsed": true
   },
   "outputs": [],
   "source": [
    "user_num_created_time = sessions_new.groupby('user_created_time').\\\n",
    "                        user_code.nunique().\\\n",
    "                        reset_index()\n",
    "session_num_date = sessions_new.groupby('start_time').\\\n",
    "                   session_code.nunique().\\\n",
    "                   reset_index()"
   ]
  },
  {
   "cell_type": "code",
   "execution_count": 100,
   "metadata": {
    "ExecuteTime": {
     "end_time": "2019-02-18T02:06:12.448166Z",
     "start_time": "2019-02-18T02:06:11.992572Z"
    }
   },
   "outputs": [
    {
     "data": {
      "image/png": "[encoded data removed]",
      "text/plain": [
       "<Figure size 576x396 with 2 Axes>"
      ]
     },
     "metadata": {},
     "output_type": "display_data"
    }
   ],
   "source": [
    "fig, (ax1, ax2) = plt.subplots(2, sharex=True)\n",
    "ax1.bar(x=user_num_created_time.user_created_time.tolist(),\n",
    "        height=user_num_created_time.user_code.tolist())\n",
    "handle1 = ax1.axvline('2018-12-01', color='r')\n",
    "# ax1.tick_params(axis='x', rotation=90)\n",
    "ax1.set_title(label='number of new users vs date')\n",
    "ax1.legend([handle1], ['2018-12-01'])\n",
    "ax2.bar(x=session_num_date.start_time.tolist(),\n",
    "        height=session_num_date.session_code.tolist())\n",
    "handle2 = ax2.axvline('2018-12-01', color='r')\n",
    "ax2.tick_params(axis='x', rotation=30)\n",
    "ax2.set_title(label='number of sessions vs date')\n",
    "ax2.legend([handle2], ['2018-12-01'])\n",
    "plt.show()"
   ]
  },
  {
   "cell_type": "markdown",
   "metadata": {},
   "source": [
    "- From the first plot, we can see s obvious pattern for the number of new users as date changes. The length of each season is 7, which indicates there is a weekly seasonality for new users' registration. This is reasonable intuitively, because there would be more new users on weekends.\n",
    "- In the second plot, the same pattern appears but it seems weaker than the first one. One possible reason for this phenomena might be that the number of sessions in each day is almost ten times as the number of new users. With the same sizes of the two plots, only a little difference in the second plot would indicate a large difference in real amount. Basically, the trend in second plot is more obvious. The total number of sessions in late Sep. and early Oct. is pretty small, and there was a peak in the middle of Nov., then suddenly decreased.<br />\n",
    "\n",
    "From the analysis above, extracting a new feature `day_of_week` would be helpful to predict the pattern of number of users and number of sessions for each day. The more new users are and the more sessions are, the more likely the purchases happen.\n"
   ]
  },
  {
   "cell_type": "markdown",
   "metadata": {},
   "source": [
    "### distribution of `session_index`"
   ]
  },
  {
   "cell_type": "code",
   "execution_count": 90,
   "metadata": {
    "ExecuteTime": {
     "end_time": "2019-02-18T08:28:25.926396Z",
     "start_time": "2019-02-18T08:28:21.010047Z"
    }
   },
   "outputs": [
    {
     "data": {
      "text/plain": [
       "<Figure size 1152x576 with 0 Axes>"
      ]
     },
     "metadata": {},
     "output_type": "display_data"
    },
    {
     "data": {
      "image/png": "[encoded data removed]",
      "text/plain": [
       "<Figure size 576x396 with 1 Axes>"
      ]
     },
     "metadata": {},
     "output_type": "display_data"
    }
   ],
   "source": [
    "plt.figure(figsize=(16,8))\n",
    "sns.set_style('whitegrid')\n",
    "fig, ax = plt.subplots()\n",
    "ax.hist(sessions_new.session_index, bins=1800, color='burlywood')\n",
    "deciles = sessions_new.session_index.quantile([.5, .9, .99])\n",
    "for i, pos in enumerate(deciles):\n",
    "    handle = plt.axvline(pos, color='r')\n",
    "ax.legend([handle], ['deciles'])\n",
    "ax.set_yscale('log')\n",
    "ax.set_xscale('log')\n",
    "plt.title('Distribution of session index')\n",
    "plt.show()"
   ]
  },
  {
   "cell_type": "markdown",
   "metadata": {},
   "source": [
    "We take log transformation for the `session_index`, it turned out that although we only have the users who created the accounts between Oct 1st to Dec 1st, there are many users would have high session index, which means some of those new users have a high frequency to use the app."
   ]
  },
  {
   "cell_type": "markdown",
   "metadata": {},
   "source": []
  },
  {
   "cell_type": "markdown",
   "metadata": {},
   "source": [
    "### region analysis\n",
    "We also want to check if geographic data is helpful."
   ]
  },
  {
   "cell_type": "markdown",
   "metadata": {},
   "source": [
    "#### longitude&latitude heatmap"
   ]
  },
  {
   "cell_type": "code",
   "execution_count": 28,
   "metadata": {
    "ExecuteTime": {
     "end_time": "2019-02-18T05:48:56.579620Z",
     "start_time": "2019-02-18T05:48:55.949199Z"
    },
    "collapsed": true
   },
   "outputs": [],
   "source": [
    "longitude = pd.cut(\n",
    "    sessions_new.longitude[(sessions_new.longitude.notnull()) &\n",
    "                           (sessions_new.latitude.notnull())],\n",
    "    bins=np.arange(-1.9e+02, 1.9e+02, 18),\n",
    "    include_lowest=True,\n",
    "    right=True)\n",
    "latitude = pd.cut(\n",
    "    sessions_new.latitude[(sessions_new.longitude.notnull()) &\n",
    "                          (sessions_new.latitude.notnull())],\n",
    "    bins=np.arange(-6e+01, 8.5e+01, 10),\n",
    "    include_lowest=True,\n",
    "    right=True)"
   ]
  },
  {
   "cell_type": "code",
   "execution_count": 29,
   "metadata": {
    "ExecuteTime": {
     "end_time": "2019-02-18T05:48:57.974144Z",
     "start_time": "2019-02-18T05:48:57.129364Z"
    },
    "collapsed": true
   },
   "outputs": [],
   "source": [
    "longmap = pd.Series(longitude.sort_values().unique()).\\\n",
    "          reset_index().rename(columns={'index':'longidx', 0:'longitude'}).\\\n",
    "          set_index('longitude')\n",
    "latimap = pd.Series(latitude.sort_values().unique()).\\\n",
    "          reset_index().rename(columns={'index':'latiidx', 0:'latitude'}).\\\n",
    "          set_index('latitude')"
   ]
  },
  {
   "cell_type": "code",
   "execution_count": 85,
   "metadata": {
    "ExecuteTime": {
     "end_time": "2019-02-18T06:26:01.950538Z",
     "start_time": "2019-02-18T06:26:01.709613Z"
    },
    "collapsed": true
   },
   "outputs": [],
   "source": [
    "geography_info = pd.concat([longitude, latitude], axis=1).\\\n",
    "                 groupby(['longitude', 'latitude']).\\\n",
    "                 size().\\\n",
    "                 reset_index().\\\n",
    "                 rename(columns={0:'cnt'})\n",
    "total_cnt = np.sum(geography_info.cnt)\n",
    "geography_info['proportion_cnt'] = np.ceil(geography_info.cnt/total_cnt*100000)\n",
    "geography_info = geography_info.join(longmap, 'longitude').join(latimap, 'latitude')"
   ]
  },
  {
   "cell_type": "code",
   "execution_count": 87,
   "metadata": {
    "ExecuteTime": {
     "end_time": "2019-02-18T06:26:07.806654Z",
     "start_time": "2019-02-18T06:26:07.722974Z"
    },
    "collapsed": true
   },
   "outputs": [],
   "source": [
    "fake_geo = pd.DataFrame(columns=longmap.index.tolist(), \n",
    "                        index=latimap.index.tolist())\n",
    "for row in geography_info.iterrows():\n",
    "    fake_geo.loc[row[1]['latitude'], row[1]['longitude']] = row[1]['proportion_cnt']"
   ]
  },
  {
   "cell_type": "code",
   "execution_count": 88,
   "metadata": {
    "ExecuteTime": {
     "end_time": "2019-02-18T06:26:08.765851Z",
     "start_time": "2019-02-18T06:26:08.761161Z"
    },
    "collapsed": true
   },
   "outputs": [],
   "source": [
    "fake_geo.replace(np.float('nan'), 0, inplace=True)"
   ]
  },
  {
   "cell_type": "code",
   "execution_count": 91,
   "metadata": {
    "ExecuteTime": {
     "end_time": "2019-02-18T06:27:12.559382Z",
     "start_time": "2019-02-18T06:27:10.212167Z"
    },
    "scrolled": false
   },
   "outputs": [
    {
     "data": {
      "image/png": "[encoded data removed]",
      "text/plain": [
       "<Figure size 1080x720 with 2 Axes>"
      ]
     },
     "metadata": {},
     "output_type": "display_data"
    }
   ],
   "source": [
    "fig, ax = plt.subplots(figsize=(15,10))\n",
    "fig.subplots_adjust(top=.94)\n",
    "plt.suptitle('Distribution of number of sessions in different region')\n",
    "\n",
    "ax.set_yticklabels(ax.get_yticklabels(), ha='right',fontsize=10, weight='bold')\n",
    "ax.set_xticklabels(ax.get_xticklabels(), fontsize=10, weight='bold')\n",
    "sns.heatmap(fake_geo, annot=True, fmt='.2f', linewidths=.3, \n",
    "            ax=ax, cmap='RdPu')\n",
    "plt.show()"
   ]
  },
  {
   "cell_type": "markdown",
   "metadata": {
    "ExecuteTime": {
     "end_time": "2019-02-18T03:09:00.094436Z",
     "start_time": "2019-02-18T03:08:59.547257Z"
    },
    "collapsed": true
   },
   "source": []
  },
  {
   "cell_type": "markdown",
   "metadata": {},
   "source": [
    "From the heatmap above, we can say that the geographic feature might be helpful in our model."
   ]
  },
  {
   "cell_type": "markdown",
   "metadata": {
    "collapsed": true
   },
   "source": [
    "#### country"
   ]
  },
  {
   "cell_type": "code",
   "execution_count": 8,
   "metadata": {
    "ExecuteTime": {
     "end_time": "2019-02-18T04:38:15.942460Z",
     "start_time": "2019-02-18T04:38:14.274411Z"
    },
    "collapsed": true,
    "scrolled": true
   },
   "outputs": [],
   "source": [
    "user_num_country = sessions_new.groupby('country').\\\n",
    "                   user_code.nunique().reset_index()"
   ]
  },
  {
   "cell_type": "code",
   "execution_count": 18,
   "metadata": {
    "ExecuteTime": {
     "end_time": "2019-02-18T04:50:58.249412Z",
     "start_time": "2019-02-18T04:50:58.246758Z"
    },
    "scrolled": false
   },
   "outputs": [
    {
     "name": "stdout",
     "output_type": "stream",
     "text": [
      "There are 228 countries in total.\n"
     ]
    }
   ],
   "source": [
    "print(f'There are {user_num_country.shape[0]} countries in total.')"
   ]
  },
  {
   "cell_type": "code",
   "execution_count": 22,
   "metadata": {
    "ExecuteTime": {
     "end_time": "2019-02-18T04:52:30.324885Z",
     "start_time": "2019-02-18T04:52:30.318132Z"
    },
    "scrolled": true
   },
   "outputs": [
    {
     "data": {
      "text/html": [
       "<div>\n",
       "<style scoped>\n",
       "    .dataframe tbody tr th:only-of-type {\n",
       "        vertical-align: middle;\n",
       "    }\n",
       "\n",
       "    .dataframe tbody tr th {\n",
       "        vertical-align: top;\n",
       "    }\n",
       "\n",
       "    .dataframe thead th {\n",
       "        text-align: right;\n",
       "    }\n",
       "</style>\n",
       "<table border=\"1\" class=\"dataframe\">\n",
       "  <thead>\n",
       "    <tr style=\"text-align: right;\">\n",
       "      <th></th>\n",
       "      <th>country</th>\n",
       "      <th>user_code</th>\n",
       "    </tr>\n",
       "  </thead>\n",
       "  <tbody>\n",
       "    <tr>\n",
       "      <th>165</th>\n",
       "      <td>US</td>\n",
       "      <td>279640</td>\n",
       "    </tr>\n",
       "    <tr>\n",
       "      <th>52</th>\n",
       "      <td>GB</td>\n",
       "      <td>44681</td>\n",
       "    </tr>\n",
       "    <tr>\n",
       "      <th>72</th>\n",
       "      <td>IN</td>\n",
       "      <td>43238</td>\n",
       "    </tr>\n",
       "    <tr>\n",
       "      <th>126</th>\n",
       "      <td>PH</td>\n",
       "      <td>26964</td>\n",
       "    </tr>\n",
       "    <tr>\n",
       "      <th>26</th>\n",
       "      <td>CA</td>\n",
       "      <td>19981</td>\n",
       "    </tr>\n",
       "  </tbody>\n",
       "</table>\n",
       "</div>"
      ],
      "text/plain": [
       "    country  user_code\n",
       "165      US     279640\n",
       "52       GB      44681\n",
       "72       IN      43238\n",
       "126      PH      26964\n",
       "26       CA      19981"
      ]
     },
     "execution_count": 22,
     "metadata": {},
     "output_type": "execute_result"
    }
   ],
   "source": [
    "user_num_country.sort_values('user_code', ascending=False).head(5)"
   ]
  },
  {
   "cell_type": "code",
   "execution_count": 28,
   "metadata": {
    "ExecuteTime": {
     "end_time": "2019-02-18T05:00:21.585327Z",
     "start_time": "2019-02-18T05:00:21.582001Z"
    }
   },
   "outputs": [
    {
     "name": "stdout",
     "output_type": "stream",
     "text": [
      "We can see that there are 45.0% of the users in this data set from US.\n",
      "We would consider the user number less than 100 would have effect in our analysis.\n"
     ]
    }
   ],
   "source": [
    "print(f\"We can see that there are {np.around(279640/np.sum(user_num_country.user_code)*100)}\\\n",
    "% of the users in this data set from US.\")\n",
    "print(\"We would consider the user number less than 100 would have effect in our analysis.\")"
   ]
  },
  {
   "cell_type": "code",
   "execution_count": 32,
   "metadata": {
    "ExecuteTime": {
     "end_time": "2019-02-18T05:02:50.684630Z",
     "start_time": "2019-02-18T05:02:48.460944Z"
    }
   },
   "outputs": [
    {
     "data": {
      "image/png": "[encoded data removed]",
      "text/plain": [
       "<Figure size 1152x576 with 1 Axes>"
      ]
     },
     "metadata": {},
     "output_type": "display_data"
    }
   ],
   "source": [
    "plt.figure(figsize=(16,8))\n",
    "plt.bar(\n",
    "    x=user_num_country[(user_num_country.country != 'US')\n",
    "                       & (user_num_country.user_code < 100)].country.tolist(),\n",
    "    height=user_num_country[(user_num_country.country != 'US') & (\n",
    "        user_num_country.user_code < 100)].user_code.tolist())\n",
    "plt.title('number of users in different country')\n",
    "plt.xticks(rotation=90)\n",
    "plt.show()"
   ]
  },
  {
   "cell_type": "markdown",
   "metadata": {},
   "source": [
    "### session duration"
   ]
  },
  {
   "cell_type": "code",
   "execution_count": 78,
   "metadata": {
    "ExecuteTime": {
     "end_time": "2019-02-18T08:16:49.851996Z",
     "start_time": "2019-02-18T08:16:45.218532Z"
    }
   },
   "outputs": [],
   "source": [
    "duration = sessions_new.groupby(['user_code','session_code']).\\\n",
    "           previous_sessions_duration.mean().reset_index()"
   ]
  },
  {
   "cell_type": "code",
   "execution_count": 99,
   "metadata": {
    "ExecuteTime": {
     "end_time": "2019-02-18T08:31:48.835828Z",
     "start_time": "2019-02-18T08:31:36.482908Z"
    },
    "scrolled": false
   },
   "outputs": [
    {
     "data": {
      "image/png": "[encoded data removed]",
      "text/plain": [
       "<Figure size 1152x576 with 1 Axes>"
      ]
     },
     "metadata": {},
     "output_type": "display_data"
    }
   ],
   "source": [
    "sns.set_style('whitegrid')\n",
    "fig, ax = plt.subplots(figsize=(16,8))\n",
    "ax.hist(duration.previous_sessions_duration, bins=5000, \n",
    "        color='mistyrose', alpha=0.8)\n",
    "deciles = sessions_new.session_index.quantile([.5, .9, .99, .999])\n",
    "for i, pos in enumerate(deciles):\n",
    "    handle = plt.axvline(pos, color='darkseagreen')\n",
    "ax.legend([handle], ['deciles'])\n",
    "ax.set_yscale('log')\n",
    "ax.set_xscale('log')\n",
    "plt.title('Distribution of previous sessions duration')\n",
    "plt.show()"
   ]
  },
  {
   "cell_type": "markdown",
   "metadata": {},
   "source": [
    "Most of the sessions would last in 1000 seconds(because we can see that more than 99.9% sessions has less than 1000 seconds duration."
   ]
  },
  {
   "cell_type": "markdown",
   "metadata": {},
   "source": [
    "## events"
   ]
  },
  {
   "cell_type": "code",
   "execution_count": 3,
   "metadata": {
    "ExecuteTime": {
     "end_time": "2019-02-18T06:47:04.002761Z",
     "start_time": "2019-02-18T06:46:13.523075Z"
    }
   },
   "outputs": [],
   "source": [
    "events_dtypes = {'event': 'category',\n",
    "                 'event_value': np.float64,\n",
    "                 'event_date': 'category',\n",
    "                 'user_code': np.uint32,\n",
    "                 'session_code': np.uint32}\n",
    "\n",
    "events_new = pd.read_csv('./newdata/events_new.csv', dtype=events_dtypes)"
   ]
  },
  {
   "cell_type": "markdown",
   "metadata": {},
   "source": [
    "### events amount vs date"
   ]
  },
  {
   "cell_type": "code",
   "execution_count": 7,
   "metadata": {
    "ExecuteTime": {
     "end_time": "2019-02-18T06:54:58.554530Z",
     "start_time": "2019-02-18T06:54:50.760549Z"
    },
    "collapsed": true
   },
   "outputs": [],
   "source": [
    "events_num_date = events_new.\\\n",
    "                  groupby('event_date').\\\n",
    "                  event.count().reset_index()"
   ]
  },
  {
   "cell_type": "code",
   "execution_count": 10,
   "metadata": {
    "ExecuteTime": {
     "end_time": "2019-02-18T06:56:46.285797Z",
     "start_time": "2019-02-18T06:56:46.279750Z"
    }
   },
   "outputs": [
    {
     "data": {
      "text/html": [
       "<div>\n",
       "<style scoped>\n",
       "    .dataframe tbody tr th:only-of-type {\n",
       "        vertical-align: middle;\n",
       "    }\n",
       "\n",
       "    .dataframe tbody tr th {\n",
       "        vertical-align: top;\n",
       "    }\n",
       "\n",
       "    .dataframe thead th {\n",
       "        text-align: right;\n",
       "    }\n",
       "</style>\n",
       "<table border=\"1\" class=\"dataframe\">\n",
       "  <thead>\n",
       "    <tr style=\"text-align: right;\">\n",
       "      <th></th>\n",
       "      <th>event_date</th>\n",
       "      <th>event</th>\n",
       "    </tr>\n",
       "  </thead>\n",
       "  <tbody>\n",
       "    <tr>\n",
       "      <th>0</th>\n",
       "      <td>2018-10-01</td>\n",
       "      <td>310589</td>\n",
       "    </tr>\n",
       "    <tr>\n",
       "      <th>1</th>\n",
       "      <td>2018-10-02</td>\n",
       "      <td>597933</td>\n",
       "    </tr>\n",
       "    <tr>\n",
       "      <th>2</th>\n",
       "      <td>2018-10-03</td>\n",
       "      <td>676595</td>\n",
       "    </tr>\n",
       "  </tbody>\n",
       "</table>\n",
       "</div>"
      ],
      "text/plain": [
       "   event_date   event\n",
       "0  2018-10-01  310589\n",
       "1  2018-10-02  597933\n",
       "2  2018-10-03  676595"
      ]
     },
     "execution_count": 10,
     "metadata": {},
     "output_type": "execute_result"
    }
   ],
   "source": [
    "events_num_date.head(3)"
   ]
  },
  {
   "cell_type": "code",
   "execution_count": 98,
   "metadata": {
    "ExecuteTime": {
     "end_time": "2019-02-18T08:31:28.793401Z",
     "start_time": "2019-02-18T08:31:27.111994Z"
    },
    "scrolled": false
   },
   "outputs": [
    {
     "data": {
      "image/png": "[encoded data removed]",
      "text/plain": [
       "<Figure size 1152x504 with 1 Axes>"
      ]
     },
     "metadata": {},
     "output_type": "display_data"
    }
   ],
   "source": [
    "plt.figure(figsize=(16,7))\n",
    "plt.bar(x=events_num_date.event_date.tolist(),\n",
    "        height=events_num_date.event.tolist(),\n",
    "        color='mistyrose')\n",
    "handle = plt.axvline('2018-12-01', color='r', label='2018-12-01')\n",
    "plt.tick_params(axis='x', rotation=90)\n",
    "plt.title('number of events vs date')\n",
    "plt.show()"
   ]
  },
  {
   "cell_type": "markdown",
   "metadata": {},
   "source": [
    "The number of events vs date also shows a weekly seasonality pattern. "
   ]
  },
  {
   "cell_type": "markdown",
   "metadata": {},
   "source": [
    "### event is purchase"
   ]
  },
  {
   "cell_type": "code",
   "execution_count": 25,
   "metadata": {
    "ExecuteTime": {
     "end_time": "2019-02-18T07:06:41.487597Z",
     "start_time": "2019-02-18T07:06:41.338863Z"
    }
   },
   "outputs": [
    {
     "name": "stdout",
     "output_type": "stream",
     "text": [
      "There are 265034 records of purchases.\n"
     ]
    }
   ],
   "source": [
    "purchase = events_new[(events_new.event=='8')] \n",
    "print(f'There are {purchase.shape[0]} records of purchases.')"
   ]
  },
  {
   "cell_type": "code",
   "execution_count": 21,
   "metadata": {
    "ExecuteTime": {
     "end_time": "2019-02-18T07:02:55.239810Z",
     "start_time": "2019-02-18T07:02:55.212409Z"
    }
   },
   "outputs": [
    {
     "name": "stdout",
     "output_type": "stream",
     "text": [
      "<class 'pandas.core.frame.DataFrame'>\n",
      "Int64Index: 265034 entries, 151 to 111946039\n",
      "Data columns (total 5 columns):\n",
      "event           265034 non-null category\n",
      "event_value     265034 non-null float64\n",
      "event_date      265034 non-null category\n",
      "user_code       265034 non-null uint32\n",
      "session_code    265034 non-null uint32\n",
      "dtypes: category(2), float64(1), uint32(2)\n",
      "memory usage: 6.6 MB\n"
     ]
    }
   ],
   "source": [
    "purchase.info()"
   ]
  },
  {
   "cell_type": "code",
   "execution_count": 34,
   "metadata": {
    "ExecuteTime": {
     "end_time": "2019-02-18T07:20:05.259804Z",
     "start_time": "2019-02-18T07:20:05.234289Z"
    }
   },
   "outputs": [],
   "source": [
    "purchase_num = purchase.groupby('event_date').event.count().reset_index().\\\n",
    "               join(purchase.groupby('event_date').event_value.sum(), 'event_date')"
   ]
  },
  {
   "cell_type": "code",
   "execution_count": 35,
   "metadata": {
    "ExecuteTime": {
     "end_time": "2019-02-18T07:20:14.742044Z",
     "start_time": "2019-02-18T07:20:14.735633Z"
    }
   },
   "outputs": [
    {
     "data": {
      "text/html": [
       "<div>\n",
       "<style scoped>\n",
       "    .dataframe tbody tr th:only-of-type {\n",
       "        vertical-align: middle;\n",
       "    }\n",
       "\n",
       "    .dataframe tbody tr th {\n",
       "        vertical-align: top;\n",
       "    }\n",
       "\n",
       "    .dataframe thead th {\n",
       "        text-align: right;\n",
       "    }\n",
       "</style>\n",
       "<table border=\"1\" class=\"dataframe\">\n",
       "  <thead>\n",
       "    <tr style=\"text-align: right;\">\n",
       "      <th></th>\n",
       "      <th>event_date</th>\n",
       "      <th>event</th>\n",
       "      <th>event_value</th>\n",
       "    </tr>\n",
       "  </thead>\n",
       "  <tbody>\n",
       "    <tr>\n",
       "      <th>0</th>\n",
       "      <td>2018-10-01</td>\n",
       "      <td>435</td>\n",
       "      <td>1310.154983</td>\n",
       "    </tr>\n",
       "    <tr>\n",
       "      <th>1</th>\n",
       "      <td>2018-10-02</td>\n",
       "      <td>1164</td>\n",
       "      <td>3426.751964</td>\n",
       "    </tr>\n",
       "    <tr>\n",
       "      <th>2</th>\n",
       "      <td>2018-10-03</td>\n",
       "      <td>1518</td>\n",
       "      <td>4441.380949</td>\n",
       "    </tr>\n",
       "  </tbody>\n",
       "</table>\n",
       "</div>"
      ],
      "text/plain": [
       "   event_date  event  event_value\n",
       "0  2018-10-01    435  1310.154983\n",
       "1  2018-10-02   1164  3426.751964\n",
       "2  2018-10-03   1518  4441.380949"
      ]
     },
     "execution_count": 35,
     "metadata": {},
     "output_type": "execute_result"
    }
   ],
   "source": [
    "purchase_num.head(3)"
   ]
  },
  {
   "cell_type": "code",
   "execution_count": 58,
   "metadata": {
    "ExecuteTime": {
     "end_time": "2019-02-18T07:32:08.248424Z",
     "start_time": "2019-02-18T07:32:05.918246Z"
    },
    "scrolled": false
   },
   "outputs": [
    {
     "data": {
      "image/png": "[encoded data removed]",
      "text/plain": [
       "<Figure size 1152x720 with 2 Axes>"
      ]
     },
     "metadata": {},
     "output_type": "display_data"
    }
   ],
   "source": [
    "fig, (ax1, ax2) = plt.subplots(2, sharex=True, figsize=(16,10))\n",
    "ax1.bar(x=purchase_num.event_date.tolist(),\n",
    "        height=purchase_num.event.tolist())\n",
    "handle1 = ax1.axvline('2018-12-01', color='r')\n",
    "ax1.set_title(label='number of new users vs date')\n",
    "ax1.legend([handle1], ['2018-12-01'])\n",
    "\n",
    "ax2.plot(purchase_num['event_date'].tolist(), purchase_num['event_value'].tolist())\n",
    "handle2 = ax2.axvline('2018-12-01', color='r')\n",
    "ax2.tick_params(axis='x', rotation=90)\n",
    "ax2.set_title(label='number of sessions vs date')\n",
    "ax2.legend([handle2], ['2018-12-01'])\n",
    "plt.show()"
   ]
  },
  {
   "cell_type": "markdown",
   "metadata": {},
   "source": [
    "There is also a seasonal pattern when we look at the number of purchases and the amount of purchaes values."
   ]
  },
  {
   "cell_type": "markdown",
   "metadata": {},
   "source": []
  },
  {
   "cell_type": "code",
   "execution_count": 59,
   "metadata": {
    "ExecuteTime": {
     "end_time": "2019-02-18T07:34:02.587429Z",
     "start_time": "2019-02-18T07:34:02.583854Z"
    },
    "collapsed": true
   },
   "outputs": [],
   "source": [
    "purchase_num['avg_amt'] = purchase_num.event_value/purchase_num.event"
   ]
  },
  {
   "cell_type": "code",
   "execution_count": 65,
   "metadata": {
    "ExecuteTime": {
     "end_time": "2019-02-18T07:39:16.936460Z",
     "start_time": "2019-02-18T07:39:15.257199Z"
    }
   },
   "outputs": [
    {
     "data": {
      "image/png": "[encoded data removed]",
      "text/plain": [
       "<Figure size 1152x432 with 1 Axes>"
      ]
     },
     "metadata": {},
     "output_type": "display_data"
    }
   ],
   "source": [
    "plt.figure(figsize=(16,6))\n",
    "plt.plot(purchase_num.event_date.tolist(),\n",
    "         purchase_num.avg_amt.tolist(), color='g')\n",
    "plt.tick_params(axis='x', rotation=90)\n",
    "handle = plt.axvline('2018-12-01', color='b')\n",
    "plt.legend([handle], ['2018-12-01'])\n",
    "plt.show()"
   ]
  },
  {
   "cell_type": "markdown",
   "metadata": {},
   "source": [
    "### all categories of events"
   ]
  },
  {
   "cell_type": "code",
   "execution_count": 66,
   "metadata": {
    "ExecuteTime": {
     "end_time": "2019-02-18T07:40:29.327265Z",
     "start_time": "2019-02-18T07:40:28.569913Z"
    },
    "scrolled": false
   },
   "outputs": [
    {
     "data": {
      "text/plain": [
       "45                    75493931\n",
       "1                      5363926\n",
       "5                      4887922\n",
       "6                      4068474\n",
       "14                     3491117\n",
       "4                      3435363\n",
       "40                     2775997\n",
       "7                      1970903\n",
       "41                     1969223\n",
       "3                      1828494\n",
       "42                     1598212\n",
       ".a5027911885258752      618037\n",
       ".a5400102822346752      604699\n",
       "44                      495590\n",
       ".a5516611293544448      411053\n",
       "0                       407118\n",
       "63                      347198\n",
       "47                      310038\n",
       "57                      271268\n",
       "8                       265034\n",
       "Name: event, dtype: int64"
      ]
     },
     "execution_count": 66,
     "metadata": {},
     "output_type": "execute_result"
    }
   ],
   "source": [
    "events_new.event.value_counts()[:20]"
   ]
  },
  {
   "cell_type": "markdown",
   "metadata": {},
   "source": [
    "## attributes"
   ]
  },
  {
   "cell_type": "code",
   "execution_count": 67,
   "metadata": {
    "ExecuteTime": {
     "end_time": "2019-02-18T07:46:41.846924Z",
     "start_time": "2019-02-18T07:43:41.164763Z"
    },
    "collapsed": true
   },
   "outputs": [],
   "source": [
    "attributes_dtypes = {'session_code': np.uint32,\n",
    "                     'attribute': np.uint8,\n",
    "                     'attribute_value': 'category',\n",
    "                     'user_code': np.uint32}\n",
    "\n",
    "attributes_new = pd.read_csv('./newdata/attributes_new.csv', dtype=attributes_dtypes)"
   ]
  },
  {
   "cell_type": "code",
   "execution_count": 72,
   "metadata": {
    "ExecuteTime": {
     "end_time": "2019-02-18T08:06:55.320593Z",
     "start_time": "2019-02-18T08:06:55.313452Z"
    }
   },
   "outputs": [
    {
     "data": {
      "text/html": [
       "<div>\n",
       "<style scoped>\n",
       "    .dataframe tbody tr th:only-of-type {\n",
       "        vertical-align: middle;\n",
       "    }\n",
       "\n",
       "    .dataframe tbody tr th {\n",
       "        vertical-align: top;\n",
       "    }\n",
       "\n",
       "    .dataframe thead th {\n",
       "        text-align: right;\n",
       "    }\n",
       "</style>\n",
       "<table border=\"1\" class=\"dataframe\">\n",
       "  <thead>\n",
       "    <tr style=\"text-align: right;\">\n",
       "      <th></th>\n",
       "      <th>session_code</th>\n",
       "      <th>attribute</th>\n",
       "      <th>attribute_value</th>\n",
       "      <th>user_code</th>\n",
       "    </tr>\n",
       "  </thead>\n",
       "  <tbody>\n",
       "    <tr>\n",
       "      <th>0</th>\n",
       "      <td>21760</td>\n",
       "      <td>0</td>\n",
       "      <td>2</td>\n",
       "      <td>617387</td>\n",
       "    </tr>\n",
       "    <tr>\n",
       "      <th>1</th>\n",
       "      <td>21760</td>\n",
       "      <td>1</td>\n",
       "      <td>0</td>\n",
       "      <td>617387</td>\n",
       "    </tr>\n",
       "    <tr>\n",
       "      <th>2</th>\n",
       "      <td>21760</td>\n",
       "      <td>3</td>\n",
       "      <td>0</td>\n",
       "      <td>617387</td>\n",
       "    </tr>\n",
       "    <tr>\n",
       "      <th>3</th>\n",
       "      <td>21760</td>\n",
       "      <td>4</td>\n",
       "      <td>0.48</td>\n",
       "      <td>617387</td>\n",
       "    </tr>\n",
       "    <tr>\n",
       "      <th>4</th>\n",
       "      <td>21760</td>\n",
       "      <td>5</td>\n",
       "      <td>romance_rules_of_engagement_03:7</td>\n",
       "      <td>617387</td>\n",
       "    </tr>\n",
       "  </tbody>\n",
       "</table>\n",
       "</div>"
      ],
      "text/plain": [
       "   session_code  attribute                   attribute_value  user_code\n",
       "0         21760          0                                 2     617387\n",
       "1         21760          1                                 0     617387\n",
       "2         21760          3                                 0     617387\n",
       "3         21760          4                              0.48     617387\n",
       "4         21760          5  romance_rules_of_engagement_03:7     617387"
      ]
     },
     "execution_count": 72,
     "metadata": {},
     "output_type": "execute_result"
    }
   ],
   "source": [
    "attributes_new.head(5)"
   ]
  },
  {
   "cell_type": "code",
   "execution_count": 68,
   "metadata": {
    "ExecuteTime": {
     "end_time": "2019-02-18T07:48:18.922472Z",
     "start_time": "2019-02-18T07:48:17.468497Z"
    }
   },
   "outputs": [
    {
     "data": {
      "text/plain": [
       "array([ 0,  1,  3,  4,  5,  6,  7,  8,  9, 10, 11, 13, 14, 15, 16, 17, 18,\n",
       "       19, 20, 21, 52, 66, 67, 75, 76, 77, 78, 48, 96, 49], dtype=uint64)"
      ]
     },
     "execution_count": 68,
     "metadata": {},
     "output_type": "execute_result"
    }
   ],
   "source": [
    "attributes_new.attribute.unique()"
   ]
  },
  {
   "cell_type": "code",
   "execution_count": 70,
   "metadata": {
    "ExecuteTime": {
     "end_time": "2019-02-18T07:58:40.958698Z",
     "start_time": "2019-02-18T07:58:38.769740Z"
    }
   },
   "outputs": [
    {
     "data": {
      "text/plain": [
       "16    6776351\n",
       "15    6776351\n",
       "1     6776351\n",
       "3     6776351\n",
       "4     6776351\n",
       "5     6776351\n",
       "6     6776351\n",
       "7     6776351\n",
       "8     6776351\n",
       "9     6776351\n",
       "10    6776351\n",
       "11    6776351\n",
       "13    6776351\n",
       "14    6776351\n",
       "0     6776351\n",
       "17    6776351\n",
       "18    6776351\n",
       "19    6776351\n",
       "20    6776351\n",
       "21    6776351\n",
       "52    6776351\n",
       "75    6776297\n",
       "76    6776297\n",
       "77    6776297\n",
       "78    6685459\n",
       "66    6614104\n",
       "48    6183014\n",
       "67    3395545\n",
       "96      79643\n",
       "49         65\n",
       "Name: attribute, dtype: int64"
      ]
     },
     "execution_count": 70,
     "metadata": {},
     "output_type": "execute_result"
    }
   ],
   "source": [
    "attributes_new.attribute.value_counts()"
   ]
  }
 ],
 "metadata": {
  "kernelspec": {
   "display_name": "Python 3",
   "language": "python",
   "name": "python3"
  },
  "language_info": {
   "codemirror_mode": {
    "name": "ipython",
    "version": 3
   },
   "file_extension": ".py",
   "mimetype": "text/x-python",
   "name": "python",
   "nbconvert_exporter": "python",
   "pygments_lexer": "ipython3",
   "version": "3.6.5"
  },
  "latex_envs": {
   "LaTeX_envs_menu_present": true,
   "autoclose": false,
   "autocomplete": true,
   "bibliofile": "biblio.bib",
   "cite_by": "apalike",
   "current_citInitial": 1,
   "eqLabelWithNumbers": true,
   "eqNumInitial": 1,
   "hotkeys": {
    "equation": "Ctrl-E",
    "itemize": "Ctrl-I"
   },
   "labels_anchors": false,
   "latex_user_defs": false,
   "report_style_numbering": false,
   "user_envs_cfg": false
  },
  "toc": {
   "base_numbering": 1,
   "nav_menu": {},
   "number_sections": true,
   "sideBar": true,
   "skip_h1_title": false,
   "title_cell": "Table of Contents",
   "title_sidebar": "Contents",
   "toc_cell": false,
   "toc_position": {
    "height": "247px",
    "left": "991px",
    "top": "105.4000015258789px",
    "width": "229px"
   },
   "toc_section_display": true,
   "toc_window_display": true
  }
 },
 "nbformat": 4,
 "nbformat_minor": 2
}
