{
 "cells": [
  {
   "cell_type": "markdown",
   "metadata": {},
   "source": [
    "# first submission based on purchase history (events.csv) only"
   ]
  },
  {
   "cell_type": "markdown",
   "metadata": {},
   "source": [
    "# PART-1: Data importing"
   ]
  },
  {
   "cell_type": "code",
   "execution_count": 21,
   "metadata": {
    "ExecuteTime": {
     "end_time": "2019-02-18T04:35:28.853413Z",
     "start_time": "2019-02-18T04:35:28.849177Z"
    }
   },
   "outputs": [],
   "source": [
    "import pandas as pd\n",
    "import numpy as np\n",
    "import datetime\n",
    "from sklearn.linear_model import LogisticRegression\n",
    "from sklearn import tree\n",
    "from sklearn.ensemble import RandomForestClassifier\n",
    "from sklearn.ensemble import AdaBoostClassifier"
   ]
  },
  {
   "cell_type": "code",
   "execution_count": 2,
   "metadata": {
    "ExecuteTime": {
     "end_time": "2019-02-18T04:20:08.988641Z",
     "start_time": "2019-02-18T04:17:55.799516Z"
    }
   },
   "outputs": [],
   "source": [
    "df_events = pd.read_csv('events.csv',  encoding = \"UTF-8\")"
   ]
  },
  {
   "cell_type": "code",
   "execution_count": 3,
   "metadata": {
    "ExecuteTime": {
     "end_time": "2019-02-18T04:20:25.240671Z",
     "start_time": "2019-02-18T04:20:15.150826Z"
    }
   },
   "outputs": [
    {
     "data": {
      "text/plain": [
       "app_id             265034\n",
       "session_id         265034\n",
       "event              265034\n",
       "event_timestamp    265034\n",
       "event_value        265034\n",
       "user_id_hash       265034\n",
       "dtype: int64"
      ]
     },
     "execution_count": 3,
     "metadata": {},
     "output_type": "execute_result"
    }
   ],
   "source": [
    "df_events[df_events['event']=='8'].count()"
   ]
  },
  {
   "cell_type": "markdown",
   "metadata": {},
   "source": [
    "# PART-2: feature engineering: compute weekly-x"
   ]
  },
  {
   "cell_type": "code",
   "execution_count": 4,
   "metadata": {
    "ExecuteTime": {
     "end_time": "2019-02-18T04:21:17.190463Z",
     "start_time": "2019-02-18T04:20:38.608334Z"
    }
   },
   "outputs": [],
   "source": [
    "df_events['if_purchase'] = df_events['event'].map(lambda x: 1 if x == \"8\" else 0)\n",
    "df_events['date'] = pd.to_datetime(df_events['event_timestamp'],unit='ms')"
   ]
  },
  {
   "cell_type": "code",
   "execution_count": 5,
   "metadata": {
    "ExecuteTime": {
     "end_time": "2019-02-18T04:32:34.867332Z",
     "start_time": "2019-02-18T04:21:21.818493Z"
    }
   },
   "outputs": [],
   "source": [
    "df_events['day']=df_events['date'].apply(lambda dt: datetime.datetime(dt.year, \n",
    "                                                                      dt.month, dt.day))"
   ]
  },
  {
   "cell_type": "code",
   "execution_count": 6,
   "metadata": {
    "ExecuteTime": {
     "end_time": "2019-02-18T04:33:06.868741Z",
     "start_time": "2019-02-18T04:32:34.881680Z"
    }
   },
   "outputs": [],
   "source": [
    "df_event_tiny=df_events[[\"user_id_hash\",\"day\",\n",
    "                         \"if_purchase\",\n",
    "                         \"event_value\"]].copy()"
   ]
  },
  {
   "cell_type": "code",
   "execution_count": 7,
   "metadata": {
    "ExecuteTime": {
     "end_time": "2019-02-18T04:33:19.006055Z",
     "start_time": "2019-02-18T04:33:16.647702Z"
    }
   },
   "outputs": [
    {
     "name": "stderr",
     "output_type": "stream",
     "text": [
      "/anaconda3/envs/MSDS694_DC/lib/python3.6/site-packages/pandas/core/generic.py:4405: SettingWithCopyWarning: \n",
      "A value is trying to be set on a copy of a slice from a DataFrame.\n",
      "Try using .loc[row_indexer,col_indexer] = value instead\n",
      "\n",
      "See the caveats in the documentation: http://pandas.pydata.org/pandas-docs/stable/indexing.html#indexing-view-versus-copy\n",
      "  self[name] = value\n"
     ]
    }
   ],
   "source": [
    "all_entries = df_event_tiny[df_event_tiny['if_purchase']==1]\n",
    "all_entries.day = all_entries.day.apply(lambda x: datetime.datetime.strftime(x, '%m%d'))"
   ]
  },
  {
   "cell_type": "code",
   "execution_count": 8,
   "metadata": {
    "ExecuteTime": {
     "end_time": "2019-02-18T04:33:27.461657Z",
     "start_time": "2019-02-18T04:33:27.441381Z"
    }
   },
   "outputs": [
    {
     "data": {
      "text/html": [
       "<div>\n",
       "<style scoped>\n",
       "    .dataframe tbody tr th:only-of-type {\n",
       "        vertical-align: middle;\n",
       "    }\n",
       "\n",
       "    .dataframe tbody tr th {\n",
       "        vertical-align: top;\n",
       "    }\n",
       "\n",
       "    .dataframe thead th {\n",
       "        text-align: right;\n",
       "    }\n",
       "</style>\n",
       "<table border=\"1\" class=\"dataframe\">\n",
       "  <thead>\n",
       "    <tr style=\"text-align: right;\">\n",
       "      <th></th>\n",
       "      <th>user_id_hash</th>\n",
       "      <th>day</th>\n",
       "      <th>if_purchase</th>\n",
       "      <th>event_value</th>\n",
       "    </tr>\n",
       "  </thead>\n",
       "  <tbody>\n",
       "    <tr>\n",
       "      <th>279</th>\n",
       "      <td>9943447915df3a45fd6720a026af905b6da6b56a37701b...</td>\n",
       "      <td>1111</td>\n",
       "      <td>1</td>\n",
       "      <td>3.493</td>\n",
       "    </tr>\n",
       "    <tr>\n",
       "      <th>2898</th>\n",
       "      <td>deaf54103e439789b069a95c4650dc6cdc24d6c9d700f1...</td>\n",
       "      <td>1127</td>\n",
       "      <td>1</td>\n",
       "      <td>3.493</td>\n",
       "    </tr>\n",
       "    <tr>\n",
       "      <th>2970</th>\n",
       "      <td>deaf54103e439789b069a95c4650dc6cdc24d6c9d700f1...</td>\n",
       "      <td>1124</td>\n",
       "      <td>1</td>\n",
       "      <td>3.493</td>\n",
       "    </tr>\n",
       "  </tbody>\n",
       "</table>\n",
       "</div>"
      ],
      "text/plain": [
       "                                           user_id_hash   day  if_purchase  \\\n",
       "279   9943447915df3a45fd6720a026af905b6da6b56a37701b...  1111            1   \n",
       "2898  deaf54103e439789b069a95c4650dc6cdc24d6c9d700f1...  1127            1   \n",
       "2970  deaf54103e439789b069a95c4650dc6cdc24d6c9d700f1...  1124            1   \n",
       "\n",
       "      event_value  \n",
       "279         3.493  \n",
       "2898        3.493  \n",
       "2970        3.493  "
      ]
     },
     "execution_count": 8,
     "metadata": {},
     "output_type": "execute_result"
    }
   ],
   "source": [
    "all_entries.head(3)"
   ]
  },
  {
   "cell_type": "code",
   "execution_count": 9,
   "metadata": {
    "ExecuteTime": {
     "end_time": "2019-02-18T04:33:31.125599Z",
     "start_time": "2019-02-18T04:33:30.920594Z"
    }
   },
   "outputs": [
    {
     "data": {
      "text/html": [
       "<div>\n",
       "<style scoped>\n",
       "    .dataframe tbody tr th:only-of-type {\n",
       "        vertical-align: middle;\n",
       "    }\n",
       "\n",
       "    .dataframe tbody tr th {\n",
       "        vertical-align: top;\n",
       "    }\n",
       "\n",
       "    .dataframe thead th {\n",
       "        text-align: right;\n",
       "    }\n",
       "</style>\n",
       "<table border=\"1\" class=\"dataframe\">\n",
       "  <thead>\n",
       "    <tr style=\"text-align: right;\">\n",
       "      <th></th>\n",
       "      <th>user_id_hash</th>\n",
       "      <th>day</th>\n",
       "      <th>if_purchase</th>\n",
       "      <th>event_value</th>\n",
       "    </tr>\n",
       "  </thead>\n",
       "  <tbody>\n",
       "    <tr>\n",
       "      <th>0</th>\n",
       "      <td>00000db35682058bb7916cb90f85709f54c1a0f7a3b6de...</td>\n",
       "      <td>1111</td>\n",
       "      <td>7</td>\n",
       "      <td>19.551</td>\n",
       "    </tr>\n",
       "    <tr>\n",
       "      <th>1</th>\n",
       "      <td>00000db35682058bb7916cb90f85709f54c1a0f7a3b6de...</td>\n",
       "      <td>1112</td>\n",
       "      <td>1</td>\n",
       "      <td>3.493</td>\n",
       "    </tr>\n",
       "  </tbody>\n",
       "</table>\n",
       "</div>"
      ],
      "text/plain": [
       "                                        user_id_hash   day  if_purchase  \\\n",
       "0  00000db35682058bb7916cb90f85709f54c1a0f7a3b6de...  1111            7   \n",
       "1  00000db35682058bb7916cb90f85709f54c1a0f7a3b6de...  1112            1   \n",
       "\n",
       "   event_value  \n",
       "0       19.551  \n",
       "1        3.493  "
      ]
     },
     "execution_count": 9,
     "metadata": {},
     "output_type": "execute_result"
    }
   ],
   "source": [
    "all_entries_sum = all_entries.groupby(['user_id_hash','day'], as_index=False)[['if_purchase','event_value']].sum()\n",
    "all_entries_sum.head(2)"
   ]
  },
  {
   "cell_type": "code",
   "execution_count": 10,
   "metadata": {
    "ExecuteTime": {
     "end_time": "2019-02-18T04:33:32.455456Z",
     "start_time": "2019-02-18T04:33:32.257951Z"
    }
   },
   "outputs": [
    {
     "data": {
      "text/html": [
       "<div>\n",
       "<style scoped>\n",
       "    .dataframe tbody tr th:only-of-type {\n",
       "        vertical-align: middle;\n",
       "    }\n",
       "\n",
       "    .dataframe tbody tr th {\n",
       "        vertical-align: top;\n",
       "    }\n",
       "\n",
       "    .dataframe thead th {\n",
       "        text-align: right;\n",
       "    }\n",
       "</style>\n",
       "<table border=\"1\" class=\"dataframe\">\n",
       "  <thead>\n",
       "    <tr style=\"text-align: right;\">\n",
       "      <th>day</th>\n",
       "      <th>1001</th>\n",
       "      <th>1002</th>\n",
       "      <th>1003</th>\n",
       "      <th>1004</th>\n",
       "      <th>1005</th>\n",
       "      <th>1006</th>\n",
       "      <th>1007</th>\n",
       "      <th>1008</th>\n",
       "      <th>1009</th>\n",
       "      <th>1010</th>\n",
       "      <th>...</th>\n",
       "      <th>1205</th>\n",
       "      <th>1206</th>\n",
       "      <th>1207</th>\n",
       "      <th>1208</th>\n",
       "      <th>1209</th>\n",
       "      <th>1210</th>\n",
       "      <th>1211</th>\n",
       "      <th>1212</th>\n",
       "      <th>1213</th>\n",
       "      <th>1214</th>\n",
       "    </tr>\n",
       "    <tr>\n",
       "      <th>user_id_hash</th>\n",
       "      <th></th>\n",
       "      <th></th>\n",
       "      <th></th>\n",
       "      <th></th>\n",
       "      <th></th>\n",
       "      <th></th>\n",
       "      <th></th>\n",
       "      <th></th>\n",
       "      <th></th>\n",
       "      <th></th>\n",
       "      <th></th>\n",
       "      <th></th>\n",
       "      <th></th>\n",
       "      <th></th>\n",
       "      <th></th>\n",
       "      <th></th>\n",
       "      <th></th>\n",
       "      <th></th>\n",
       "      <th></th>\n",
       "      <th></th>\n",
       "      <th></th>\n",
       "    </tr>\n",
       "  </thead>\n",
       "  <tbody>\n",
       "    <tr>\n",
       "      <th>00000db35682058bb7916cb90f85709f54c1a0f7a3b6de247d94b1bc20c36b97</th>\n",
       "      <td>0.0</td>\n",
       "      <td>0.0</td>\n",
       "      <td>0.0</td>\n",
       "      <td>0.0</td>\n",
       "      <td>0.0</td>\n",
       "      <td>0.0</td>\n",
       "      <td>0.0</td>\n",
       "      <td>0.0</td>\n",
       "      <td>0.0</td>\n",
       "      <td>0.0</td>\n",
       "      <td>...</td>\n",
       "      <td>0.0</td>\n",
       "      <td>0.0</td>\n",
       "      <td>0.0</td>\n",
       "      <td>0.0</td>\n",
       "      <td>0.0</td>\n",
       "      <td>0.0</td>\n",
       "      <td>0.0</td>\n",
       "      <td>0.0</td>\n",
       "      <td>0.0</td>\n",
       "      <td>0.0</td>\n",
       "    </tr>\n",
       "    <tr>\n",
       "      <th>000059859ec188af6035870faf885c3038cedda05b3a5480a8223649629d951e</th>\n",
       "      <td>0.0</td>\n",
       "      <td>0.0</td>\n",
       "      <td>0.0</td>\n",
       "      <td>0.0</td>\n",
       "      <td>0.0</td>\n",
       "      <td>0.0</td>\n",
       "      <td>0.0</td>\n",
       "      <td>0.0</td>\n",
       "      <td>0.0</td>\n",
       "      <td>0.0</td>\n",
       "      <td>...</td>\n",
       "      <td>0.0</td>\n",
       "      <td>0.0</td>\n",
       "      <td>0.0</td>\n",
       "      <td>0.0</td>\n",
       "      <td>0.0</td>\n",
       "      <td>0.0</td>\n",
       "      <td>0.0</td>\n",
       "      <td>0.0</td>\n",
       "      <td>0.0</td>\n",
       "      <td>0.0</td>\n",
       "    </tr>\n",
       "    <tr>\n",
       "      <th>000d99c8e82878915b33ffe27ac3585ce9fb7cd4b82ace9f684c5a7900cc3536</th>\n",
       "      <td>0.0</td>\n",
       "      <td>0.0</td>\n",
       "      <td>0.0</td>\n",
       "      <td>0.0</td>\n",
       "      <td>0.0</td>\n",
       "      <td>0.0</td>\n",
       "      <td>0.0</td>\n",
       "      <td>0.0</td>\n",
       "      <td>0.0</td>\n",
       "      <td>0.0</td>\n",
       "      <td>...</td>\n",
       "      <td>0.0</td>\n",
       "      <td>3.0</td>\n",
       "      <td>1.0</td>\n",
       "      <td>1.0</td>\n",
       "      <td>0.0</td>\n",
       "      <td>0.0</td>\n",
       "      <td>1.0</td>\n",
       "      <td>0.0</td>\n",
       "      <td>0.0</td>\n",
       "      <td>1.0</td>\n",
       "    </tr>\n",
       "    <tr>\n",
       "      <th>00124c21b3ec87a2f17f884c5eee25462b67d489ebad09497a7a158ed9d7c4c1</th>\n",
       "      <td>0.0</td>\n",
       "      <td>0.0</td>\n",
       "      <td>0.0</td>\n",
       "      <td>0.0</td>\n",
       "      <td>0.0</td>\n",
       "      <td>0.0</td>\n",
       "      <td>0.0</td>\n",
       "      <td>0.0</td>\n",
       "      <td>0.0</td>\n",
       "      <td>0.0</td>\n",
       "      <td>...</td>\n",
       "      <td>0.0</td>\n",
       "      <td>0.0</td>\n",
       "      <td>0.0</td>\n",
       "      <td>0.0</td>\n",
       "      <td>1.0</td>\n",
       "      <td>0.0</td>\n",
       "      <td>0.0</td>\n",
       "      <td>0.0</td>\n",
       "      <td>0.0</td>\n",
       "      <td>0.0</td>\n",
       "    </tr>\n",
       "    <tr>\n",
       "      <th>0012e392350f0f6408b8b1a03bc5ee292e29dc735ee24dd942f22432e22e8020</th>\n",
       "      <td>0.0</td>\n",
       "      <td>0.0</td>\n",
       "      <td>0.0</td>\n",
       "      <td>0.0</td>\n",
       "      <td>0.0</td>\n",
       "      <td>0.0</td>\n",
       "      <td>0.0</td>\n",
       "      <td>0.0</td>\n",
       "      <td>0.0</td>\n",
       "      <td>0.0</td>\n",
       "      <td>...</td>\n",
       "      <td>0.0</td>\n",
       "      <td>0.0</td>\n",
       "      <td>0.0</td>\n",
       "      <td>0.0</td>\n",
       "      <td>0.0</td>\n",
       "      <td>0.0</td>\n",
       "      <td>0.0</td>\n",
       "      <td>0.0</td>\n",
       "      <td>0.0</td>\n",
       "      <td>0.0</td>\n",
       "    </tr>\n",
       "  </tbody>\n",
       "</table>\n",
       "<p>5 rows × 75 columns</p>\n",
       "</div>"
      ],
      "text/plain": [
       "day                                                 1001  1002  1003  1004  \\\n",
       "user_id_hash                                                                 \n",
       "00000db35682058bb7916cb90f85709f54c1a0f7a3b6de2...   0.0   0.0   0.0   0.0   \n",
       "000059859ec188af6035870faf885c3038cedda05b3a548...   0.0   0.0   0.0   0.0   \n",
       "000d99c8e82878915b33ffe27ac3585ce9fb7cd4b82ace9...   0.0   0.0   0.0   0.0   \n",
       "00124c21b3ec87a2f17f884c5eee25462b67d489ebad094...   0.0   0.0   0.0   0.0   \n",
       "0012e392350f0f6408b8b1a03bc5ee292e29dc735ee24dd...   0.0   0.0   0.0   0.0   \n",
       "\n",
       "day                                                 1005  1006  1007  1008  \\\n",
       "user_id_hash                                                                 \n",
       "00000db35682058bb7916cb90f85709f54c1a0f7a3b6de2...   0.0   0.0   0.0   0.0   \n",
       "000059859ec188af6035870faf885c3038cedda05b3a548...   0.0   0.0   0.0   0.0   \n",
       "000d99c8e82878915b33ffe27ac3585ce9fb7cd4b82ace9...   0.0   0.0   0.0   0.0   \n",
       "00124c21b3ec87a2f17f884c5eee25462b67d489ebad094...   0.0   0.0   0.0   0.0   \n",
       "0012e392350f0f6408b8b1a03bc5ee292e29dc735ee24dd...   0.0   0.0   0.0   0.0   \n",
       "\n",
       "day                                                 1009  1010  ...   1205  \\\n",
       "user_id_hash                                                    ...          \n",
       "00000db35682058bb7916cb90f85709f54c1a0f7a3b6de2...   0.0   0.0  ...    0.0   \n",
       "000059859ec188af6035870faf885c3038cedda05b3a548...   0.0   0.0  ...    0.0   \n",
       "000d99c8e82878915b33ffe27ac3585ce9fb7cd4b82ace9...   0.0   0.0  ...    0.0   \n",
       "00124c21b3ec87a2f17f884c5eee25462b67d489ebad094...   0.0   0.0  ...    0.0   \n",
       "0012e392350f0f6408b8b1a03bc5ee292e29dc735ee24dd...   0.0   0.0  ...    0.0   \n",
       "\n",
       "day                                                 1206  1207  1208  1209  \\\n",
       "user_id_hash                                                                 \n",
       "00000db35682058bb7916cb90f85709f54c1a0f7a3b6de2...   0.0   0.0   0.0   0.0   \n",
       "000059859ec188af6035870faf885c3038cedda05b3a548...   0.0   0.0   0.0   0.0   \n",
       "000d99c8e82878915b33ffe27ac3585ce9fb7cd4b82ace9...   3.0   1.0   1.0   0.0   \n",
       "00124c21b3ec87a2f17f884c5eee25462b67d489ebad094...   0.0   0.0   0.0   1.0   \n",
       "0012e392350f0f6408b8b1a03bc5ee292e29dc735ee24dd...   0.0   0.0   0.0   0.0   \n",
       "\n",
       "day                                                 1210  1211  1212  1213  \\\n",
       "user_id_hash                                                                 \n",
       "00000db35682058bb7916cb90f85709f54c1a0f7a3b6de2...   0.0   0.0   0.0   0.0   \n",
       "000059859ec188af6035870faf885c3038cedda05b3a548...   0.0   0.0   0.0   0.0   \n",
       "000d99c8e82878915b33ffe27ac3585ce9fb7cd4b82ace9...   0.0   1.0   0.0   0.0   \n",
       "00124c21b3ec87a2f17f884c5eee25462b67d489ebad094...   0.0   0.0   0.0   0.0   \n",
       "0012e392350f0f6408b8b1a03bc5ee292e29dc735ee24dd...   0.0   0.0   0.0   0.0   \n",
       "\n",
       "day                                                 1214  \n",
       "user_id_hash                                              \n",
       "00000db35682058bb7916cb90f85709f54c1a0f7a3b6de2...   0.0  \n",
       "000059859ec188af6035870faf885c3038cedda05b3a548...   0.0  \n",
       "000d99c8e82878915b33ffe27ac3585ce9fb7cd4b82ace9...   1.0  \n",
       "00124c21b3ec87a2f17f884c5eee25462b67d489ebad094...   0.0  \n",
       "0012e392350f0f6408b8b1a03bc5ee292e29dc735ee24dd...   0.0  \n",
       "\n",
       "[5 rows x 75 columns]"
      ]
     },
     "execution_count": 10,
     "metadata": {},
     "output_type": "execute_result"
    }
   ],
   "source": [
    "df_x = all_entries_sum.pivot(index='user_id_hash', \n",
    "                             columns='day', \n",
    "                             values='if_purchase').fillna(0)\n",
    "df_x.head(5)"
   ]
  },
  {
   "cell_type": "markdown",
   "metadata": {},
   "source": [
    "#### convert pd.df to np.array to improve data manipulation efficiency"
   ]
  },
  {
   "cell_type": "code",
   "execution_count": 11,
   "metadata": {
    "ExecuteTime": {
     "end_time": "2019-02-18T04:33:35.047840Z",
     "start_time": "2019-02-18T04:33:35.039779Z"
    }
   },
   "outputs": [],
   "source": [
    "np_x = np.array(df_x)\n",
    "np_x = np_x[:,5:75]"
   ]
  },
  {
   "cell_type": "markdown",
   "metadata": {},
   "source": []
  },
  {
   "cell_type": "code",
   "execution_count": 12,
   "metadata": {
    "ExecuteTime": {
     "end_time": "2019-02-18T04:33:37.870628Z",
     "start_time": "2019-02-18T04:33:37.857622Z"
    }
   },
   "outputs": [],
   "source": [
    "i=0\n",
    "np_x_week = np.ones(34200,)\n",
    "for i in range(10):\n",
    "    np_x_week = np.vstack((np_x_week, np.array(np_x[:,(i*7):(i+1)*7].sum(axis=1))))\n",
    "np_x_week = np_x_week.T\n",
    "np_x_week = np.delete(np_x_week, 0, axis=1)"
   ]
  },
  {
   "cell_type": "code",
   "execution_count": 13,
   "metadata": {
    "ExecuteTime": {
     "end_time": "2019-02-18T04:33:39.114370Z",
     "start_time": "2019-02-18T04:33:39.111403Z"
    }
   },
   "outputs": [],
   "source": [
    "df_x_new=pd.DataFrame(data=np_x_week, index=df_x.index)\n"
   ]
  },
  {
   "cell_type": "code",
   "execution_count": 14,
   "metadata": {
    "ExecuteTime": {
     "end_time": "2019-02-18T04:33:54.591044Z",
     "start_time": "2019-02-18T04:33:40.050719Z"
    }
   },
   "outputs": [
    {
     "data": {
      "text/html": [
       "<div>\n",
       "<style scoped>\n",
       "    .dataframe tbody tr th:only-of-type {\n",
       "        vertical-align: middle;\n",
       "    }\n",
       "\n",
       "    .dataframe tbody tr th {\n",
       "        vertical-align: top;\n",
       "    }\n",
       "\n",
       "    .dataframe thead th {\n",
       "        text-align: right;\n",
       "    }\n",
       "</style>\n",
       "<table border=\"1\" class=\"dataframe\">\n",
       "  <thead>\n",
       "    <tr style=\"text-align: right;\">\n",
       "      <th></th>\n",
       "      <th>user_id_hash</th>\n",
       "      <th>0</th>\n",
       "      <th>1</th>\n",
       "      <th>2</th>\n",
       "      <th>3</th>\n",
       "      <th>4</th>\n",
       "      <th>5</th>\n",
       "      <th>6</th>\n",
       "      <th>7</th>\n",
       "      <th>8</th>\n",
       "      <th>9</th>\n",
       "    </tr>\n",
       "  </thead>\n",
       "  <tbody>\n",
       "    <tr>\n",
       "      <th>0</th>\n",
       "      <td>9943447915df3a45fd6720a026af905b6da6b56a37701b...</td>\n",
       "      <td>0.0</td>\n",
       "      <td>0.0</td>\n",
       "      <td>0.0</td>\n",
       "      <td>0.0</td>\n",
       "      <td>0.0</td>\n",
       "      <td>1.0</td>\n",
       "      <td>0.0</td>\n",
       "      <td>0.0</td>\n",
       "      <td>0.0</td>\n",
       "      <td>0.0</td>\n",
       "    </tr>\n",
       "    <tr>\n",
       "      <th>1</th>\n",
       "      <td>43f75f8042d3c80c45e222bdd09267f4584684c54d6fae...</td>\n",
       "      <td>0.0</td>\n",
       "      <td>0.0</td>\n",
       "      <td>0.0</td>\n",
       "      <td>0.0</td>\n",
       "      <td>0.0</td>\n",
       "      <td>0.0</td>\n",
       "      <td>0.0</td>\n",
       "      <td>0.0</td>\n",
       "      <td>0.0</td>\n",
       "      <td>0.0</td>\n",
       "    </tr>\n",
       "    <tr>\n",
       "      <th>2</th>\n",
       "      <td>999524249720812f2d8c0390293efd58e1ac84d587a01c...</td>\n",
       "      <td>0.0</td>\n",
       "      <td>0.0</td>\n",
       "      <td>0.0</td>\n",
       "      <td>0.0</td>\n",
       "      <td>0.0</td>\n",
       "      <td>0.0</td>\n",
       "      <td>0.0</td>\n",
       "      <td>0.0</td>\n",
       "      <td>0.0</td>\n",
       "      <td>0.0</td>\n",
       "    </tr>\n",
       "    <tr>\n",
       "      <th>3</th>\n",
       "      <td>4e6bc35cf7fd79a5312047651e7865915f4a6bec193cf2...</td>\n",
       "      <td>0.0</td>\n",
       "      <td>0.0</td>\n",
       "      <td>0.0</td>\n",
       "      <td>0.0</td>\n",
       "      <td>0.0</td>\n",
       "      <td>0.0</td>\n",
       "      <td>0.0</td>\n",
       "      <td>0.0</td>\n",
       "      <td>0.0</td>\n",
       "      <td>0.0</td>\n",
       "    </tr>\n",
       "    <tr>\n",
       "      <th>4</th>\n",
       "      <td>dc009148ee26d658e0240c7b7f6a258790a457737f96e8...</td>\n",
       "      <td>0.0</td>\n",
       "      <td>0.0</td>\n",
       "      <td>0.0</td>\n",
       "      <td>0.0</td>\n",
       "      <td>0.0</td>\n",
       "      <td>0.0</td>\n",
       "      <td>0.0</td>\n",
       "      <td>0.0</td>\n",
       "      <td>0.0</td>\n",
       "      <td>0.0</td>\n",
       "    </tr>\n",
       "  </tbody>\n",
       "</table>\n",
       "</div>"
      ],
      "text/plain": [
       "                                        user_id_hash    0    1    2    3    4  \\\n",
       "0  9943447915df3a45fd6720a026af905b6da6b56a37701b...  0.0  0.0  0.0  0.0  0.0   \n",
       "1  43f75f8042d3c80c45e222bdd09267f4584684c54d6fae...  0.0  0.0  0.0  0.0  0.0   \n",
       "2  999524249720812f2d8c0390293efd58e1ac84d587a01c...  0.0  0.0  0.0  0.0  0.0   \n",
       "3  4e6bc35cf7fd79a5312047651e7865915f4a6bec193cf2...  0.0  0.0  0.0  0.0  0.0   \n",
       "4  dc009148ee26d658e0240c7b7f6a258790a457737f96e8...  0.0  0.0  0.0  0.0  0.0   \n",
       "\n",
       "     5    6    7    8    9  \n",
       "0  1.0  0.0  0.0  0.0  0.0  \n",
       "1  0.0  0.0  0.0  0.0  0.0  \n",
       "2  0.0  0.0  0.0  0.0  0.0  \n",
       "3  0.0  0.0  0.0  0.0  0.0  \n",
       "4  0.0  0.0  0.0  0.0  0.0  "
      ]
     },
     "execution_count": 14,
     "metadata": {},
     "output_type": "execute_result"
    }
   ],
   "source": [
    "df_x_full_id=df_event_tiny[[\"user_id_hash\"]].copy()\n",
    "df_x_full_id = df_x_full_id.drop_duplicates(subset=[\"user_id_hash\"])\n",
    "df_x_full_id = pd.merge(df_x_full_id, df_x_new, how='left', on='user_id_hash').fillna(0)\n",
    "df_x_full_id.head(5)"
   ]
  },
  {
   "cell_type": "code",
   "execution_count": 15,
   "metadata": {
    "ExecuteTime": {
     "end_time": "2019-02-18T04:33:58.134629Z",
     "start_time": "2019-02-18T04:33:58.118877Z"
    }
   },
   "outputs": [],
   "source": [
    "def running_clfs(x_train,y_train,x_val,y_val):\n",
    "    headers=[\"Model\",\"AUC_training\", \"AUC_validation\"]\n",
    "    records=[]\n",
    "    from sklearn.linear_model import LogisticRegression\n",
    "    clf = LogisticRegression(random_state=0).fit(x_train, y_train)\n",
    "    from sklearn import metrics\n",
    "    y_train_hat = clf.predict_proba(x_train) [:,1]\n",
    "    y_val_hat = clf.predict_proba(x_val) [:,1]\n",
    "    records.append((\"LogisticRegression\",metrics.roc_auc_score(y_train, y_train_hat),\n",
    "                                                              metrics.roc_auc_score(y_val, y_val_hat)))\n",
    "    from sklearn import tree\n",
    "    clf = tree.DecisionTreeClassifier()\n",
    "    clf.fit(x_train, y_train)\n",
    "    y_train_hat = clf.predict_proba(x_train) [:,1]\n",
    "    y_val_hat = clf.predict_proba(x_val) [:,1]\n",
    "    records.append((\"DecisionTree\",metrics.roc_auc_score(y_train, y_train_hat),\n",
    "                                                              metrics.roc_auc_score(y_val, y_val_hat)))\n",
    " \n",
    "    from sklearn.ensemble import RandomForestClassifier\n",
    "    clf = RandomForestClassifier(max_depth=10, n_estimators=3, max_features=1)\n",
    "    clf.fit(x_train, y_train)\n",
    "    y_train_hat = clf.predict_proba(x_train) [:,1]\n",
    "    y_val_hat = clf.predict_proba(x_val) [:,1]\n",
    "    metrics.roc_auc_score(y_train, y_train_hat), metrics.roc_auc_score(y_val, y_val_hat)\n",
    "    records.append((\"RandomForest\",metrics.roc_auc_score(y_train, y_train_hat),\n",
    "                                                              metrics.roc_auc_score(y_val, y_val_hat)))    \n",
    "    from sklearn.ensemble import AdaBoostClassifier\n",
    "    clf = AdaBoostClassifier()\n",
    "    clf.fit(x_train, y_train)\n",
    "    y_train_hat = clf.predict_proba(x_train) [:,1]\n",
    "    y_val_hat = clf.predict_proba(x_val) [:,1] \n",
    "    metrics.roc_auc_score(y_train, y_train_hat), metrics.roc_auc_score(y_val, y_val_hat)\n",
    "    records.append((\"AdaBoost\",metrics.roc_auc_score(y_train, y_train_hat),\n",
    "                                                              metrics.roc_auc_score(y_val, y_val_hat)))\n",
    "    \n",
    "    df_metrics = pd.DataFrame.from_records(records, columns=headers).set_index('Model')\n",
    "    return df_metrics"
   ]
  },
  {
   "cell_type": "code",
   "execution_count": 16,
   "metadata": {
    "ExecuteTime": {
     "end_time": "2019-02-18T04:33:59.652748Z",
     "start_time": "2019-02-18T04:33:59.281209Z"
    }
   },
   "outputs": [],
   "source": [
    "np_x_full_id = np.array(df_x_full_id)\n",
    "np_x_full_id = np.delete(np_x_full_id, 0, axis=1)"
   ]
  },
  {
   "cell_type": "markdown",
   "metadata": {},
   "source": [
    "# PART-3: compute_target\n",
    "# do training and validation: model one, for the following 7 days "
   ]
  },
  {
   "cell_type": "code",
   "execution_count": 17,
   "metadata": {
    "ExecuteTime": {
     "end_time": "2019-02-18T04:34:01.208825Z",
     "start_time": "2019-02-18T04:34:01.161858Z"
    }
   },
   "outputs": [
    {
     "data": {
      "text/plain": [
       "(621001, 8)"
      ]
     },
     "execution_count": 17,
     "metadata": {},
     "output_type": "execute_result"
    }
   ],
   "source": [
    "x_train = np_x_full_id [:,0:8]\n",
    "y_train = np_x_full_id [:,8].astype('int')\n",
    "y_train[np.nonzero(y_train)]=1\n",
    "x_val = np_x_full_id [:,1:9]\n",
    "y_val = np_x_full_id [:,9].astype('int')\n",
    "y_val[np.nonzero(y_val)]=1\n",
    "x_train.shape"
   ]
  },
  {
   "cell_type": "code",
   "execution_count": 18,
   "metadata": {
    "ExecuteTime": {
     "end_time": "2019-02-18T04:34:17.519234Z",
     "start_time": "2019-02-18T04:34:02.053347Z"
    }
   },
   "outputs": [
    {
     "name": "stderr",
     "output_type": "stream",
     "text": [
      "/anaconda3/envs/MSDS694_DC/lib/python3.6/site-packages/sklearn/linear_model/logistic.py:433: FutureWarning: Default solver will be changed to 'lbfgs' in 0.22. Specify a solver to silence this warning.\n",
      "  FutureWarning)\n"
     ]
    },
    {
     "data": {
      "text/html": [
       "<div>\n",
       "<style scoped>\n",
       "    .dataframe tbody tr th:only-of-type {\n",
       "        vertical-align: middle;\n",
       "    }\n",
       "\n",
       "    .dataframe tbody tr th {\n",
       "        vertical-align: top;\n",
       "    }\n",
       "\n",
       "    .dataframe thead th {\n",
       "        text-align: right;\n",
       "    }\n",
       "</style>\n",
       "<table border=\"1\" class=\"dataframe\">\n",
       "  <thead>\n",
       "    <tr style=\"text-align: right;\">\n",
       "      <th></th>\n",
       "      <th>AUC_training</th>\n",
       "      <th>AUC_validation</th>\n",
       "    </tr>\n",
       "    <tr>\n",
       "      <th>Model</th>\n",
       "      <th></th>\n",
       "      <th></th>\n",
       "    </tr>\n",
       "  </thead>\n",
       "  <tbody>\n",
       "    <tr>\n",
       "      <th>LogisticRegression</th>\n",
       "      <td>0.868436</td>\n",
       "      <td>0.919010</td>\n",
       "    </tr>\n",
       "    <tr>\n",
       "      <th>DecisionTree</th>\n",
       "      <td>0.875901</td>\n",
       "      <td>0.644903</td>\n",
       "    </tr>\n",
       "    <tr>\n",
       "      <th>RandomForest</th>\n",
       "      <td>0.869985</td>\n",
       "      <td>0.910144</td>\n",
       "    </tr>\n",
       "    <tr>\n",
       "      <th>AdaBoost</th>\n",
       "      <td>0.869409</td>\n",
       "      <td>0.918937</td>\n",
       "    </tr>\n",
       "  </tbody>\n",
       "</table>\n",
       "</div>"
      ],
      "text/plain": [
       "                    AUC_training  AUC_validation\n",
       "Model                                           \n",
       "LogisticRegression      0.868436        0.919010\n",
       "DecisionTree            0.875901        0.644903\n",
       "RandomForest            0.869985        0.910144\n",
       "AdaBoost                0.869409        0.918937"
      ]
     },
     "execution_count": 18,
     "metadata": {},
     "output_type": "execute_result"
    }
   ],
   "source": [
    "running_clfs(x_train,y_train,x_val,y_val)"
   ]
  },
  {
   "cell_type": "markdown",
   "metadata": {},
   "source": [
    "## making predictions for the following 7 days"
   ]
  },
  {
   "cell_type": "code",
   "execution_count": 19,
   "metadata": {
    "ExecuteTime": {
     "end_time": "2019-02-18T04:34:22.504694Z",
     "start_time": "2019-02-18T04:34:22.420821Z"
    }
   },
   "outputs": [],
   "source": [
    "x_test = np_x_full_id [:,2:10]\n",
    "\n",
    "x_train = np.append(x_train,x_val,axis=0 )\n",
    "y_train = np.append(y_train,y_val,axis=0 )"
   ]
  },
  {
   "cell_type": "code",
   "execution_count": 22,
   "metadata": {
    "ExecuteTime": {
     "end_time": "2019-02-18T04:35:54.654183Z",
     "start_time": "2019-02-18T04:35:34.467049Z"
    }
   },
   "outputs": [
    {
     "name": "stderr",
     "output_type": "stream",
     "text": [
      "/anaconda3/envs/MSDS694_DC/lib/python3.6/site-packages/sklearn/linear_model/logistic.py:433: FutureWarning: Default solver will be changed to 'lbfgs' in 0.22. Specify a solver to silence this warning.\n",
      "  FutureWarning)\n"
     ]
    }
   ],
   "source": [
    "clf = LogisticRegression(random_state=0).fit(x_train, y_train)\n",
    "y_test_hat_7_log = clf.predict_proba(x_test) [:,1]\n",
    "\n",
    "clf = tree.DecisionTreeClassifier().fit(x_train, y_train)\n",
    "y_test_hat_7_tree = clf.predict_proba(x_test) [:,1]\n",
    "\n",
    "clf = RandomForestClassifier(max_depth=10, n_estimators=3, max_features=1).fit(x_train, y_train)\n",
    "y_test_hat_7_rf = clf.predict_proba(x_test) [:,1]\n",
    "\n",
    "clf = AdaBoostClassifier().fit(x_train, y_train)\n",
    "y_test_hat_7_ada = clf.predict_proba(x_test) [:,1]"
   ]
  },
  {
   "cell_type": "markdown",
   "metadata": {},
   "source": [
    "## do training and validation: model one, for the following 14 days"
   ]
  },
  {
   "cell_type": "code",
   "execution_count": 23,
   "metadata": {
    "ExecuteTime": {
     "end_time": "2019-02-18T04:36:08.617273Z",
     "start_time": "2019-02-18T04:36:08.462734Z"
    }
   },
   "outputs": [
    {
     "data": {
      "text/plain": [
       "(621001, 7)"
      ]
     },
     "execution_count": 23,
     "metadata": {},
     "output_type": "execute_result"
    }
   ],
   "source": [
    "x_train = np_x_full_id [:,0:7]\n",
    "y_train = np.sum(np_x_full_id [:,7:9],axis=1).astype('int')\n",
    "y_train[np.nonzero(y_train)]=1\n",
    "x_val = np_x_full_id [:,1:8]\n",
    "y_val = np.sum(np_x_full_id [:,8:10],axis=1).astype('int')\n",
    "y_val[np.nonzero(y_val)]=1\n",
    "x_train.shape"
   ]
  },
  {
   "cell_type": "code",
   "execution_count": 24,
   "metadata": {
    "ExecuteTime": {
     "end_time": "2019-02-18T04:36:25.010916Z",
     "start_time": "2019-02-18T04:36:10.229847Z"
    }
   },
   "outputs": [
    {
     "name": "stderr",
     "output_type": "stream",
     "text": [
      "/anaconda3/envs/MSDS694_DC/lib/python3.6/site-packages/sklearn/linear_model/logistic.py:433: FutureWarning: Default solver will be changed to 'lbfgs' in 0.22. Specify a solver to silence this warning.\n",
      "  FutureWarning)\n"
     ]
    },
    {
     "data": {
      "text/html": [
       "<div>\n",
       "<style scoped>\n",
       "    .dataframe tbody tr th:only-of-type {\n",
       "        vertical-align: middle;\n",
       "    }\n",
       "\n",
       "    .dataframe tbody tr th {\n",
       "        vertical-align: top;\n",
       "    }\n",
       "\n",
       "    .dataframe thead th {\n",
       "        text-align: right;\n",
       "    }\n",
       "</style>\n",
       "<table border=\"1\" class=\"dataframe\">\n",
       "  <thead>\n",
       "    <tr style=\"text-align: right;\">\n",
       "      <th></th>\n",
       "      <th>AUC_training</th>\n",
       "      <th>AUC_validation</th>\n",
       "    </tr>\n",
       "    <tr>\n",
       "      <th>Model</th>\n",
       "      <th></th>\n",
       "      <th></th>\n",
       "    </tr>\n",
       "  </thead>\n",
       "  <tbody>\n",
       "    <tr>\n",
       "      <th>LogisticRegression</th>\n",
       "      <td>0.719050</td>\n",
       "      <td>0.856802</td>\n",
       "    </tr>\n",
       "    <tr>\n",
       "      <th>DecisionTree</th>\n",
       "      <td>0.726292</td>\n",
       "      <td>0.704576</td>\n",
       "    </tr>\n",
       "    <tr>\n",
       "      <th>RandomForest</th>\n",
       "      <td>0.720526</td>\n",
       "      <td>0.851242</td>\n",
       "    </tr>\n",
       "    <tr>\n",
       "      <th>AdaBoost</th>\n",
       "      <td>0.719834</td>\n",
       "      <td>0.856563</td>\n",
       "    </tr>\n",
       "  </tbody>\n",
       "</table>\n",
       "</div>"
      ],
      "text/plain": [
       "                    AUC_training  AUC_validation\n",
       "Model                                           \n",
       "LogisticRegression      0.719050        0.856802\n",
       "DecisionTree            0.726292        0.704576\n",
       "RandomForest            0.720526        0.851242\n",
       "AdaBoost                0.719834        0.856563"
      ]
     },
     "execution_count": 24,
     "metadata": {},
     "output_type": "execute_result"
    }
   ],
   "source": [
    "running_clfs(x_train,y_train,x_val,y_val)"
   ]
  },
  {
   "cell_type": "markdown",
   "metadata": {},
   "source": [
    "# PART-4: models\n",
    "## making predictions for the following 14 days"
   ]
  },
  {
   "cell_type": "code",
   "execution_count": 25,
   "metadata": {
    "ExecuteTime": {
     "end_time": "2019-02-18T04:36:27.930990Z",
     "start_time": "2019-02-18T04:36:27.843965Z"
    }
   },
   "outputs": [],
   "source": [
    "x_test = np_x_full_id [:,3:10]\n",
    "\n",
    "x_train = np.append(x_train,x_val,axis=0 )\n",
    "y_train = np.append(y_train,y_val,axis=0 )"
   ]
  },
  {
   "cell_type": "code",
   "execution_count": 26,
   "metadata": {
    "ExecuteTime": {
     "end_time": "2019-02-18T04:36:50.769299Z",
     "start_time": "2019-02-18T04:36:31.030640Z"
    }
   },
   "outputs": [
    {
     "name": "stderr",
     "output_type": "stream",
     "text": [
      "/anaconda3/envs/MSDS694_DC/lib/python3.6/site-packages/sklearn/linear_model/logistic.py:433: FutureWarning: Default solver will be changed to 'lbfgs' in 0.22. Specify a solver to silence this warning.\n",
      "  FutureWarning)\n"
     ]
    }
   ],
   "source": [
    "clf = LogisticRegression(random_state=0).fit(x_train, y_train)\n",
    "y_test_hat_14_log = clf.predict_proba(x_test) [:,1]\n",
    "\n",
    "clf = tree.DecisionTreeClassifier().fit(x_train, y_train)\n",
    "y_test_hat_14_tree = clf.predict_proba(x_test) [:,1]\n",
    "\n",
    "clf = RandomForestClassifier(max_depth=10, n_estimators=3, max_features=1).fit(x_train, y_train)\n",
    "y_test_hat_14_rf = clf.predict_proba(x_test) [:,1]\n",
    "\n",
    "clf = AdaBoostClassifier().fit(x_train, y_train)\n",
    "y_test_hat_14_ada = clf.predict_proba(x_test) [:,1]\n"
   ]
  },
  {
   "cell_type": "markdown",
   "metadata": {},
   "source": [
    "# PART-5: save to .csv files (following Kaggle's format)"
   ]
  },
  {
   "cell_type": "code",
   "execution_count": 27,
   "metadata": {
    "ExecuteTime": {
     "end_time": "2019-02-18T04:36:53.013230Z",
     "start_time": "2019-02-18T04:36:52.983000Z"
    }
   },
   "outputs": [],
   "source": [
    "df_x_full_id['log_7'] =  y_test_hat_7_log\n",
    "df_x_full_id['log_14'] =  y_test_hat_14_log \n",
    "df_x_full_id['tree_7'] =  y_test_hat_7_tree\n",
    "df_x_full_id['tree_14'] =  y_test_hat_14_tree  \n",
    "df_x_full_id['rf_7'] =  y_test_hat_7_rf\n",
    "df_x_full_id['rf_14'] =  y_test_hat_14_rf\n",
    "df_x_full_id['ada_7'] =  y_test_hat_7_ada\n",
    "df_x_full_id['ada_14'] =  y_test_hat_14_ada "
   ]
  },
  {
   "cell_type": "code",
   "execution_count": 37,
   "metadata": {
    "ExecuteTime": {
     "end_time": "2019-02-18T04:39:35.290733Z",
     "start_time": "2019-02-18T04:39:35.269555Z"
    }
   },
   "outputs": [
    {
     "data": {
      "text/html": [
       "<div>\n",
       "<style scoped>\n",
       "    .dataframe tbody tr th:only-of-type {\n",
       "        vertical-align: middle;\n",
       "    }\n",
       "\n",
       "    .dataframe tbody tr th {\n",
       "        vertical-align: top;\n",
       "    }\n",
       "\n",
       "    .dataframe thead th {\n",
       "        text-align: right;\n",
       "    }\n",
       "</style>\n",
       "<table border=\"1\" class=\"dataframe\">\n",
       "  <thead>\n",
       "    <tr style=\"text-align: right;\">\n",
       "      <th></th>\n",
       "      <th>user_id_hash</th>\n",
       "      <th>0</th>\n",
       "      <th>1</th>\n",
       "      <th>2</th>\n",
       "      <th>3</th>\n",
       "      <th>4</th>\n",
       "      <th>5</th>\n",
       "      <th>6</th>\n",
       "      <th>7</th>\n",
       "      <th>8</th>\n",
       "      <th>9</th>\n",
       "      <th>log_7</th>\n",
       "      <th>log_14</th>\n",
       "      <th>tree_7</th>\n",
       "      <th>tree_14</th>\n",
       "      <th>rf_7</th>\n",
       "      <th>rf_14</th>\n",
       "      <th>ada_7</th>\n",
       "      <th>ada_14</th>\n",
       "    </tr>\n",
       "  </thead>\n",
       "  <tbody>\n",
       "    <tr>\n",
       "      <th>0</th>\n",
       "      <td>9943447915df3a45fd6720a026af905b6da6b56a37701b...</td>\n",
       "      <td>0.0</td>\n",
       "      <td>0.0</td>\n",
       "      <td>0.0</td>\n",
       "      <td>0.0</td>\n",
       "      <td>0.0</td>\n",
       "      <td>1.0</td>\n",
       "      <td>0.0</td>\n",
       "      <td>0.0</td>\n",
       "      <td>0.0</td>\n",
       "      <td>0.0</td>\n",
       "      <td>0.004513</td>\n",
       "      <td>0.009895</td>\n",
       "      <td>0.008114</td>\n",
       "      <td>0.014599</td>\n",
       "      <td>0.009742</td>\n",
       "      <td>0.016438</td>\n",
       "      <td>0.471974</td>\n",
       "      <td>0.476909</td>\n",
       "    </tr>\n",
       "    <tr>\n",
       "      <th>1</th>\n",
       "      <td>43f75f8042d3c80c45e222bdd09267f4584684c54d6fae...</td>\n",
       "      <td>0.0</td>\n",
       "      <td>0.0</td>\n",
       "      <td>0.0</td>\n",
       "      <td>0.0</td>\n",
       "      <td>0.0</td>\n",
       "      <td>0.0</td>\n",
       "      <td>0.0</td>\n",
       "      <td>0.0</td>\n",
       "      <td>0.0</td>\n",
       "      <td>0.0</td>\n",
       "      <td>0.004261</td>\n",
       "      <td>0.009284</td>\n",
       "      <td>0.001362</td>\n",
       "      <td>0.005539</td>\n",
       "      <td>0.001374</td>\n",
       "      <td>0.005557</td>\n",
       "      <td>0.468139</td>\n",
       "      <td>0.474432</td>\n",
       "    </tr>\n",
       "    <tr>\n",
       "      <th>2</th>\n",
       "      <td>999524249720812f2d8c0390293efd58e1ac84d587a01c...</td>\n",
       "      <td>0.0</td>\n",
       "      <td>0.0</td>\n",
       "      <td>0.0</td>\n",
       "      <td>0.0</td>\n",
       "      <td>0.0</td>\n",
       "      <td>0.0</td>\n",
       "      <td>0.0</td>\n",
       "      <td>0.0</td>\n",
       "      <td>0.0</td>\n",
       "      <td>0.0</td>\n",
       "      <td>0.004261</td>\n",
       "      <td>0.009284</td>\n",
       "      <td>0.001362</td>\n",
       "      <td>0.005539</td>\n",
       "      <td>0.001374</td>\n",
       "      <td>0.005557</td>\n",
       "      <td>0.468139</td>\n",
       "      <td>0.474432</td>\n",
       "    </tr>\n",
       "  </tbody>\n",
       "</table>\n",
       "</div>"
      ],
      "text/plain": [
       "                                        user_id_hash    0    1    2    3    4  \\\n",
       "0  9943447915df3a45fd6720a026af905b6da6b56a37701b...  0.0  0.0  0.0  0.0  0.0   \n",
       "1  43f75f8042d3c80c45e222bdd09267f4584684c54d6fae...  0.0  0.0  0.0  0.0  0.0   \n",
       "2  999524249720812f2d8c0390293efd58e1ac84d587a01c...  0.0  0.0  0.0  0.0  0.0   \n",
       "\n",
       "     5    6    7    8    9     log_7    log_14    tree_7   tree_14      rf_7  \\\n",
       "0  1.0  0.0  0.0  0.0  0.0  0.004513  0.009895  0.008114  0.014599  0.009742   \n",
       "1  0.0  0.0  0.0  0.0  0.0  0.004261  0.009284  0.001362  0.005539  0.001374   \n",
       "2  0.0  0.0  0.0  0.0  0.0  0.004261  0.009284  0.001362  0.005539  0.001374   \n",
       "\n",
       "      rf_14     ada_7    ada_14  \n",
       "0  0.016438  0.471974  0.476909  \n",
       "1  0.005557  0.468139  0.474432  \n",
       "2  0.005557  0.468139  0.474432  "
      ]
     },
     "execution_count": 37,
     "metadata": {},
     "output_type": "execute_result"
    }
   ],
   "source": [
    "df_x_full_id.head(3)"
   ]
  },
  {
   "cell_type": "code",
   "execution_count": 29,
   "metadata": {
    "ExecuteTime": {
     "end_time": "2019-02-18T04:36:56.745186Z",
     "start_time": "2019-02-18T04:36:56.305006Z"
    }
   },
   "outputs": [],
   "source": [
    "df_sample = pd.read_csv('sample_submission_2.csv', encoding = \"UTF-8\")"
   ]
  },
  {
   "cell_type": "code",
   "execution_count": 30,
   "metadata": {
    "ExecuteTime": {
     "end_time": "2019-02-18T04:37:00.801868Z",
     "start_time": "2019-02-18T04:37:00.045470Z"
    }
   },
   "outputs": [
    {
     "data": {
      "text/html": [
       "<div>\n",
       "<style scoped>\n",
       "    .dataframe tbody tr th:only-of-type {\n",
       "        vertical-align: middle;\n",
       "    }\n",
       "\n",
       "    .dataframe tbody tr th {\n",
       "        vertical-align: top;\n",
       "    }\n",
       "\n",
       "    .dataframe thead th {\n",
       "        text-align: right;\n",
       "    }\n",
       "</style>\n",
       "<table border=\"1\" class=\"dataframe\">\n",
       "  <thead>\n",
       "    <tr style=\"text-align: right;\">\n",
       "      <th></th>\n",
       "      <th>user_id_hash</th>\n",
       "      <th>user_purchase_binary_7_days</th>\n",
       "      <th>user_purchase_binary_14_days</th>\n",
       "      <th>0</th>\n",
       "      <th>1</th>\n",
       "      <th>2</th>\n",
       "      <th>3</th>\n",
       "      <th>4</th>\n",
       "      <th>5</th>\n",
       "      <th>6</th>\n",
       "      <th>...</th>\n",
       "      <th>8</th>\n",
       "      <th>9</th>\n",
       "      <th>log_7</th>\n",
       "      <th>log_14</th>\n",
       "      <th>tree_7</th>\n",
       "      <th>tree_14</th>\n",
       "      <th>rf_7</th>\n",
       "      <th>rf_14</th>\n",
       "      <th>ada_7</th>\n",
       "      <th>ada_14</th>\n",
       "    </tr>\n",
       "  </thead>\n",
       "  <tbody>\n",
       "    <tr>\n",
       "      <th>0</th>\n",
       "      <td>e469dfaed039ead9110165d9bc457acb11609ca34057dc...</td>\n",
       "      <td>0.01</td>\n",
       "      <td>0.02</td>\n",
       "      <td>0.0</td>\n",
       "      <td>0.0</td>\n",
       "      <td>0.0</td>\n",
       "      <td>0.0</td>\n",
       "      <td>0.0</td>\n",
       "      <td>0.0</td>\n",
       "      <td>0.0</td>\n",
       "      <td>...</td>\n",
       "      <td>0.0</td>\n",
       "      <td>0.0</td>\n",
       "      <td>0.004261</td>\n",
       "      <td>0.009284</td>\n",
       "      <td>0.001362</td>\n",
       "      <td>0.005539</td>\n",
       "      <td>0.001374</td>\n",
       "      <td>0.005557</td>\n",
       "      <td>0.468139</td>\n",
       "      <td>0.474432</td>\n",
       "    </tr>\n",
       "    <tr>\n",
       "      <th>1</th>\n",
       "      <td>afcc639a324b6c598ef83d360450afa011cb2dd1358bf9...</td>\n",
       "      <td>0.01</td>\n",
       "      <td>0.02</td>\n",
       "      <td>0.0</td>\n",
       "      <td>0.0</td>\n",
       "      <td>0.0</td>\n",
       "      <td>0.0</td>\n",
       "      <td>0.0</td>\n",
       "      <td>0.0</td>\n",
       "      <td>0.0</td>\n",
       "      <td>...</td>\n",
       "      <td>0.0</td>\n",
       "      <td>0.0</td>\n",
       "      <td>0.004261</td>\n",
       "      <td>0.009284</td>\n",
       "      <td>0.001362</td>\n",
       "      <td>0.005539</td>\n",
       "      <td>0.001374</td>\n",
       "      <td>0.005557</td>\n",
       "      <td>0.468139</td>\n",
       "      <td>0.474432</td>\n",
       "    </tr>\n",
       "    <tr>\n",
       "      <th>2</th>\n",
       "      <td>fd5a7cf211d08e3e00f7be6a9df6e6ea3d2e5c22a5d9c3...</td>\n",
       "      <td>0.01</td>\n",
       "      <td>0.02</td>\n",
       "      <td>0.0</td>\n",
       "      <td>0.0</td>\n",
       "      <td>0.0</td>\n",
       "      <td>0.0</td>\n",
       "      <td>0.0</td>\n",
       "      <td>0.0</td>\n",
       "      <td>0.0</td>\n",
       "      <td>...</td>\n",
       "      <td>0.0</td>\n",
       "      <td>0.0</td>\n",
       "      <td>0.004261</td>\n",
       "      <td>0.009284</td>\n",
       "      <td>0.001362</td>\n",
       "      <td>0.005539</td>\n",
       "      <td>0.001374</td>\n",
       "      <td>0.005557</td>\n",
       "      <td>0.468139</td>\n",
       "      <td>0.474432</td>\n",
       "    </tr>\n",
       "  </tbody>\n",
       "</table>\n",
       "<p>3 rows × 21 columns</p>\n",
       "</div>"
      ],
      "text/plain": [
       "                                        user_id_hash  \\\n",
       "0  e469dfaed039ead9110165d9bc457acb11609ca34057dc...   \n",
       "1  afcc639a324b6c598ef83d360450afa011cb2dd1358bf9...   \n",
       "2  fd5a7cf211d08e3e00f7be6a9df6e6ea3d2e5c22a5d9c3...   \n",
       "\n",
       "   user_purchase_binary_7_days  user_purchase_binary_14_days    0    1    2  \\\n",
       "0                         0.01                          0.02  0.0  0.0  0.0   \n",
       "1                         0.01                          0.02  0.0  0.0  0.0   \n",
       "2                         0.01                          0.02  0.0  0.0  0.0   \n",
       "\n",
       "     3    4    5    6    ...       8    9     log_7    log_14    tree_7  \\\n",
       "0  0.0  0.0  0.0  0.0    ...     0.0  0.0  0.004261  0.009284  0.001362   \n",
       "1  0.0  0.0  0.0  0.0    ...     0.0  0.0  0.004261  0.009284  0.001362   \n",
       "2  0.0  0.0  0.0  0.0    ...     0.0  0.0  0.004261  0.009284  0.001362   \n",
       "\n",
       "    tree_14      rf_7     rf_14     ada_7    ada_14  \n",
       "0  0.005539  0.001374  0.005557  0.468139  0.474432  \n",
       "1  0.005539  0.001374  0.005557  0.468139  0.474432  \n",
       "2  0.005539  0.001374  0.005557  0.468139  0.474432  \n",
       "\n",
       "[3 rows x 21 columns]"
      ]
     },
     "execution_count": 30,
     "metadata": {},
     "output_type": "execute_result"
    }
   ],
   "source": [
    "df_sub_full_id = pd.DataFrame.merge( df_sample,\n",
    "                                 df_sub_full_id, how='left', on='user_id_hash').fillna(0)\n",
    "df_sub_full_id.head(3)"
   ]
  },
  {
   "cell_type": "code",
   "execution_count": 32,
   "metadata": {
    "ExecuteTime": {
     "end_time": "2019-02-18T04:37:38.525707Z",
     "start_time": "2019-02-18T04:37:36.804142Z"
    }
   },
   "outputs": [],
   "source": [
    "df = df_sub_full_id[[ 'user_id_hash','log_7','log_14']]\n",
    "df.rename(columns={'log_7': 'user_purchase_binary_7_days', \n",
    "                   'log_14': 'user_purchase_binary_14_days'},inplace=True)\n",
    "df.to_csv('sub_log.csv',  encoding='utf-8',index=False)"
   ]
  },
  {
   "cell_type": "code",
   "execution_count": 36,
   "metadata": {
    "ExecuteTime": {
     "end_time": "2019-02-18T04:38:42.092580Z",
     "start_time": "2019-02-18T04:38:40.664865Z"
    }
   },
   "outputs": [],
   "source": [
    "df = df_sub_full_id[[ 'user_id_hash','tree_7','tree_14']]\n",
    "df.rename(columns={'tree_7': 'user_purchase_binary_7_days', \n",
    "                   'tree_14': 'user_purchase_binary_14_days'},inplace=True)\n",
    "df.to_csv('sub_tree.csv', encoding='utf-8',index=False)"
   ]
  },
  {
   "cell_type": "code",
   "execution_count": 34,
   "metadata": {
    "ExecuteTime": {
     "end_time": "2019-02-18T04:38:17.016389Z",
     "start_time": "2019-02-18T04:38:15.520946Z"
    }
   },
   "outputs": [],
   "source": [
    "df = df_sub_full_id[[ 'user_id_hash','rf_7','rf_14']]\n",
    "df.rename(columns={'rf_7': 'user_purchase_binary_7_days', \n",
    "                   'rf_14': 'user_purchase_binary_14_days'},inplace=True)\n",
    "df.to_csv('sub_rf.csv', encoding='utf-8',index=False)"
   ]
  },
  {
   "cell_type": "code",
   "execution_count": 35,
   "metadata": {
    "ExecuteTime": {
     "end_time": "2019-02-18T04:38:28.745669Z",
     "start_time": "2019-02-18T04:38:27.320399Z"
    }
   },
   "outputs": [],
   "source": [
    "df = df_sub_full_id[[ 'user_id_hash','ada_7','ada_14']]\n",
    "df.rename(columns={'ada_7': 'user_purchase_binary_7_days', \n",
    "                   'ada_14': 'user_purchase_binary_14_days'},inplace=True)\n",
    "df.to_csv('sub_ada.csv', encoding='utf-8',index=False)"
   ]
  },
  {
   "cell_type": "code",
   "execution_count": null,
   "metadata": {},
   "outputs": [],
   "source": []
  },
  {
   "cell_type": "code",
   "execution_count": null,
   "metadata": {},
   "outputs": [],
   "source": []
  }
 ],
 "metadata": {
  "kernelspec": {
   "display_name": "Python 3",
   "language": "python",
   "name": "python3"
  },
  "language_info": {
   "codemirror_mode": {
    "name": "ipython",
    "version": 3
   },
   "file_extension": ".py",
   "mimetype": "text/x-python",
   "name": "python",
   "nbconvert_exporter": "python",
   "pygments_lexer": "ipython3",
   "version": "3.6.7"
  }
 },
 "nbformat": 4,
 "nbformat_minor": 2
}
