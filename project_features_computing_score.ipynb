{
 "cells": [
  {
   "cell_type": "code",
   "execution_count": 1,
   "metadata": {
    "ExecuteTime": {
     "end_time": "2019-02-17T07:00:00.049136Z",
     "start_time": "2019-02-17T06:59:59.405321Z"
    }
   },
   "outputs": [],
   "source": [
    "import numpy as np\n",
    "import pandas as pd"
   ]
  },
  {
   "cell_type": "code",
   "execution_count": 2,
   "metadata": {
    "ExecuteTime": {
     "end_time": "2019-02-17T07:02:53.528610Z",
     "start_time": "2019-02-17T07:00:01.682002Z"
    }
   },
   "outputs": [],
   "source": [
    "events_df = pd.read_csv(\"./events.csv\")"
   ]
  },
  {
   "cell_type": "code",
   "execution_count": 3,
   "metadata": {
    "ExecuteTime": {
     "end_time": "2019-02-17T07:02:53.594018Z",
     "start_time": "2019-02-17T07:02:53.550167Z"
    }
   },
   "outputs": [
    {
     "data": {
      "text/html": [
       "<div>\n",
       "<style scoped>\n",
       "    .dataframe tbody tr th:only-of-type {\n",
       "        vertical-align: middle;\n",
       "    }\n",
       "\n",
       "    .dataframe tbody tr th {\n",
       "        vertical-align: top;\n",
       "    }\n",
       "\n",
       "    .dataframe thead th {\n",
       "        text-align: right;\n",
       "    }\n",
       "</style>\n",
       "<table border=\"1\" class=\"dataframe\">\n",
       "  <thead>\n",
       "    <tr style=\"text-align: right;\">\n",
       "      <th></th>\n",
       "      <th>app_id</th>\n",
       "      <th>session_id</th>\n",
       "      <th>event</th>\n",
       "      <th>event_timestamp</th>\n",
       "      <th>event_value</th>\n",
       "      <th>user_id_hash</th>\n",
       "    </tr>\n",
       "  </thead>\n",
       "  <tbody>\n",
       "    <tr>\n",
       "      <th>0</th>\n",
       "      <td>4724682771660800</td>\n",
       "      <td>5558845121177764917</td>\n",
       "      <td>45</td>\n",
       "      <td>1542215397132</td>\n",
       "      <td>0.0</td>\n",
       "      <td>9943447915df3a45fd6720a026af905b6da6b56a37701b...</td>\n",
       "    </tr>\n",
       "    <tr>\n",
       "      <th>1</th>\n",
       "      <td>4724682771660800</td>\n",
       "      <td>5558845121177764917</td>\n",
       "      <td>45</td>\n",
       "      <td>1542215484895</td>\n",
       "      <td>0.0</td>\n",
       "      <td>9943447915df3a45fd6720a026af905b6da6b56a37701b...</td>\n",
       "    </tr>\n",
       "    <tr>\n",
       "      <th>2</th>\n",
       "      <td>4724682771660800</td>\n",
       "      <td>7689508378645584666</td>\n",
       "      <td>.m5100869650219008</td>\n",
       "      <td>1541124410372</td>\n",
       "      <td>0.0</td>\n",
       "      <td>9943447915df3a45fd6720a026af905b6da6b56a37701b...</td>\n",
       "    </tr>\n",
       "    <tr>\n",
       "      <th>3</th>\n",
       "      <td>4724682771660800</td>\n",
       "      <td>2201961907282901522</td>\n",
       "      <td>4</td>\n",
       "      <td>1543713091129</td>\n",
       "      <td>0.0</td>\n",
       "      <td>9943447915df3a45fd6720a026af905b6da6b56a37701b...</td>\n",
       "    </tr>\n",
       "    <tr>\n",
       "      <th>4</th>\n",
       "      <td>4724682771660800</td>\n",
       "      <td>2201961907282901522</td>\n",
       "      <td>6</td>\n",
       "      <td>1543713093116</td>\n",
       "      <td>0.0</td>\n",
       "      <td>9943447915df3a45fd6720a026af905b6da6b56a37701b...</td>\n",
       "    </tr>\n",
       "  </tbody>\n",
       "</table>\n",
       "</div>"
      ],
      "text/plain": [
       "             app_id           session_id               event  event_timestamp  \\\n",
       "0  4724682771660800  5558845121177764917                  45    1542215397132   \n",
       "1  4724682771660800  5558845121177764917                  45    1542215484895   \n",
       "2  4724682771660800  7689508378645584666  .m5100869650219008    1541124410372   \n",
       "3  4724682771660800  2201961907282901522                   4    1543713091129   \n",
       "4  4724682771660800  2201961907282901522                   6    1543713093116   \n",
       "\n",
       "   event_value                                       user_id_hash  \n",
       "0          0.0  9943447915df3a45fd6720a026af905b6da6b56a37701b...  \n",
       "1          0.0  9943447915df3a45fd6720a026af905b6da6b56a37701b...  \n",
       "2          0.0  9943447915df3a45fd6720a026af905b6da6b56a37701b...  \n",
       "3          0.0  9943447915df3a45fd6720a026af905b6da6b56a37701b...  \n",
       "4          0.0  9943447915df3a45fd6720a026af905b6da6b56a37701b...  "
      ]
     },
     "execution_count": 3,
     "metadata": {},
     "output_type": "execute_result"
    }
   ],
   "source": [
    "events_df.head()"
   ]
  },
  {
   "cell_type": "code",
   "execution_count": 4,
   "metadata": {
    "ExecuteTime": {
     "end_time": "2019-02-17T07:02:53.607818Z",
     "start_time": "2019-02-17T07:02:53.595900Z"
    }
   },
   "outputs": [
    {
     "name": "stdout",
     "output_type": "stream",
     "text": [
      "Index(['app_id', 'session_id', 'event', 'event_timestamp', 'event_value',\n",
      "       'user_id_hash'],\n",
      "      dtype='object')\n"
     ]
    }
   ],
   "source": [
    "print(events_df.columns)"
   ]
  },
  {
   "cell_type": "code",
   "execution_count": 5,
   "metadata": {
    "ExecuteTime": {
     "end_time": "2019-02-17T07:03:32.438677Z",
     "start_time": "2019-02-17T07:02:53.611064Z"
    }
   },
   "outputs": [],
   "source": [
    "events_df['if_purchase'] = events_df['event'].map(lambda x: 1 if x=='8' else 0)"
   ]
  },
  {
   "cell_type": "code",
   "execution_count": 6,
   "metadata": {
    "ExecuteTime": {
     "end_time": "2019-02-17T07:03:33.497118Z",
     "start_time": "2019-02-17T07:03:32.441866Z"
    }
   },
   "outputs": [],
   "source": [
    "from sklearn.feature_extraction import FeatureHasher\n",
    "from sklearn.preprocessing import OneHotEncoder\n",
    "from sklearn import preprocessing"
   ]
  },
  {
   "cell_type": "code",
   "execution_count": 7,
   "metadata": {
    "ExecuteTime": {
     "end_time": "2019-02-17T07:03:33.502111Z",
     "start_time": "2019-02-17T07:03:33.499148Z"
    }
   },
   "outputs": [],
   "source": [
    "le_user_id = preprocessing.LabelEncoder()\n",
    "le_app_id = preprocessing.LabelEncoder()\n",
    "le_session_id = preprocessing.LabelEncoder()"
   ]
  },
  {
   "cell_type": "code",
   "execution_count": 8,
   "metadata": {
    "ExecuteTime": {
     "end_time": "2019-02-17T07:03:45.878309Z",
     "start_time": "2019-02-17T07:03:33.504773Z"
    }
   },
   "outputs": [
    {
     "data": {
      "text/plain": [
       "LabelEncoder()"
      ]
     },
     "execution_count": 8,
     "metadata": {},
     "output_type": "execute_result"
    }
   ],
   "source": [
    "le_user_id.fit(events_df['user_id_hash'])\n",
    "le_app_id.fit(events_df['app_id'])\n",
    "le_session_id.fit(events_df['session_id'])"
   ]
  },
  {
   "cell_type": "code",
   "execution_count": 9,
   "metadata": {
    "ExecuteTime": {
     "end_time": "2019-02-17T07:04:39.392886Z",
     "start_time": "2019-02-17T07:03:45.880605Z"
    }
   },
   "outputs": [],
   "source": [
    "events_df['user_id_hash'] = le_user_id.transform(events_df['user_id_hash'])\n",
    "events_df['app_id'] = le_app_id.transform(events_df['app_id'])\n",
    "events_df['session_id'] = le_session_id.transform(events_df['session_id'])"
   ]
  },
  {
   "cell_type": "code",
   "execution_count": 10,
   "metadata": {
    "ExecuteTime": {
     "end_time": "2019-02-17T07:04:42.372812Z",
     "start_time": "2019-02-17T07:04:39.394585Z"
    }
   },
   "outputs": [],
   "source": [
    "events_df['user_id_hash'] = events_df['user_id_hash'].astype('uint32')\n",
    "events_df['app_id'] = events_df['app_id'].astype('uint8')\n",
    "events_df['session_id'] = events_df['session_id'].astype('uint32')\n",
    "events_df['if_purchase'] = events_df['if_purchase'].astype('uint8')"
   ]
  },
  {
   "cell_type": "code",
   "execution_count": 11,
   "metadata": {
    "ExecuteTime": {
     "end_time": "2019-02-17T07:04:43.729918Z",
     "start_time": "2019-02-17T07:04:42.375299Z"
    }
   },
   "outputs": [
    {
     "name": "stdout",
     "output_type": "stream",
     "text": [
      "<class 'pandas.core.frame.DataFrame'>\n",
      "RangeIndex: 111946597 entries, 0 to 111946596\n",
      "Data columns (total 7 columns):\n",
      "app_id             uint8\n",
      "session_id         uint32\n",
      "event              object\n",
      "event_timestamp    int64\n",
      "event_value        float64\n",
      "user_id_hash       uint32\n",
      "if_purchase        uint8\n",
      "dtypes: float64(1), int64(1), object(1), uint32(2), uint8(2)\n",
      "memory usage: 3.5+ GB\n"
     ]
    }
   ],
   "source": [
    "events_df.info()"
   ]
  },
  {
   "cell_type": "code",
   "execution_count": null,
   "metadata": {
    "ExecuteTime": {
     "end_time": "2019-02-17T07:04:47.041132Z",
     "start_time": "2019-02-17T07:04:43.731905Z"
    }
   },
   "outputs": [],
   "source": [
    "events_df['date'] = pd.to_datetime(events_df['event_timestamp'], unit='ms')\n",
    "events_df.drop(['events_timestamp'], axis=1)"
   ]
  },
  {
   "cell_type": "code",
   "execution_count": 13,
   "metadata": {
    "ExecuteTime": {
     "end_time": "2019-02-17T07:05:23.516391Z",
     "start_time": "2019-02-17T07:05:23.504135Z"
    }
   },
   "outputs": [
    {
     "data": {
      "text/html": [
       "<div>\n",
       "<style scoped>\n",
       "    .dataframe tbody tr th:only-of-type {\n",
       "        vertical-align: middle;\n",
       "    }\n",
       "\n",
       "    .dataframe tbody tr th {\n",
       "        vertical-align: top;\n",
       "    }\n",
       "\n",
       "    .dataframe thead th {\n",
       "        text-align: right;\n",
       "    }\n",
       "</style>\n",
       "<table border=\"1\" class=\"dataframe\">\n",
       "  <thead>\n",
       "    <tr style=\"text-align: right;\">\n",
       "      <th></th>\n",
       "      <th>app_id</th>\n",
       "      <th>session_id</th>\n",
       "      <th>event</th>\n",
       "      <th>event_timestamp</th>\n",
       "      <th>event_value</th>\n",
       "      <th>user_id_hash</th>\n",
       "      <th>if_purchase</th>\n",
       "      <th>date</th>\n",
       "    </tr>\n",
       "  </thead>\n",
       "  <tbody>\n",
       "    <tr>\n",
       "      <th>0</th>\n",
       "      <td>0</td>\n",
       "      <td>3018349</td>\n",
       "      <td>45</td>\n",
       "      <td>1542215397132</td>\n",
       "      <td>0.0</td>\n",
       "      <td>372190</td>\n",
       "      <td>0</td>\n",
       "      <td>2018-11-14 17:09:57.132</td>\n",
       "    </tr>\n",
       "    <tr>\n",
       "      <th>1</th>\n",
       "      <td>0</td>\n",
       "      <td>3018349</td>\n",
       "      <td>45</td>\n",
       "      <td>1542215484895</td>\n",
       "      <td>0.0</td>\n",
       "      <td>372190</td>\n",
       "      <td>0</td>\n",
       "      <td>2018-11-14 17:11:24.895</td>\n",
       "    </tr>\n",
       "    <tr>\n",
       "      <th>2</th>\n",
       "      <td>0</td>\n",
       "      <td>4175808</td>\n",
       "      <td>.m5100869650219008</td>\n",
       "      <td>1541124410372</td>\n",
       "      <td>0.0</td>\n",
       "      <td>372190</td>\n",
       "      <td>0</td>\n",
       "      <td>2018-11-02 02:06:50.372</td>\n",
       "    </tr>\n",
       "    <tr>\n",
       "      <th>3</th>\n",
       "      <td>0</td>\n",
       "      <td>1196154</td>\n",
       "      <td>4</td>\n",
       "      <td>1543713091129</td>\n",
       "      <td>0.0</td>\n",
       "      <td>372190</td>\n",
       "      <td>0</td>\n",
       "      <td>2018-12-02 01:11:31.129</td>\n",
       "    </tr>\n",
       "    <tr>\n",
       "      <th>4</th>\n",
       "      <td>0</td>\n",
       "      <td>1196154</td>\n",
       "      <td>6</td>\n",
       "      <td>1543713093116</td>\n",
       "      <td>0.0</td>\n",
       "      <td>372190</td>\n",
       "      <td>0</td>\n",
       "      <td>2018-12-02 01:11:33.116</td>\n",
       "    </tr>\n",
       "  </tbody>\n",
       "</table>\n",
       "</div>"
      ],
      "text/plain": [
       "   app_id  session_id               event  event_timestamp  event_value  \\\n",
       "0       0     3018349                  45    1542215397132          0.0   \n",
       "1       0     3018349                  45    1542215484895          0.0   \n",
       "2       0     4175808  .m5100869650219008    1541124410372          0.0   \n",
       "3       0     1196154                   4    1543713091129          0.0   \n",
       "4       0     1196154                   6    1543713093116          0.0   \n",
       "\n",
       "   user_id_hash  if_purchase                    date  \n",
       "0        372190            0 2018-11-14 17:09:57.132  \n",
       "1        372190            0 2018-11-14 17:11:24.895  \n",
       "2        372190            0 2018-11-02 02:06:50.372  \n",
       "3        372190            0 2018-12-02 01:11:31.129  \n",
       "4        372190            0 2018-12-02 01:11:33.116  "
      ]
     },
     "execution_count": 13,
     "metadata": {},
     "output_type": "execute_result"
    }
   ],
   "source": [
    "events_df.head()"
   ]
  },
  {
   "cell_type": "code",
   "execution_count": 19,
   "metadata": {
    "ExecuteTime": {
     "end_time": "2019-02-16T23:51:10.362745Z",
     "start_time": "2019-02-16T23:50:38.727658Z"
    }
   },
   "outputs": [
    {
     "data": {
      "text/plain": [
       "109625016"
      ]
     },
     "execution_count": 19,
     "metadata": {},
     "output_type": "execute_result"
    }
   ],
   "source": [
    "events_df.date.nunique()"
   ]
  },
  {
   "cell_type": "code",
   "execution_count": 14,
   "metadata": {
    "ExecuteTime": {
     "end_time": "2019-02-17T07:17:17.472943Z",
     "start_time": "2019-02-17T07:05:37.344643Z"
    }
   },
   "outputs": [],
   "source": [
    "events_df['day'] = events_df['date'].map(lambda dt: dt.date())"
   ]
  },
  {
   "cell_type": "code",
   "execution_count": 15,
   "metadata": {
    "ExecuteTime": {
     "end_time": "2019-02-17T07:17:24.045649Z",
     "start_time": "2019-02-17T07:17:23.990596Z"
    }
   },
   "outputs": [
    {
     "data": {
      "text/html": [
       "<div>\n",
       "<style scoped>\n",
       "    .dataframe tbody tr th:only-of-type {\n",
       "        vertical-align: middle;\n",
       "    }\n",
       "\n",
       "    .dataframe tbody tr th {\n",
       "        vertical-align: top;\n",
       "    }\n",
       "\n",
       "    .dataframe thead th {\n",
       "        text-align: right;\n",
       "    }\n",
       "</style>\n",
       "<table border=\"1\" class=\"dataframe\">\n",
       "  <thead>\n",
       "    <tr style=\"text-align: right;\">\n",
       "      <th></th>\n",
       "      <th>app_id</th>\n",
       "      <th>session_id</th>\n",
       "      <th>event</th>\n",
       "      <th>event_timestamp</th>\n",
       "      <th>event_value</th>\n",
       "      <th>user_id_hash</th>\n",
       "      <th>if_purchase</th>\n",
       "      <th>date</th>\n",
       "      <th>day</th>\n",
       "    </tr>\n",
       "  </thead>\n",
       "  <tbody>\n",
       "    <tr>\n",
       "      <th>0</th>\n",
       "      <td>0</td>\n",
       "      <td>3018349</td>\n",
       "      <td>45</td>\n",
       "      <td>1542215397132</td>\n",
       "      <td>0.0</td>\n",
       "      <td>372190</td>\n",
       "      <td>0</td>\n",
       "      <td>2018-11-14 17:09:57.132</td>\n",
       "      <td>2018-11-14</td>\n",
       "    </tr>\n",
       "    <tr>\n",
       "      <th>1</th>\n",
       "      <td>0</td>\n",
       "      <td>3018349</td>\n",
       "      <td>45</td>\n",
       "      <td>1542215484895</td>\n",
       "      <td>0.0</td>\n",
       "      <td>372190</td>\n",
       "      <td>0</td>\n",
       "      <td>2018-11-14 17:11:24.895</td>\n",
       "      <td>2018-11-14</td>\n",
       "    </tr>\n",
       "    <tr>\n",
       "      <th>2</th>\n",
       "      <td>0</td>\n",
       "      <td>4175808</td>\n",
       "      <td>.m5100869650219008</td>\n",
       "      <td>1541124410372</td>\n",
       "      <td>0.0</td>\n",
       "      <td>372190</td>\n",
       "      <td>0</td>\n",
       "      <td>2018-11-02 02:06:50.372</td>\n",
       "      <td>2018-11-02</td>\n",
       "    </tr>\n",
       "    <tr>\n",
       "      <th>3</th>\n",
       "      <td>0</td>\n",
       "      <td>1196154</td>\n",
       "      <td>4</td>\n",
       "      <td>1543713091129</td>\n",
       "      <td>0.0</td>\n",
       "      <td>372190</td>\n",
       "      <td>0</td>\n",
       "      <td>2018-12-02 01:11:31.129</td>\n",
       "      <td>2018-12-02</td>\n",
       "    </tr>\n",
       "    <tr>\n",
       "      <th>4</th>\n",
       "      <td>0</td>\n",
       "      <td>1196154</td>\n",
       "      <td>6</td>\n",
       "      <td>1543713093116</td>\n",
       "      <td>0.0</td>\n",
       "      <td>372190</td>\n",
       "      <td>0</td>\n",
       "      <td>2018-12-02 01:11:33.116</td>\n",
       "      <td>2018-12-02</td>\n",
       "    </tr>\n",
       "  </tbody>\n",
       "</table>\n",
       "</div>"
      ],
      "text/plain": [
       "   app_id  session_id               event  event_timestamp  event_value  \\\n",
       "0       0     3018349                  45    1542215397132          0.0   \n",
       "1       0     3018349                  45    1542215484895          0.0   \n",
       "2       0     4175808  .m5100869650219008    1541124410372          0.0   \n",
       "3       0     1196154                   4    1543713091129          0.0   \n",
       "4       0     1196154                   6    1543713093116          0.0   \n",
       "\n",
       "   user_id_hash  if_purchase                    date         day  \n",
       "0        372190            0 2018-11-14 17:09:57.132  2018-11-14  \n",
       "1        372190            0 2018-11-14 17:11:24.895  2018-11-14  \n",
       "2        372190            0 2018-11-02 02:06:50.372  2018-11-02  \n",
       "3        372190            0 2018-12-02 01:11:31.129  2018-12-02  \n",
       "4        372190            0 2018-12-02 01:11:33.116  2018-12-02  "
      ]
     },
     "execution_count": 15,
     "metadata": {},
     "output_type": "execute_result"
    }
   ],
   "source": [
    "events_df.head()"
   ]
  },
  {
   "cell_type": "code",
   "execution_count": 16,
   "metadata": {
    "ExecuteTime": {
     "end_time": "2019-02-17T07:17:59.948184Z",
     "start_time": "2019-02-17T07:17:26.264728Z"
    }
   },
   "outputs": [],
   "source": [
    "user_day_purchase = events_df.groupby(['user_id_hash', 'day'])['if_purchase'].sum()"
   ]
  },
  {
   "cell_type": "code",
   "execution_count": 17,
   "metadata": {
    "ExecuteTime": {
     "end_time": "2019-02-17T07:18:17.382049Z",
     "start_time": "2019-02-17T07:17:59.951019Z"
    }
   },
   "outputs": [],
   "source": [
    "user_day_event = events_df.groupby(['user_id_hash', 'day'])['if_purchase'].count()"
   ]
  },
  {
   "cell_type": "code",
   "execution_count": 32,
   "metadata": {
    "ExecuteTime": {
     "end_time": "2019-02-17T00:44:42.830182Z",
     "start_time": "2019-02-17T00:44:42.825416Z"
    }
   },
   "outputs": [
    {
     "data": {
      "text/plain": [
       "day\n",
       "2018-11-10    0\n",
       "2018-11-11    7\n",
       "2018-11-12    1\n",
       "2018-11-13    0\n",
       "2018-11-17    0\n",
       "2018-12-13    0\n",
       "Name: if_purchase, dtype: uint8"
      ]
     },
     "execution_count": 32,
     "metadata": {},
     "output_type": "execute_result"
    }
   ],
   "source": [
    "user_day_purchase[0]"
   ]
  },
  {
   "cell_type": "code",
   "execution_count": 39,
   "metadata": {
    "ExecuteTime": {
     "end_time": "2019-02-17T00:50:19.937130Z",
     "start_time": "2019-02-17T00:50:19.929294Z"
    }
   },
   "outputs": [
    {
     "data": {
      "text/plain": [
       "day\n",
       "2018-11-10    103\n",
       "2018-11-11    232\n",
       "2018-11-12    170\n",
       "2018-11-13      2\n",
       "2018-11-17      1\n",
       "2018-12-13     89\n",
       "Name: if_purchase, dtype: int64"
      ]
     },
     "execution_count": 39,
     "metadata": {},
     "output_type": "execute_result"
    }
   ],
   "source": [
    "user_day_event[0]"
   ]
  },
  {
   "cell_type": "code",
   "execution_count": 18,
   "metadata": {
    "ExecuteTime": {
     "end_time": "2019-02-17T07:22:06.712795Z",
     "start_time": "2019-02-17T07:22:06.251362Z"
    }
   },
   "outputs": [],
   "source": [
    "purchase_ratio_df = pd.DataFrame({'purchase_cnt': user_day_purchase, 'event_cnt': user_day_event}).reset_index()"
   ]
  },
  {
   "cell_type": "code",
   "execution_count": 19,
   "metadata": {
    "ExecuteTime": {
     "end_time": "2019-02-17T07:22:07.914761Z",
     "start_time": "2019-02-17T07:22:07.873534Z"
    }
   },
   "outputs": [],
   "source": [
    "purchase_ratio_df['purchase_ratio'] = purchase_ratio_df['purchase_cnt'] / purchase_ratio_df['event_cnt']"
   ]
  },
  {
   "cell_type": "code",
   "execution_count": 20,
   "metadata": {
    "ExecuteTime": {
     "end_time": "2019-02-17T07:22:09.870369Z",
     "start_time": "2019-02-17T07:22:09.857000Z"
    }
   },
   "outputs": [
    {
     "data": {
      "text/html": [
       "<div>\n",
       "<style scoped>\n",
       "    .dataframe tbody tr th:only-of-type {\n",
       "        vertical-align: middle;\n",
       "    }\n",
       "\n",
       "    .dataframe tbody tr th {\n",
       "        vertical-align: top;\n",
       "    }\n",
       "\n",
       "    .dataframe thead th {\n",
       "        text-align: right;\n",
       "    }\n",
       "</style>\n",
       "<table border=\"1\" class=\"dataframe\">\n",
       "  <thead>\n",
       "    <tr style=\"text-align: right;\">\n",
       "      <th></th>\n",
       "      <th>user_id_hash</th>\n",
       "      <th>day</th>\n",
       "      <th>purchase_cnt</th>\n",
       "      <th>event_cnt</th>\n",
       "      <th>purchase_ratio</th>\n",
       "    </tr>\n",
       "  </thead>\n",
       "  <tbody>\n",
       "    <tr>\n",
       "      <th>0</th>\n",
       "      <td>0</td>\n",
       "      <td>2018-11-10</td>\n",
       "      <td>0</td>\n",
       "      <td>103</td>\n",
       "      <td>0.000000</td>\n",
       "    </tr>\n",
       "    <tr>\n",
       "      <th>1</th>\n",
       "      <td>0</td>\n",
       "      <td>2018-11-11</td>\n",
       "      <td>7</td>\n",
       "      <td>232</td>\n",
       "      <td>0.030172</td>\n",
       "    </tr>\n",
       "    <tr>\n",
       "      <th>2</th>\n",
       "      <td>0</td>\n",
       "      <td>2018-11-12</td>\n",
       "      <td>1</td>\n",
       "      <td>170</td>\n",
       "      <td>0.005882</td>\n",
       "    </tr>\n",
       "    <tr>\n",
       "      <th>3</th>\n",
       "      <td>0</td>\n",
       "      <td>2018-11-13</td>\n",
       "      <td>0</td>\n",
       "      <td>2</td>\n",
       "      <td>0.000000</td>\n",
       "    </tr>\n",
       "    <tr>\n",
       "      <th>4</th>\n",
       "      <td>0</td>\n",
       "      <td>2018-11-17</td>\n",
       "      <td>0</td>\n",
       "      <td>1</td>\n",
       "      <td>0.000000</td>\n",
       "    </tr>\n",
       "  </tbody>\n",
       "</table>\n",
       "</div>"
      ],
      "text/plain": [
       "   user_id_hash         day  purchase_cnt  event_cnt  purchase_ratio\n",
       "0             0  2018-11-10             0        103        0.000000\n",
       "1             0  2018-11-11             7        232        0.030172\n",
       "2             0  2018-11-12             1        170        0.005882\n",
       "3             0  2018-11-13             0          2        0.000000\n",
       "4             0  2018-11-17             0          1        0.000000"
      ]
     },
     "execution_count": 20,
     "metadata": {},
     "output_type": "execute_result"
    }
   ],
   "source": [
    "purchase_ratio_df.head()"
   ]
  },
  {
   "cell_type": "code",
   "execution_count": 21,
   "metadata": {
    "ExecuteTime": {
     "end_time": "2019-02-17T07:22:13.196602Z",
     "start_time": "2019-02-17T07:22:11.775276Z"
    }
   },
   "outputs": [],
   "source": [
    "pivot_df = purchase_ratio_df.pivot(index='user_id_hash', columns='day', values='purchase_cnt')"
   ]
  },
  {
   "cell_type": "code",
   "execution_count": 22,
   "metadata": {
    "ExecuteTime": {
     "end_time": "2019-02-17T07:22:15.361092Z",
     "start_time": "2019-02-17T07:22:13.917803Z"
    }
   },
   "outputs": [],
   "source": [
    "pivot_df = pivot_df.fillna(0)"
   ]
  },
  {
   "cell_type": "code",
   "execution_count": 23,
   "metadata": {
    "ExecuteTime": {
     "end_time": "2019-02-17T07:22:15.507326Z",
     "start_time": "2019-02-17T07:22:15.363708Z"
    }
   },
   "outputs": [
    {
     "data": {
      "text/html": [
       "<div>\n",
       "<style scoped>\n",
       "    .dataframe tbody tr th:only-of-type {\n",
       "        vertical-align: middle;\n",
       "    }\n",
       "\n",
       "    .dataframe tbody tr th {\n",
       "        vertical-align: top;\n",
       "    }\n",
       "\n",
       "    .dataframe thead th {\n",
       "        text-align: right;\n",
       "    }\n",
       "</style>\n",
       "<table border=\"1\" class=\"dataframe\">\n",
       "  <thead>\n",
       "    <tr style=\"text-align: right;\">\n",
       "      <th>day</th>\n",
       "      <th>2018-10-01</th>\n",
       "      <th>2018-10-02</th>\n",
       "      <th>2018-10-03</th>\n",
       "      <th>2018-10-04</th>\n",
       "      <th>2018-10-05</th>\n",
       "      <th>2018-10-06</th>\n",
       "      <th>2018-10-07</th>\n",
       "      <th>2018-10-08</th>\n",
       "      <th>2018-10-09</th>\n",
       "      <th>2018-10-10</th>\n",
       "      <th>...</th>\n",
       "      <th>2018-12-05</th>\n",
       "      <th>2018-12-06</th>\n",
       "      <th>2018-12-07</th>\n",
       "      <th>2018-12-08</th>\n",
       "      <th>2018-12-09</th>\n",
       "      <th>2018-12-10</th>\n",
       "      <th>2018-12-11</th>\n",
       "      <th>2018-12-12</th>\n",
       "      <th>2018-12-13</th>\n",
       "      <th>2018-12-14</th>\n",
       "    </tr>\n",
       "    <tr>\n",
       "      <th>user_id_hash</th>\n",
       "      <th></th>\n",
       "      <th></th>\n",
       "      <th></th>\n",
       "      <th></th>\n",
       "      <th></th>\n",
       "      <th></th>\n",
       "      <th></th>\n",
       "      <th></th>\n",
       "      <th></th>\n",
       "      <th></th>\n",
       "      <th></th>\n",
       "      <th></th>\n",
       "      <th></th>\n",
       "      <th></th>\n",
       "      <th></th>\n",
       "      <th></th>\n",
       "      <th></th>\n",
       "      <th></th>\n",
       "      <th></th>\n",
       "      <th></th>\n",
       "      <th></th>\n",
       "    </tr>\n",
       "  </thead>\n",
       "  <tbody>\n",
       "    <tr>\n",
       "      <th>0</th>\n",
       "      <td>0.0</td>\n",
       "      <td>0.0</td>\n",
       "      <td>0.0</td>\n",
       "      <td>0.0</td>\n",
       "      <td>0.0</td>\n",
       "      <td>0.0</td>\n",
       "      <td>0.0</td>\n",
       "      <td>0.0</td>\n",
       "      <td>0.0</td>\n",
       "      <td>0.0</td>\n",
       "      <td>...</td>\n",
       "      <td>0.0</td>\n",
       "      <td>0.0</td>\n",
       "      <td>0.0</td>\n",
       "      <td>0.0</td>\n",
       "      <td>0.0</td>\n",
       "      <td>0.0</td>\n",
       "      <td>0.0</td>\n",
       "      <td>0.0</td>\n",
       "      <td>0.0</td>\n",
       "      <td>0.0</td>\n",
       "    </tr>\n",
       "    <tr>\n",
       "      <th>1</th>\n",
       "      <td>0.0</td>\n",
       "      <td>0.0</td>\n",
       "      <td>0.0</td>\n",
       "      <td>0.0</td>\n",
       "      <td>0.0</td>\n",
       "      <td>0.0</td>\n",
       "      <td>0.0</td>\n",
       "      <td>0.0</td>\n",
       "      <td>0.0</td>\n",
       "      <td>0.0</td>\n",
       "      <td>...</td>\n",
       "      <td>0.0</td>\n",
       "      <td>0.0</td>\n",
       "      <td>0.0</td>\n",
       "      <td>0.0</td>\n",
       "      <td>0.0</td>\n",
       "      <td>0.0</td>\n",
       "      <td>0.0</td>\n",
       "      <td>0.0</td>\n",
       "      <td>0.0</td>\n",
       "      <td>0.0</td>\n",
       "    </tr>\n",
       "    <tr>\n",
       "      <th>2</th>\n",
       "      <td>0.0</td>\n",
       "      <td>0.0</td>\n",
       "      <td>0.0</td>\n",
       "      <td>0.0</td>\n",
       "      <td>0.0</td>\n",
       "      <td>0.0</td>\n",
       "      <td>0.0</td>\n",
       "      <td>0.0</td>\n",
       "      <td>0.0</td>\n",
       "      <td>0.0</td>\n",
       "      <td>...</td>\n",
       "      <td>0.0</td>\n",
       "      <td>0.0</td>\n",
       "      <td>0.0</td>\n",
       "      <td>0.0</td>\n",
       "      <td>0.0</td>\n",
       "      <td>0.0</td>\n",
       "      <td>0.0</td>\n",
       "      <td>0.0</td>\n",
       "      <td>0.0</td>\n",
       "      <td>0.0</td>\n",
       "    </tr>\n",
       "    <tr>\n",
       "      <th>3</th>\n",
       "      <td>0.0</td>\n",
       "      <td>0.0</td>\n",
       "      <td>0.0</td>\n",
       "      <td>0.0</td>\n",
       "      <td>0.0</td>\n",
       "      <td>0.0</td>\n",
       "      <td>0.0</td>\n",
       "      <td>0.0</td>\n",
       "      <td>0.0</td>\n",
       "      <td>0.0</td>\n",
       "      <td>...</td>\n",
       "      <td>0.0</td>\n",
       "      <td>0.0</td>\n",
       "      <td>0.0</td>\n",
       "      <td>0.0</td>\n",
       "      <td>0.0</td>\n",
       "      <td>0.0</td>\n",
       "      <td>0.0</td>\n",
       "      <td>0.0</td>\n",
       "      <td>0.0</td>\n",
       "      <td>0.0</td>\n",
       "    </tr>\n",
       "    <tr>\n",
       "      <th>4</th>\n",
       "      <td>0.0</td>\n",
       "      <td>0.0</td>\n",
       "      <td>0.0</td>\n",
       "      <td>0.0</td>\n",
       "      <td>0.0</td>\n",
       "      <td>0.0</td>\n",
       "      <td>0.0</td>\n",
       "      <td>0.0</td>\n",
       "      <td>0.0</td>\n",
       "      <td>0.0</td>\n",
       "      <td>...</td>\n",
       "      <td>0.0</td>\n",
       "      <td>0.0</td>\n",
       "      <td>0.0</td>\n",
       "      <td>0.0</td>\n",
       "      <td>0.0</td>\n",
       "      <td>0.0</td>\n",
       "      <td>0.0</td>\n",
       "      <td>0.0</td>\n",
       "      <td>0.0</td>\n",
       "      <td>0.0</td>\n",
       "    </tr>\n",
       "    <tr>\n",
       "      <th>5</th>\n",
       "      <td>0.0</td>\n",
       "      <td>0.0</td>\n",
       "      <td>0.0</td>\n",
       "      <td>0.0</td>\n",
       "      <td>0.0</td>\n",
       "      <td>0.0</td>\n",
       "      <td>0.0</td>\n",
       "      <td>0.0</td>\n",
       "      <td>0.0</td>\n",
       "      <td>0.0</td>\n",
       "      <td>...</td>\n",
       "      <td>0.0</td>\n",
       "      <td>0.0</td>\n",
       "      <td>0.0</td>\n",
       "      <td>0.0</td>\n",
       "      <td>0.0</td>\n",
       "      <td>0.0</td>\n",
       "      <td>0.0</td>\n",
       "      <td>0.0</td>\n",
       "      <td>0.0</td>\n",
       "      <td>0.0</td>\n",
       "    </tr>\n",
       "    <tr>\n",
       "      <th>6</th>\n",
       "      <td>0.0</td>\n",
       "      <td>0.0</td>\n",
       "      <td>0.0</td>\n",
       "      <td>0.0</td>\n",
       "      <td>0.0</td>\n",
       "      <td>0.0</td>\n",
       "      <td>0.0</td>\n",
       "      <td>0.0</td>\n",
       "      <td>0.0</td>\n",
       "      <td>0.0</td>\n",
       "      <td>...</td>\n",
       "      <td>0.0</td>\n",
       "      <td>0.0</td>\n",
       "      <td>0.0</td>\n",
       "      <td>0.0</td>\n",
       "      <td>0.0</td>\n",
       "      <td>0.0</td>\n",
       "      <td>0.0</td>\n",
       "      <td>0.0</td>\n",
       "      <td>0.0</td>\n",
       "      <td>0.0</td>\n",
       "    </tr>\n",
       "    <tr>\n",
       "      <th>7</th>\n",
       "      <td>0.0</td>\n",
       "      <td>0.0</td>\n",
       "      <td>0.0</td>\n",
       "      <td>0.0</td>\n",
       "      <td>0.0</td>\n",
       "      <td>0.0</td>\n",
       "      <td>0.0</td>\n",
       "      <td>0.0</td>\n",
       "      <td>0.0</td>\n",
       "      <td>0.0</td>\n",
       "      <td>...</td>\n",
       "      <td>0.0</td>\n",
       "      <td>0.0</td>\n",
       "      <td>0.0</td>\n",
       "      <td>0.0</td>\n",
       "      <td>0.0</td>\n",
       "      <td>0.0</td>\n",
       "      <td>0.0</td>\n",
       "      <td>0.0</td>\n",
       "      <td>0.0</td>\n",
       "      <td>0.0</td>\n",
       "    </tr>\n",
       "    <tr>\n",
       "      <th>8</th>\n",
       "      <td>0.0</td>\n",
       "      <td>0.0</td>\n",
       "      <td>0.0</td>\n",
       "      <td>0.0</td>\n",
       "      <td>0.0</td>\n",
       "      <td>0.0</td>\n",
       "      <td>0.0</td>\n",
       "      <td>0.0</td>\n",
       "      <td>0.0</td>\n",
       "      <td>0.0</td>\n",
       "      <td>...</td>\n",
       "      <td>0.0</td>\n",
       "      <td>0.0</td>\n",
       "      <td>0.0</td>\n",
       "      <td>0.0</td>\n",
       "      <td>0.0</td>\n",
       "      <td>0.0</td>\n",
       "      <td>0.0</td>\n",
       "      <td>0.0</td>\n",
       "      <td>0.0</td>\n",
       "      <td>0.0</td>\n",
       "    </tr>\n",
       "    <tr>\n",
       "      <th>9</th>\n",
       "      <td>0.0</td>\n",
       "      <td>0.0</td>\n",
       "      <td>0.0</td>\n",
       "      <td>0.0</td>\n",
       "      <td>0.0</td>\n",
       "      <td>0.0</td>\n",
       "      <td>0.0</td>\n",
       "      <td>0.0</td>\n",
       "      <td>0.0</td>\n",
       "      <td>0.0</td>\n",
       "      <td>...</td>\n",
       "      <td>0.0</td>\n",
       "      <td>0.0</td>\n",
       "      <td>0.0</td>\n",
       "      <td>0.0</td>\n",
       "      <td>0.0</td>\n",
       "      <td>0.0</td>\n",
       "      <td>0.0</td>\n",
       "      <td>0.0</td>\n",
       "      <td>0.0</td>\n",
       "      <td>0.0</td>\n",
       "    </tr>\n",
       "    <tr>\n",
       "      <th>10</th>\n",
       "      <td>0.0</td>\n",
       "      <td>0.0</td>\n",
       "      <td>0.0</td>\n",
       "      <td>0.0</td>\n",
       "      <td>0.0</td>\n",
       "      <td>0.0</td>\n",
       "      <td>0.0</td>\n",
       "      <td>0.0</td>\n",
       "      <td>0.0</td>\n",
       "      <td>0.0</td>\n",
       "      <td>...</td>\n",
       "      <td>0.0</td>\n",
       "      <td>0.0</td>\n",
       "      <td>0.0</td>\n",
       "      <td>0.0</td>\n",
       "      <td>0.0</td>\n",
       "      <td>0.0</td>\n",
       "      <td>0.0</td>\n",
       "      <td>0.0</td>\n",
       "      <td>0.0</td>\n",
       "      <td>0.0</td>\n",
       "    </tr>\n",
       "    <tr>\n",
       "      <th>11</th>\n",
       "      <td>0.0</td>\n",
       "      <td>0.0</td>\n",
       "      <td>0.0</td>\n",
       "      <td>0.0</td>\n",
       "      <td>0.0</td>\n",
       "      <td>0.0</td>\n",
       "      <td>0.0</td>\n",
       "      <td>0.0</td>\n",
       "      <td>0.0</td>\n",
       "      <td>0.0</td>\n",
       "      <td>...</td>\n",
       "      <td>0.0</td>\n",
       "      <td>0.0</td>\n",
       "      <td>0.0</td>\n",
       "      <td>0.0</td>\n",
       "      <td>0.0</td>\n",
       "      <td>0.0</td>\n",
       "      <td>0.0</td>\n",
       "      <td>0.0</td>\n",
       "      <td>0.0</td>\n",
       "      <td>0.0</td>\n",
       "    </tr>\n",
       "    <tr>\n",
       "      <th>12</th>\n",
       "      <td>0.0</td>\n",
       "      <td>0.0</td>\n",
       "      <td>0.0</td>\n",
       "      <td>0.0</td>\n",
       "      <td>0.0</td>\n",
       "      <td>0.0</td>\n",
       "      <td>0.0</td>\n",
       "      <td>0.0</td>\n",
       "      <td>0.0</td>\n",
       "      <td>0.0</td>\n",
       "      <td>...</td>\n",
       "      <td>0.0</td>\n",
       "      <td>0.0</td>\n",
       "      <td>0.0</td>\n",
       "      <td>0.0</td>\n",
       "      <td>0.0</td>\n",
       "      <td>0.0</td>\n",
       "      <td>0.0</td>\n",
       "      <td>0.0</td>\n",
       "      <td>0.0</td>\n",
       "      <td>0.0</td>\n",
       "    </tr>\n",
       "    <tr>\n",
       "      <th>13</th>\n",
       "      <td>0.0</td>\n",
       "      <td>0.0</td>\n",
       "      <td>0.0</td>\n",
       "      <td>0.0</td>\n",
       "      <td>0.0</td>\n",
       "      <td>0.0</td>\n",
       "      <td>0.0</td>\n",
       "      <td>0.0</td>\n",
       "      <td>0.0</td>\n",
       "      <td>0.0</td>\n",
       "      <td>...</td>\n",
       "      <td>0.0</td>\n",
       "      <td>0.0</td>\n",
       "      <td>0.0</td>\n",
       "      <td>0.0</td>\n",
       "      <td>0.0</td>\n",
       "      <td>0.0</td>\n",
       "      <td>0.0</td>\n",
       "      <td>0.0</td>\n",
       "      <td>0.0</td>\n",
       "      <td>0.0</td>\n",
       "    </tr>\n",
       "    <tr>\n",
       "      <th>14</th>\n",
       "      <td>0.0</td>\n",
       "      <td>0.0</td>\n",
       "      <td>0.0</td>\n",
       "      <td>0.0</td>\n",
       "      <td>0.0</td>\n",
       "      <td>0.0</td>\n",
       "      <td>0.0</td>\n",
       "      <td>0.0</td>\n",
       "      <td>0.0</td>\n",
       "      <td>0.0</td>\n",
       "      <td>...</td>\n",
       "      <td>0.0</td>\n",
       "      <td>0.0</td>\n",
       "      <td>0.0</td>\n",
       "      <td>0.0</td>\n",
       "      <td>0.0</td>\n",
       "      <td>0.0</td>\n",
       "      <td>0.0</td>\n",
       "      <td>0.0</td>\n",
       "      <td>0.0</td>\n",
       "      <td>0.0</td>\n",
       "    </tr>\n",
       "    <tr>\n",
       "      <th>15</th>\n",
       "      <td>0.0</td>\n",
       "      <td>0.0</td>\n",
       "      <td>0.0</td>\n",
       "      <td>0.0</td>\n",
       "      <td>0.0</td>\n",
       "      <td>0.0</td>\n",
       "      <td>0.0</td>\n",
       "      <td>0.0</td>\n",
       "      <td>0.0</td>\n",
       "      <td>0.0</td>\n",
       "      <td>...</td>\n",
       "      <td>0.0</td>\n",
       "      <td>0.0</td>\n",
       "      <td>0.0</td>\n",
       "      <td>0.0</td>\n",
       "      <td>0.0</td>\n",
       "      <td>0.0</td>\n",
       "      <td>0.0</td>\n",
       "      <td>0.0</td>\n",
       "      <td>0.0</td>\n",
       "      <td>0.0</td>\n",
       "    </tr>\n",
       "    <tr>\n",
       "      <th>16</th>\n",
       "      <td>0.0</td>\n",
       "      <td>0.0</td>\n",
       "      <td>0.0</td>\n",
       "      <td>0.0</td>\n",
       "      <td>0.0</td>\n",
       "      <td>0.0</td>\n",
       "      <td>0.0</td>\n",
       "      <td>0.0</td>\n",
       "      <td>0.0</td>\n",
       "      <td>0.0</td>\n",
       "      <td>...</td>\n",
       "      <td>0.0</td>\n",
       "      <td>0.0</td>\n",
       "      <td>0.0</td>\n",
       "      <td>0.0</td>\n",
       "      <td>0.0</td>\n",
       "      <td>0.0</td>\n",
       "      <td>0.0</td>\n",
       "      <td>0.0</td>\n",
       "      <td>0.0</td>\n",
       "      <td>0.0</td>\n",
       "    </tr>\n",
       "    <tr>\n",
       "      <th>17</th>\n",
       "      <td>0.0</td>\n",
       "      <td>0.0</td>\n",
       "      <td>0.0</td>\n",
       "      <td>0.0</td>\n",
       "      <td>0.0</td>\n",
       "      <td>0.0</td>\n",
       "      <td>0.0</td>\n",
       "      <td>0.0</td>\n",
       "      <td>0.0</td>\n",
       "      <td>0.0</td>\n",
       "      <td>...</td>\n",
       "      <td>0.0</td>\n",
       "      <td>0.0</td>\n",
       "      <td>0.0</td>\n",
       "      <td>0.0</td>\n",
       "      <td>0.0</td>\n",
       "      <td>0.0</td>\n",
       "      <td>0.0</td>\n",
       "      <td>0.0</td>\n",
       "      <td>0.0</td>\n",
       "      <td>0.0</td>\n",
       "    </tr>\n",
       "    <tr>\n",
       "      <th>18</th>\n",
       "      <td>0.0</td>\n",
       "      <td>0.0</td>\n",
       "      <td>0.0</td>\n",
       "      <td>0.0</td>\n",
       "      <td>0.0</td>\n",
       "      <td>0.0</td>\n",
       "      <td>0.0</td>\n",
       "      <td>0.0</td>\n",
       "      <td>0.0</td>\n",
       "      <td>0.0</td>\n",
       "      <td>...</td>\n",
       "      <td>0.0</td>\n",
       "      <td>0.0</td>\n",
       "      <td>0.0</td>\n",
       "      <td>0.0</td>\n",
       "      <td>0.0</td>\n",
       "      <td>0.0</td>\n",
       "      <td>0.0</td>\n",
       "      <td>0.0</td>\n",
       "      <td>0.0</td>\n",
       "      <td>0.0</td>\n",
       "    </tr>\n",
       "    <tr>\n",
       "      <th>19</th>\n",
       "      <td>0.0</td>\n",
       "      <td>0.0</td>\n",
       "      <td>0.0</td>\n",
       "      <td>0.0</td>\n",
       "      <td>0.0</td>\n",
       "      <td>0.0</td>\n",
       "      <td>0.0</td>\n",
       "      <td>0.0</td>\n",
       "      <td>0.0</td>\n",
       "      <td>0.0</td>\n",
       "      <td>...</td>\n",
       "      <td>0.0</td>\n",
       "      <td>0.0</td>\n",
       "      <td>0.0</td>\n",
       "      <td>0.0</td>\n",
       "      <td>0.0</td>\n",
       "      <td>0.0</td>\n",
       "      <td>0.0</td>\n",
       "      <td>0.0</td>\n",
       "      <td>0.0</td>\n",
       "      <td>0.0</td>\n",
       "    </tr>\n",
       "    <tr>\n",
       "      <th>20</th>\n",
       "      <td>0.0</td>\n",
       "      <td>0.0</td>\n",
       "      <td>0.0</td>\n",
       "      <td>0.0</td>\n",
       "      <td>0.0</td>\n",
       "      <td>0.0</td>\n",
       "      <td>0.0</td>\n",
       "      <td>0.0</td>\n",
       "      <td>0.0</td>\n",
       "      <td>0.0</td>\n",
       "      <td>...</td>\n",
       "      <td>0.0</td>\n",
       "      <td>0.0</td>\n",
       "      <td>0.0</td>\n",
       "      <td>0.0</td>\n",
       "      <td>0.0</td>\n",
       "      <td>0.0</td>\n",
       "      <td>0.0</td>\n",
       "      <td>0.0</td>\n",
       "      <td>0.0</td>\n",
       "      <td>0.0</td>\n",
       "    </tr>\n",
       "    <tr>\n",
       "      <th>21</th>\n",
       "      <td>0.0</td>\n",
       "      <td>0.0</td>\n",
       "      <td>0.0</td>\n",
       "      <td>0.0</td>\n",
       "      <td>0.0</td>\n",
       "      <td>0.0</td>\n",
       "      <td>0.0</td>\n",
       "      <td>0.0</td>\n",
       "      <td>0.0</td>\n",
       "      <td>0.0</td>\n",
       "      <td>...</td>\n",
       "      <td>0.0</td>\n",
       "      <td>0.0</td>\n",
       "      <td>0.0</td>\n",
       "      <td>0.0</td>\n",
       "      <td>0.0</td>\n",
       "      <td>0.0</td>\n",
       "      <td>0.0</td>\n",
       "      <td>0.0</td>\n",
       "      <td>0.0</td>\n",
       "      <td>0.0</td>\n",
       "    </tr>\n",
       "    <tr>\n",
       "      <th>22</th>\n",
       "      <td>0.0</td>\n",
       "      <td>0.0</td>\n",
       "      <td>0.0</td>\n",
       "      <td>0.0</td>\n",
       "      <td>0.0</td>\n",
       "      <td>0.0</td>\n",
       "      <td>0.0</td>\n",
       "      <td>0.0</td>\n",
       "      <td>0.0</td>\n",
       "      <td>0.0</td>\n",
       "      <td>...</td>\n",
       "      <td>0.0</td>\n",
       "      <td>0.0</td>\n",
       "      <td>0.0</td>\n",
       "      <td>0.0</td>\n",
       "      <td>0.0</td>\n",
       "      <td>0.0</td>\n",
       "      <td>0.0</td>\n",
       "      <td>0.0</td>\n",
       "      <td>0.0</td>\n",
       "      <td>0.0</td>\n",
       "    </tr>\n",
       "    <tr>\n",
       "      <th>23</th>\n",
       "      <td>0.0</td>\n",
       "      <td>0.0</td>\n",
       "      <td>0.0</td>\n",
       "      <td>0.0</td>\n",
       "      <td>0.0</td>\n",
       "      <td>0.0</td>\n",
       "      <td>0.0</td>\n",
       "      <td>0.0</td>\n",
       "      <td>0.0</td>\n",
       "      <td>0.0</td>\n",
       "      <td>...</td>\n",
       "      <td>0.0</td>\n",
       "      <td>0.0</td>\n",
       "      <td>0.0</td>\n",
       "      <td>0.0</td>\n",
       "      <td>0.0</td>\n",
       "      <td>0.0</td>\n",
       "      <td>0.0</td>\n",
       "      <td>0.0</td>\n",
       "      <td>0.0</td>\n",
       "      <td>0.0</td>\n",
       "    </tr>\n",
       "    <tr>\n",
       "      <th>24</th>\n",
       "      <td>0.0</td>\n",
       "      <td>0.0</td>\n",
       "      <td>0.0</td>\n",
       "      <td>0.0</td>\n",
       "      <td>0.0</td>\n",
       "      <td>0.0</td>\n",
       "      <td>0.0</td>\n",
       "      <td>0.0</td>\n",
       "      <td>0.0</td>\n",
       "      <td>0.0</td>\n",
       "      <td>...</td>\n",
       "      <td>0.0</td>\n",
       "      <td>0.0</td>\n",
       "      <td>0.0</td>\n",
       "      <td>0.0</td>\n",
       "      <td>0.0</td>\n",
       "      <td>0.0</td>\n",
       "      <td>0.0</td>\n",
       "      <td>0.0</td>\n",
       "      <td>0.0</td>\n",
       "      <td>0.0</td>\n",
       "    </tr>\n",
       "    <tr>\n",
       "      <th>25</th>\n",
       "      <td>0.0</td>\n",
       "      <td>0.0</td>\n",
       "      <td>0.0</td>\n",
       "      <td>0.0</td>\n",
       "      <td>0.0</td>\n",
       "      <td>0.0</td>\n",
       "      <td>0.0</td>\n",
       "      <td>0.0</td>\n",
       "      <td>0.0</td>\n",
       "      <td>0.0</td>\n",
       "      <td>...</td>\n",
       "      <td>0.0</td>\n",
       "      <td>0.0</td>\n",
       "      <td>0.0</td>\n",
       "      <td>0.0</td>\n",
       "      <td>0.0</td>\n",
       "      <td>0.0</td>\n",
       "      <td>0.0</td>\n",
       "      <td>0.0</td>\n",
       "      <td>0.0</td>\n",
       "      <td>0.0</td>\n",
       "    </tr>\n",
       "    <tr>\n",
       "      <th>26</th>\n",
       "      <td>0.0</td>\n",
       "      <td>0.0</td>\n",
       "      <td>0.0</td>\n",
       "      <td>0.0</td>\n",
       "      <td>0.0</td>\n",
       "      <td>0.0</td>\n",
       "      <td>0.0</td>\n",
       "      <td>0.0</td>\n",
       "      <td>0.0</td>\n",
       "      <td>0.0</td>\n",
       "      <td>...</td>\n",
       "      <td>0.0</td>\n",
       "      <td>0.0</td>\n",
       "      <td>0.0</td>\n",
       "      <td>0.0</td>\n",
       "      <td>0.0</td>\n",
       "      <td>0.0</td>\n",
       "      <td>0.0</td>\n",
       "      <td>0.0</td>\n",
       "      <td>0.0</td>\n",
       "      <td>0.0</td>\n",
       "    </tr>\n",
       "    <tr>\n",
       "      <th>27</th>\n",
       "      <td>0.0</td>\n",
       "      <td>0.0</td>\n",
       "      <td>0.0</td>\n",
       "      <td>0.0</td>\n",
       "      <td>0.0</td>\n",
       "      <td>0.0</td>\n",
       "      <td>0.0</td>\n",
       "      <td>0.0</td>\n",
       "      <td>0.0</td>\n",
       "      <td>0.0</td>\n",
       "      <td>...</td>\n",
       "      <td>0.0</td>\n",
       "      <td>0.0</td>\n",
       "      <td>0.0</td>\n",
       "      <td>0.0</td>\n",
       "      <td>0.0</td>\n",
       "      <td>0.0</td>\n",
       "      <td>0.0</td>\n",
       "      <td>0.0</td>\n",
       "      <td>0.0</td>\n",
       "      <td>0.0</td>\n",
       "    </tr>\n",
       "    <tr>\n",
       "      <th>28</th>\n",
       "      <td>0.0</td>\n",
       "      <td>0.0</td>\n",
       "      <td>0.0</td>\n",
       "      <td>0.0</td>\n",
       "      <td>0.0</td>\n",
       "      <td>0.0</td>\n",
       "      <td>0.0</td>\n",
       "      <td>0.0</td>\n",
       "      <td>0.0</td>\n",
       "      <td>0.0</td>\n",
       "      <td>...</td>\n",
       "      <td>0.0</td>\n",
       "      <td>0.0</td>\n",
       "      <td>0.0</td>\n",
       "      <td>0.0</td>\n",
       "      <td>0.0</td>\n",
       "      <td>0.0</td>\n",
       "      <td>0.0</td>\n",
       "      <td>0.0</td>\n",
       "      <td>0.0</td>\n",
       "      <td>0.0</td>\n",
       "    </tr>\n",
       "    <tr>\n",
       "      <th>29</th>\n",
       "      <td>0.0</td>\n",
       "      <td>0.0</td>\n",
       "      <td>0.0</td>\n",
       "      <td>0.0</td>\n",
       "      <td>0.0</td>\n",
       "      <td>0.0</td>\n",
       "      <td>0.0</td>\n",
       "      <td>0.0</td>\n",
       "      <td>0.0</td>\n",
       "      <td>0.0</td>\n",
       "      <td>...</td>\n",
       "      <td>0.0</td>\n",
       "      <td>0.0</td>\n",
       "      <td>0.0</td>\n",
       "      <td>0.0</td>\n",
       "      <td>0.0</td>\n",
       "      <td>0.0</td>\n",
       "      <td>0.0</td>\n",
       "      <td>0.0</td>\n",
       "      <td>0.0</td>\n",
       "      <td>0.0</td>\n",
       "    </tr>\n",
       "    <tr>\n",
       "      <th>...</th>\n",
       "      <td>...</td>\n",
       "      <td>...</td>\n",
       "      <td>...</td>\n",
       "      <td>...</td>\n",
       "      <td>...</td>\n",
       "      <td>...</td>\n",
       "      <td>...</td>\n",
       "      <td>...</td>\n",
       "      <td>...</td>\n",
       "      <td>...</td>\n",
       "      <td>...</td>\n",
       "      <td>...</td>\n",
       "      <td>...</td>\n",
       "      <td>...</td>\n",
       "      <td>...</td>\n",
       "      <td>...</td>\n",
       "      <td>...</td>\n",
       "      <td>...</td>\n",
       "      <td>...</td>\n",
       "      <td>...</td>\n",
       "      <td>...</td>\n",
       "    </tr>\n",
       "    <tr>\n",
       "      <th>620971</th>\n",
       "      <td>0.0</td>\n",
       "      <td>0.0</td>\n",
       "      <td>0.0</td>\n",
       "      <td>0.0</td>\n",
       "      <td>0.0</td>\n",
       "      <td>0.0</td>\n",
       "      <td>0.0</td>\n",
       "      <td>0.0</td>\n",
       "      <td>0.0</td>\n",
       "      <td>0.0</td>\n",
       "      <td>...</td>\n",
       "      <td>0.0</td>\n",
       "      <td>0.0</td>\n",
       "      <td>0.0</td>\n",
       "      <td>0.0</td>\n",
       "      <td>0.0</td>\n",
       "      <td>0.0</td>\n",
       "      <td>0.0</td>\n",
       "      <td>0.0</td>\n",
       "      <td>0.0</td>\n",
       "      <td>0.0</td>\n",
       "    </tr>\n",
       "    <tr>\n",
       "      <th>620972</th>\n",
       "      <td>0.0</td>\n",
       "      <td>0.0</td>\n",
       "      <td>0.0</td>\n",
       "      <td>0.0</td>\n",
       "      <td>0.0</td>\n",
       "      <td>0.0</td>\n",
       "      <td>0.0</td>\n",
       "      <td>0.0</td>\n",
       "      <td>0.0</td>\n",
       "      <td>0.0</td>\n",
       "      <td>...</td>\n",
       "      <td>0.0</td>\n",
       "      <td>0.0</td>\n",
       "      <td>0.0</td>\n",
       "      <td>0.0</td>\n",
       "      <td>0.0</td>\n",
       "      <td>0.0</td>\n",
       "      <td>0.0</td>\n",
       "      <td>0.0</td>\n",
       "      <td>0.0</td>\n",
       "      <td>0.0</td>\n",
       "    </tr>\n",
       "    <tr>\n",
       "      <th>620973</th>\n",
       "      <td>0.0</td>\n",
       "      <td>0.0</td>\n",
       "      <td>0.0</td>\n",
       "      <td>0.0</td>\n",
       "      <td>0.0</td>\n",
       "      <td>0.0</td>\n",
       "      <td>0.0</td>\n",
       "      <td>0.0</td>\n",
       "      <td>0.0</td>\n",
       "      <td>0.0</td>\n",
       "      <td>...</td>\n",
       "      <td>0.0</td>\n",
       "      <td>0.0</td>\n",
       "      <td>0.0</td>\n",
       "      <td>0.0</td>\n",
       "      <td>0.0</td>\n",
       "      <td>0.0</td>\n",
       "      <td>0.0</td>\n",
       "      <td>0.0</td>\n",
       "      <td>0.0</td>\n",
       "      <td>0.0</td>\n",
       "    </tr>\n",
       "    <tr>\n",
       "      <th>620974</th>\n",
       "      <td>0.0</td>\n",
       "      <td>0.0</td>\n",
       "      <td>0.0</td>\n",
       "      <td>0.0</td>\n",
       "      <td>0.0</td>\n",
       "      <td>0.0</td>\n",
       "      <td>0.0</td>\n",
       "      <td>0.0</td>\n",
       "      <td>0.0</td>\n",
       "      <td>0.0</td>\n",
       "      <td>...</td>\n",
       "      <td>0.0</td>\n",
       "      <td>0.0</td>\n",
       "      <td>0.0</td>\n",
       "      <td>0.0</td>\n",
       "      <td>0.0</td>\n",
       "      <td>0.0</td>\n",
       "      <td>0.0</td>\n",
       "      <td>0.0</td>\n",
       "      <td>0.0</td>\n",
       "      <td>0.0</td>\n",
       "    </tr>\n",
       "    <tr>\n",
       "      <th>620975</th>\n",
       "      <td>0.0</td>\n",
       "      <td>0.0</td>\n",
       "      <td>0.0</td>\n",
       "      <td>0.0</td>\n",
       "      <td>0.0</td>\n",
       "      <td>0.0</td>\n",
       "      <td>0.0</td>\n",
       "      <td>0.0</td>\n",
       "      <td>0.0</td>\n",
       "      <td>0.0</td>\n",
       "      <td>...</td>\n",
       "      <td>0.0</td>\n",
       "      <td>0.0</td>\n",
       "      <td>0.0</td>\n",
       "      <td>0.0</td>\n",
       "      <td>0.0</td>\n",
       "      <td>0.0</td>\n",
       "      <td>0.0</td>\n",
       "      <td>0.0</td>\n",
       "      <td>0.0</td>\n",
       "      <td>0.0</td>\n",
       "    </tr>\n",
       "    <tr>\n",
       "      <th>620976</th>\n",
       "      <td>0.0</td>\n",
       "      <td>0.0</td>\n",
       "      <td>0.0</td>\n",
       "      <td>0.0</td>\n",
       "      <td>0.0</td>\n",
       "      <td>0.0</td>\n",
       "      <td>0.0</td>\n",
       "      <td>0.0</td>\n",
       "      <td>0.0</td>\n",
       "      <td>0.0</td>\n",
       "      <td>...</td>\n",
       "      <td>0.0</td>\n",
       "      <td>0.0</td>\n",
       "      <td>0.0</td>\n",
       "      <td>0.0</td>\n",
       "      <td>0.0</td>\n",
       "      <td>0.0</td>\n",
       "      <td>0.0</td>\n",
       "      <td>0.0</td>\n",
       "      <td>0.0</td>\n",
       "      <td>0.0</td>\n",
       "    </tr>\n",
       "    <tr>\n",
       "      <th>620977</th>\n",
       "      <td>0.0</td>\n",
       "      <td>0.0</td>\n",
       "      <td>0.0</td>\n",
       "      <td>0.0</td>\n",
       "      <td>0.0</td>\n",
       "      <td>0.0</td>\n",
       "      <td>0.0</td>\n",
       "      <td>0.0</td>\n",
       "      <td>0.0</td>\n",
       "      <td>0.0</td>\n",
       "      <td>...</td>\n",
       "      <td>0.0</td>\n",
       "      <td>0.0</td>\n",
       "      <td>0.0</td>\n",
       "      <td>0.0</td>\n",
       "      <td>0.0</td>\n",
       "      <td>0.0</td>\n",
       "      <td>0.0</td>\n",
       "      <td>0.0</td>\n",
       "      <td>0.0</td>\n",
       "      <td>0.0</td>\n",
       "    </tr>\n",
       "    <tr>\n",
       "      <th>620978</th>\n",
       "      <td>0.0</td>\n",
       "      <td>0.0</td>\n",
       "      <td>0.0</td>\n",
       "      <td>0.0</td>\n",
       "      <td>0.0</td>\n",
       "      <td>0.0</td>\n",
       "      <td>0.0</td>\n",
       "      <td>0.0</td>\n",
       "      <td>0.0</td>\n",
       "      <td>0.0</td>\n",
       "      <td>...</td>\n",
       "      <td>0.0</td>\n",
       "      <td>0.0</td>\n",
       "      <td>0.0</td>\n",
       "      <td>0.0</td>\n",
       "      <td>0.0</td>\n",
       "      <td>0.0</td>\n",
       "      <td>0.0</td>\n",
       "      <td>0.0</td>\n",
       "      <td>0.0</td>\n",
       "      <td>0.0</td>\n",
       "    </tr>\n",
       "    <tr>\n",
       "      <th>620979</th>\n",
       "      <td>0.0</td>\n",
       "      <td>0.0</td>\n",
       "      <td>0.0</td>\n",
       "      <td>0.0</td>\n",
       "      <td>0.0</td>\n",
       "      <td>0.0</td>\n",
       "      <td>0.0</td>\n",
       "      <td>0.0</td>\n",
       "      <td>0.0</td>\n",
       "      <td>0.0</td>\n",
       "      <td>...</td>\n",
       "      <td>0.0</td>\n",
       "      <td>0.0</td>\n",
       "      <td>0.0</td>\n",
       "      <td>0.0</td>\n",
       "      <td>0.0</td>\n",
       "      <td>0.0</td>\n",
       "      <td>0.0</td>\n",
       "      <td>0.0</td>\n",
       "      <td>0.0</td>\n",
       "      <td>0.0</td>\n",
       "    </tr>\n",
       "    <tr>\n",
       "      <th>620980</th>\n",
       "      <td>0.0</td>\n",
       "      <td>0.0</td>\n",
       "      <td>0.0</td>\n",
       "      <td>0.0</td>\n",
       "      <td>0.0</td>\n",
       "      <td>0.0</td>\n",
       "      <td>0.0</td>\n",
       "      <td>0.0</td>\n",
       "      <td>0.0</td>\n",
       "      <td>0.0</td>\n",
       "      <td>...</td>\n",
       "      <td>0.0</td>\n",
       "      <td>0.0</td>\n",
       "      <td>0.0</td>\n",
       "      <td>0.0</td>\n",
       "      <td>0.0</td>\n",
       "      <td>0.0</td>\n",
       "      <td>0.0</td>\n",
       "      <td>0.0</td>\n",
       "      <td>0.0</td>\n",
       "      <td>0.0</td>\n",
       "    </tr>\n",
       "    <tr>\n",
       "      <th>620981</th>\n",
       "      <td>0.0</td>\n",
       "      <td>0.0</td>\n",
       "      <td>0.0</td>\n",
       "      <td>0.0</td>\n",
       "      <td>0.0</td>\n",
       "      <td>0.0</td>\n",
       "      <td>0.0</td>\n",
       "      <td>0.0</td>\n",
       "      <td>0.0</td>\n",
       "      <td>0.0</td>\n",
       "      <td>...</td>\n",
       "      <td>0.0</td>\n",
       "      <td>0.0</td>\n",
       "      <td>0.0</td>\n",
       "      <td>0.0</td>\n",
       "      <td>0.0</td>\n",
       "      <td>0.0</td>\n",
       "      <td>0.0</td>\n",
       "      <td>0.0</td>\n",
       "      <td>0.0</td>\n",
       "      <td>0.0</td>\n",
       "    </tr>\n",
       "    <tr>\n",
       "      <th>620982</th>\n",
       "      <td>0.0</td>\n",
       "      <td>0.0</td>\n",
       "      <td>0.0</td>\n",
       "      <td>0.0</td>\n",
       "      <td>0.0</td>\n",
       "      <td>0.0</td>\n",
       "      <td>0.0</td>\n",
       "      <td>0.0</td>\n",
       "      <td>0.0</td>\n",
       "      <td>0.0</td>\n",
       "      <td>...</td>\n",
       "      <td>0.0</td>\n",
       "      <td>0.0</td>\n",
       "      <td>0.0</td>\n",
       "      <td>0.0</td>\n",
       "      <td>0.0</td>\n",
       "      <td>0.0</td>\n",
       "      <td>0.0</td>\n",
       "      <td>0.0</td>\n",
       "      <td>0.0</td>\n",
       "      <td>0.0</td>\n",
       "    </tr>\n",
       "    <tr>\n",
       "      <th>620983</th>\n",
       "      <td>0.0</td>\n",
       "      <td>0.0</td>\n",
       "      <td>0.0</td>\n",
       "      <td>0.0</td>\n",
       "      <td>0.0</td>\n",
       "      <td>0.0</td>\n",
       "      <td>0.0</td>\n",
       "      <td>0.0</td>\n",
       "      <td>0.0</td>\n",
       "      <td>0.0</td>\n",
       "      <td>...</td>\n",
       "      <td>0.0</td>\n",
       "      <td>0.0</td>\n",
       "      <td>0.0</td>\n",
       "      <td>0.0</td>\n",
       "      <td>0.0</td>\n",
       "      <td>0.0</td>\n",
       "      <td>0.0</td>\n",
       "      <td>0.0</td>\n",
       "      <td>0.0</td>\n",
       "      <td>0.0</td>\n",
       "    </tr>\n",
       "    <tr>\n",
       "      <th>620984</th>\n",
       "      <td>0.0</td>\n",
       "      <td>0.0</td>\n",
       "      <td>0.0</td>\n",
       "      <td>0.0</td>\n",
       "      <td>0.0</td>\n",
       "      <td>0.0</td>\n",
       "      <td>0.0</td>\n",
       "      <td>0.0</td>\n",
       "      <td>0.0</td>\n",
       "      <td>0.0</td>\n",
       "      <td>...</td>\n",
       "      <td>0.0</td>\n",
       "      <td>0.0</td>\n",
       "      <td>0.0</td>\n",
       "      <td>0.0</td>\n",
       "      <td>0.0</td>\n",
       "      <td>0.0</td>\n",
       "      <td>0.0</td>\n",
       "      <td>0.0</td>\n",
       "      <td>0.0</td>\n",
       "      <td>0.0</td>\n",
       "    </tr>\n",
       "    <tr>\n",
       "      <th>620985</th>\n",
       "      <td>0.0</td>\n",
       "      <td>0.0</td>\n",
       "      <td>0.0</td>\n",
       "      <td>0.0</td>\n",
       "      <td>0.0</td>\n",
       "      <td>0.0</td>\n",
       "      <td>0.0</td>\n",
       "      <td>0.0</td>\n",
       "      <td>0.0</td>\n",
       "      <td>0.0</td>\n",
       "      <td>...</td>\n",
       "      <td>0.0</td>\n",
       "      <td>0.0</td>\n",
       "      <td>0.0</td>\n",
       "      <td>0.0</td>\n",
       "      <td>0.0</td>\n",
       "      <td>0.0</td>\n",
       "      <td>0.0</td>\n",
       "      <td>0.0</td>\n",
       "      <td>0.0</td>\n",
       "      <td>0.0</td>\n",
       "    </tr>\n",
       "    <tr>\n",
       "      <th>620986</th>\n",
       "      <td>0.0</td>\n",
       "      <td>0.0</td>\n",
       "      <td>0.0</td>\n",
       "      <td>0.0</td>\n",
       "      <td>0.0</td>\n",
       "      <td>0.0</td>\n",
       "      <td>0.0</td>\n",
       "      <td>0.0</td>\n",
       "      <td>0.0</td>\n",
       "      <td>0.0</td>\n",
       "      <td>...</td>\n",
       "      <td>0.0</td>\n",
       "      <td>0.0</td>\n",
       "      <td>0.0</td>\n",
       "      <td>0.0</td>\n",
       "      <td>0.0</td>\n",
       "      <td>0.0</td>\n",
       "      <td>0.0</td>\n",
       "      <td>0.0</td>\n",
       "      <td>0.0</td>\n",
       "      <td>0.0</td>\n",
       "    </tr>\n",
       "    <tr>\n",
       "      <th>620987</th>\n",
       "      <td>0.0</td>\n",
       "      <td>0.0</td>\n",
       "      <td>0.0</td>\n",
       "      <td>0.0</td>\n",
       "      <td>0.0</td>\n",
       "      <td>0.0</td>\n",
       "      <td>0.0</td>\n",
       "      <td>0.0</td>\n",
       "      <td>0.0</td>\n",
       "      <td>0.0</td>\n",
       "      <td>...</td>\n",
       "      <td>0.0</td>\n",
       "      <td>0.0</td>\n",
       "      <td>0.0</td>\n",
       "      <td>0.0</td>\n",
       "      <td>0.0</td>\n",
       "      <td>0.0</td>\n",
       "      <td>0.0</td>\n",
       "      <td>0.0</td>\n",
       "      <td>0.0</td>\n",
       "      <td>0.0</td>\n",
       "    </tr>\n",
       "    <tr>\n",
       "      <th>620988</th>\n",
       "      <td>0.0</td>\n",
       "      <td>0.0</td>\n",
       "      <td>0.0</td>\n",
       "      <td>0.0</td>\n",
       "      <td>0.0</td>\n",
       "      <td>0.0</td>\n",
       "      <td>0.0</td>\n",
       "      <td>0.0</td>\n",
       "      <td>0.0</td>\n",
       "      <td>0.0</td>\n",
       "      <td>...</td>\n",
       "      <td>0.0</td>\n",
       "      <td>0.0</td>\n",
       "      <td>0.0</td>\n",
       "      <td>0.0</td>\n",
       "      <td>0.0</td>\n",
       "      <td>0.0</td>\n",
       "      <td>0.0</td>\n",
       "      <td>0.0</td>\n",
       "      <td>0.0</td>\n",
       "      <td>0.0</td>\n",
       "    </tr>\n",
       "    <tr>\n",
       "      <th>620989</th>\n",
       "      <td>0.0</td>\n",
       "      <td>0.0</td>\n",
       "      <td>0.0</td>\n",
       "      <td>0.0</td>\n",
       "      <td>0.0</td>\n",
       "      <td>0.0</td>\n",
       "      <td>0.0</td>\n",
       "      <td>0.0</td>\n",
       "      <td>0.0</td>\n",
       "      <td>0.0</td>\n",
       "      <td>...</td>\n",
       "      <td>0.0</td>\n",
       "      <td>0.0</td>\n",
       "      <td>0.0</td>\n",
       "      <td>0.0</td>\n",
       "      <td>0.0</td>\n",
       "      <td>0.0</td>\n",
       "      <td>0.0</td>\n",
       "      <td>0.0</td>\n",
       "      <td>0.0</td>\n",
       "      <td>0.0</td>\n",
       "    </tr>\n",
       "    <tr>\n",
       "      <th>620990</th>\n",
       "      <td>0.0</td>\n",
       "      <td>0.0</td>\n",
       "      <td>0.0</td>\n",
       "      <td>0.0</td>\n",
       "      <td>0.0</td>\n",
       "      <td>0.0</td>\n",
       "      <td>0.0</td>\n",
       "      <td>0.0</td>\n",
       "      <td>0.0</td>\n",
       "      <td>0.0</td>\n",
       "      <td>...</td>\n",
       "      <td>0.0</td>\n",
       "      <td>0.0</td>\n",
       "      <td>0.0</td>\n",
       "      <td>0.0</td>\n",
       "      <td>0.0</td>\n",
       "      <td>0.0</td>\n",
       "      <td>0.0</td>\n",
       "      <td>0.0</td>\n",
       "      <td>0.0</td>\n",
       "      <td>0.0</td>\n",
       "    </tr>\n",
       "    <tr>\n",
       "      <th>620991</th>\n",
       "      <td>0.0</td>\n",
       "      <td>0.0</td>\n",
       "      <td>0.0</td>\n",
       "      <td>0.0</td>\n",
       "      <td>0.0</td>\n",
       "      <td>0.0</td>\n",
       "      <td>0.0</td>\n",
       "      <td>0.0</td>\n",
       "      <td>0.0</td>\n",
       "      <td>0.0</td>\n",
       "      <td>...</td>\n",
       "      <td>0.0</td>\n",
       "      <td>0.0</td>\n",
       "      <td>0.0</td>\n",
       "      <td>0.0</td>\n",
       "      <td>0.0</td>\n",
       "      <td>0.0</td>\n",
       "      <td>0.0</td>\n",
       "      <td>0.0</td>\n",
       "      <td>0.0</td>\n",
       "      <td>0.0</td>\n",
       "    </tr>\n",
       "    <tr>\n",
       "      <th>620992</th>\n",
       "      <td>0.0</td>\n",
       "      <td>0.0</td>\n",
       "      <td>0.0</td>\n",
       "      <td>0.0</td>\n",
       "      <td>0.0</td>\n",
       "      <td>0.0</td>\n",
       "      <td>0.0</td>\n",
       "      <td>0.0</td>\n",
       "      <td>0.0</td>\n",
       "      <td>0.0</td>\n",
       "      <td>...</td>\n",
       "      <td>0.0</td>\n",
       "      <td>0.0</td>\n",
       "      <td>0.0</td>\n",
       "      <td>0.0</td>\n",
       "      <td>0.0</td>\n",
       "      <td>0.0</td>\n",
       "      <td>0.0</td>\n",
       "      <td>0.0</td>\n",
       "      <td>0.0</td>\n",
       "      <td>0.0</td>\n",
       "    </tr>\n",
       "    <tr>\n",
       "      <th>620993</th>\n",
       "      <td>0.0</td>\n",
       "      <td>0.0</td>\n",
       "      <td>0.0</td>\n",
       "      <td>0.0</td>\n",
       "      <td>0.0</td>\n",
       "      <td>0.0</td>\n",
       "      <td>0.0</td>\n",
       "      <td>0.0</td>\n",
       "      <td>0.0</td>\n",
       "      <td>0.0</td>\n",
       "      <td>...</td>\n",
       "      <td>0.0</td>\n",
       "      <td>0.0</td>\n",
       "      <td>0.0</td>\n",
       "      <td>0.0</td>\n",
       "      <td>0.0</td>\n",
       "      <td>0.0</td>\n",
       "      <td>0.0</td>\n",
       "      <td>0.0</td>\n",
       "      <td>0.0</td>\n",
       "      <td>0.0</td>\n",
       "    </tr>\n",
       "    <tr>\n",
       "      <th>620994</th>\n",
       "      <td>0.0</td>\n",
       "      <td>0.0</td>\n",
       "      <td>0.0</td>\n",
       "      <td>0.0</td>\n",
       "      <td>0.0</td>\n",
       "      <td>0.0</td>\n",
       "      <td>0.0</td>\n",
       "      <td>0.0</td>\n",
       "      <td>0.0</td>\n",
       "      <td>0.0</td>\n",
       "      <td>...</td>\n",
       "      <td>0.0</td>\n",
       "      <td>0.0</td>\n",
       "      <td>0.0</td>\n",
       "      <td>0.0</td>\n",
       "      <td>0.0</td>\n",
       "      <td>0.0</td>\n",
       "      <td>0.0</td>\n",
       "      <td>0.0</td>\n",
       "      <td>0.0</td>\n",
       "      <td>0.0</td>\n",
       "    </tr>\n",
       "    <tr>\n",
       "      <th>620995</th>\n",
       "      <td>0.0</td>\n",
       "      <td>0.0</td>\n",
       "      <td>0.0</td>\n",
       "      <td>0.0</td>\n",
       "      <td>0.0</td>\n",
       "      <td>0.0</td>\n",
       "      <td>1.0</td>\n",
       "      <td>0.0</td>\n",
       "      <td>0.0</td>\n",
       "      <td>0.0</td>\n",
       "      <td>...</td>\n",
       "      <td>0.0</td>\n",
       "      <td>0.0</td>\n",
       "      <td>0.0</td>\n",
       "      <td>0.0</td>\n",
       "      <td>0.0</td>\n",
       "      <td>0.0</td>\n",
       "      <td>0.0</td>\n",
       "      <td>0.0</td>\n",
       "      <td>0.0</td>\n",
       "      <td>0.0</td>\n",
       "    </tr>\n",
       "    <tr>\n",
       "      <th>620996</th>\n",
       "      <td>0.0</td>\n",
       "      <td>0.0</td>\n",
       "      <td>0.0</td>\n",
       "      <td>0.0</td>\n",
       "      <td>0.0</td>\n",
       "      <td>0.0</td>\n",
       "      <td>0.0</td>\n",
       "      <td>0.0</td>\n",
       "      <td>0.0</td>\n",
       "      <td>0.0</td>\n",
       "      <td>...</td>\n",
       "      <td>0.0</td>\n",
       "      <td>0.0</td>\n",
       "      <td>0.0</td>\n",
       "      <td>0.0</td>\n",
       "      <td>0.0</td>\n",
       "      <td>0.0</td>\n",
       "      <td>0.0</td>\n",
       "      <td>0.0</td>\n",
       "      <td>0.0</td>\n",
       "      <td>0.0</td>\n",
       "    </tr>\n",
       "    <tr>\n",
       "      <th>620997</th>\n",
       "      <td>0.0</td>\n",
       "      <td>0.0</td>\n",
       "      <td>0.0</td>\n",
       "      <td>0.0</td>\n",
       "      <td>0.0</td>\n",
       "      <td>0.0</td>\n",
       "      <td>0.0</td>\n",
       "      <td>0.0</td>\n",
       "      <td>0.0</td>\n",
       "      <td>0.0</td>\n",
       "      <td>...</td>\n",
       "      <td>0.0</td>\n",
       "      <td>0.0</td>\n",
       "      <td>0.0</td>\n",
       "      <td>0.0</td>\n",
       "      <td>0.0</td>\n",
       "      <td>0.0</td>\n",
       "      <td>0.0</td>\n",
       "      <td>0.0</td>\n",
       "      <td>0.0</td>\n",
       "      <td>0.0</td>\n",
       "    </tr>\n",
       "    <tr>\n",
       "      <th>620998</th>\n",
       "      <td>0.0</td>\n",
       "      <td>0.0</td>\n",
       "      <td>0.0</td>\n",
       "      <td>0.0</td>\n",
       "      <td>0.0</td>\n",
       "      <td>0.0</td>\n",
       "      <td>0.0</td>\n",
       "      <td>0.0</td>\n",
       "      <td>0.0</td>\n",
       "      <td>0.0</td>\n",
       "      <td>...</td>\n",
       "      <td>0.0</td>\n",
       "      <td>0.0</td>\n",
       "      <td>0.0</td>\n",
       "      <td>0.0</td>\n",
       "      <td>0.0</td>\n",
       "      <td>0.0</td>\n",
       "      <td>0.0</td>\n",
       "      <td>0.0</td>\n",
       "      <td>0.0</td>\n",
       "      <td>0.0</td>\n",
       "    </tr>\n",
       "    <tr>\n",
       "      <th>620999</th>\n",
       "      <td>0.0</td>\n",
       "      <td>0.0</td>\n",
       "      <td>0.0</td>\n",
       "      <td>0.0</td>\n",
       "      <td>0.0</td>\n",
       "      <td>0.0</td>\n",
       "      <td>0.0</td>\n",
       "      <td>0.0</td>\n",
       "      <td>0.0</td>\n",
       "      <td>0.0</td>\n",
       "      <td>...</td>\n",
       "      <td>0.0</td>\n",
       "      <td>0.0</td>\n",
       "      <td>0.0</td>\n",
       "      <td>0.0</td>\n",
       "      <td>0.0</td>\n",
       "      <td>0.0</td>\n",
       "      <td>0.0</td>\n",
       "      <td>0.0</td>\n",
       "      <td>0.0</td>\n",
       "      <td>0.0</td>\n",
       "    </tr>\n",
       "    <tr>\n",
       "      <th>621000</th>\n",
       "      <td>0.0</td>\n",
       "      <td>0.0</td>\n",
       "      <td>0.0</td>\n",
       "      <td>0.0</td>\n",
       "      <td>0.0</td>\n",
       "      <td>0.0</td>\n",
       "      <td>0.0</td>\n",
       "      <td>0.0</td>\n",
       "      <td>0.0</td>\n",
       "      <td>0.0</td>\n",
       "      <td>...</td>\n",
       "      <td>0.0</td>\n",
       "      <td>0.0</td>\n",
       "      <td>0.0</td>\n",
       "      <td>0.0</td>\n",
       "      <td>0.0</td>\n",
       "      <td>0.0</td>\n",
       "      <td>0.0</td>\n",
       "      <td>0.0</td>\n",
       "      <td>0.0</td>\n",
       "      <td>0.0</td>\n",
       "    </tr>\n",
       "  </tbody>\n",
       "</table>\n",
       "<p>621001 rows × 75 columns</p>\n",
       "</div>"
      ],
      "text/plain": [
       "day           2018-10-01  2018-10-02  2018-10-03  2018-10-04  2018-10-05  \\\n",
       "user_id_hash                                                               \n",
       "0                    0.0         0.0         0.0         0.0         0.0   \n",
       "1                    0.0         0.0         0.0         0.0         0.0   \n",
       "2                    0.0         0.0         0.0         0.0         0.0   \n",
       "3                    0.0         0.0         0.0         0.0         0.0   \n",
       "4                    0.0         0.0         0.0         0.0         0.0   \n",
       "5                    0.0         0.0         0.0         0.0         0.0   \n",
       "6                    0.0         0.0         0.0         0.0         0.0   \n",
       "7                    0.0         0.0         0.0         0.0         0.0   \n",
       "8                    0.0         0.0         0.0         0.0         0.0   \n",
       "9                    0.0         0.0         0.0         0.0         0.0   \n",
       "10                   0.0         0.0         0.0         0.0         0.0   \n",
       "11                   0.0         0.0         0.0         0.0         0.0   \n",
       "12                   0.0         0.0         0.0         0.0         0.0   \n",
       "13                   0.0         0.0         0.0         0.0         0.0   \n",
       "14                   0.0         0.0         0.0         0.0         0.0   \n",
       "15                   0.0         0.0         0.0         0.0         0.0   \n",
       "16                   0.0         0.0         0.0         0.0         0.0   \n",
       "17                   0.0         0.0         0.0         0.0         0.0   \n",
       "18                   0.0         0.0         0.0         0.0         0.0   \n",
       "19                   0.0         0.0         0.0         0.0         0.0   \n",
       "20                   0.0         0.0         0.0         0.0         0.0   \n",
       "21                   0.0         0.0         0.0         0.0         0.0   \n",
       "22                   0.0         0.0         0.0         0.0         0.0   \n",
       "23                   0.0         0.0         0.0         0.0         0.0   \n",
       "24                   0.0         0.0         0.0         0.0         0.0   \n",
       "25                   0.0         0.0         0.0         0.0         0.0   \n",
       "26                   0.0         0.0         0.0         0.0         0.0   \n",
       "27                   0.0         0.0         0.0         0.0         0.0   \n",
       "28                   0.0         0.0         0.0         0.0         0.0   \n",
       "29                   0.0         0.0         0.0         0.0         0.0   \n",
       "...                  ...         ...         ...         ...         ...   \n",
       "620971               0.0         0.0         0.0         0.0         0.0   \n",
       "620972               0.0         0.0         0.0         0.0         0.0   \n",
       "620973               0.0         0.0         0.0         0.0         0.0   \n",
       "620974               0.0         0.0         0.0         0.0         0.0   \n",
       "620975               0.0         0.0         0.0         0.0         0.0   \n",
       "620976               0.0         0.0         0.0         0.0         0.0   \n",
       "620977               0.0         0.0         0.0         0.0         0.0   \n",
       "620978               0.0         0.0         0.0         0.0         0.0   \n",
       "620979               0.0         0.0         0.0         0.0         0.0   \n",
       "620980               0.0         0.0         0.0         0.0         0.0   \n",
       "620981               0.0         0.0         0.0         0.0         0.0   \n",
       "620982               0.0         0.0         0.0         0.0         0.0   \n",
       "620983               0.0         0.0         0.0         0.0         0.0   \n",
       "620984               0.0         0.0         0.0         0.0         0.0   \n",
       "620985               0.0         0.0         0.0         0.0         0.0   \n",
       "620986               0.0         0.0         0.0         0.0         0.0   \n",
       "620987               0.0         0.0         0.0         0.0         0.0   \n",
       "620988               0.0         0.0         0.0         0.0         0.0   \n",
       "620989               0.0         0.0         0.0         0.0         0.0   \n",
       "620990               0.0         0.0         0.0         0.0         0.0   \n",
       "620991               0.0         0.0         0.0         0.0         0.0   \n",
       "620992               0.0         0.0         0.0         0.0         0.0   \n",
       "620993               0.0         0.0         0.0         0.0         0.0   \n",
       "620994               0.0         0.0         0.0         0.0         0.0   \n",
       "620995               0.0         0.0         0.0         0.0         0.0   \n",
       "620996               0.0         0.0         0.0         0.0         0.0   \n",
       "620997               0.0         0.0         0.0         0.0         0.0   \n",
       "620998               0.0         0.0         0.0         0.0         0.0   \n",
       "620999               0.0         0.0         0.0         0.0         0.0   \n",
       "621000               0.0         0.0         0.0         0.0         0.0   \n",
       "\n",
       "day           2018-10-06  2018-10-07  2018-10-08  2018-10-09  2018-10-10  \\\n",
       "user_id_hash                                                               \n",
       "0                    0.0         0.0         0.0         0.0         0.0   \n",
       "1                    0.0         0.0         0.0         0.0         0.0   \n",
       "2                    0.0         0.0         0.0         0.0         0.0   \n",
       "3                    0.0         0.0         0.0         0.0         0.0   \n",
       "4                    0.0         0.0         0.0         0.0         0.0   \n",
       "5                    0.0         0.0         0.0         0.0         0.0   \n",
       "6                    0.0         0.0         0.0         0.0         0.0   \n",
       "7                    0.0         0.0         0.0         0.0         0.0   \n",
       "8                    0.0         0.0         0.0         0.0         0.0   \n",
       "9                    0.0         0.0         0.0         0.0         0.0   \n",
       "10                   0.0         0.0         0.0         0.0         0.0   \n",
       "11                   0.0         0.0         0.0         0.0         0.0   \n",
       "12                   0.0         0.0         0.0         0.0         0.0   \n",
       "13                   0.0         0.0         0.0         0.0         0.0   \n",
       "14                   0.0         0.0         0.0         0.0         0.0   \n",
       "15                   0.0         0.0         0.0         0.0         0.0   \n",
       "16                   0.0         0.0         0.0         0.0         0.0   \n",
       "17                   0.0         0.0         0.0         0.0         0.0   \n",
       "18                   0.0         0.0         0.0         0.0         0.0   \n",
       "19                   0.0         0.0         0.0         0.0         0.0   \n",
       "20                   0.0         0.0         0.0         0.0         0.0   \n",
       "21                   0.0         0.0         0.0         0.0         0.0   \n",
       "22                   0.0         0.0         0.0         0.0         0.0   \n",
       "23                   0.0         0.0         0.0         0.0         0.0   \n",
       "24                   0.0         0.0         0.0         0.0         0.0   \n",
       "25                   0.0         0.0         0.0         0.0         0.0   \n",
       "26                   0.0         0.0         0.0         0.0         0.0   \n",
       "27                   0.0         0.0         0.0         0.0         0.0   \n",
       "28                   0.0         0.0         0.0         0.0         0.0   \n",
       "29                   0.0         0.0         0.0         0.0         0.0   \n",
       "...                  ...         ...         ...         ...         ...   \n",
       "620971               0.0         0.0         0.0         0.0         0.0   \n",
       "620972               0.0         0.0         0.0         0.0         0.0   \n",
       "620973               0.0         0.0         0.0         0.0         0.0   \n",
       "620974               0.0         0.0         0.0         0.0         0.0   \n",
       "620975               0.0         0.0         0.0         0.0         0.0   \n",
       "620976               0.0         0.0         0.0         0.0         0.0   \n",
       "620977               0.0         0.0         0.0         0.0         0.0   \n",
       "620978               0.0         0.0         0.0         0.0         0.0   \n",
       "620979               0.0         0.0         0.0         0.0         0.0   \n",
       "620980               0.0         0.0         0.0         0.0         0.0   \n",
       "620981               0.0         0.0         0.0         0.0         0.0   \n",
       "620982               0.0         0.0         0.0         0.0         0.0   \n",
       "620983               0.0         0.0         0.0         0.0         0.0   \n",
       "620984               0.0         0.0         0.0         0.0         0.0   \n",
       "620985               0.0         0.0         0.0         0.0         0.0   \n",
       "620986               0.0         0.0         0.0         0.0         0.0   \n",
       "620987               0.0         0.0         0.0         0.0         0.0   \n",
       "620988               0.0         0.0         0.0         0.0         0.0   \n",
       "620989               0.0         0.0         0.0         0.0         0.0   \n",
       "620990               0.0         0.0         0.0         0.0         0.0   \n",
       "620991               0.0         0.0         0.0         0.0         0.0   \n",
       "620992               0.0         0.0         0.0         0.0         0.0   \n",
       "620993               0.0         0.0         0.0         0.0         0.0   \n",
       "620994               0.0         0.0         0.0         0.0         0.0   \n",
       "620995               0.0         1.0         0.0         0.0         0.0   \n",
       "620996               0.0         0.0         0.0         0.0         0.0   \n",
       "620997               0.0         0.0         0.0         0.0         0.0   \n",
       "620998               0.0         0.0         0.0         0.0         0.0   \n",
       "620999               0.0         0.0         0.0         0.0         0.0   \n",
       "621000               0.0         0.0         0.0         0.0         0.0   \n",
       "\n",
       "day              ...      2018-12-05  2018-12-06  2018-12-07  2018-12-08  \\\n",
       "user_id_hash     ...                                                       \n",
       "0                ...             0.0         0.0         0.0         0.0   \n",
       "1                ...             0.0         0.0         0.0         0.0   \n",
       "2                ...             0.0         0.0         0.0         0.0   \n",
       "3                ...             0.0         0.0         0.0         0.0   \n",
       "4                ...             0.0         0.0         0.0         0.0   \n",
       "5                ...             0.0         0.0         0.0         0.0   \n",
       "6                ...             0.0         0.0         0.0         0.0   \n",
       "7                ...             0.0         0.0         0.0         0.0   \n",
       "8                ...             0.0         0.0         0.0         0.0   \n",
       "9                ...             0.0         0.0         0.0         0.0   \n",
       "10               ...             0.0         0.0         0.0         0.0   \n",
       "11               ...             0.0         0.0         0.0         0.0   \n",
       "12               ...             0.0         0.0         0.0         0.0   \n",
       "13               ...             0.0         0.0         0.0         0.0   \n",
       "14               ...             0.0         0.0         0.0         0.0   \n",
       "15               ...             0.0         0.0         0.0         0.0   \n",
       "16               ...             0.0         0.0         0.0         0.0   \n",
       "17               ...             0.0         0.0         0.0         0.0   \n",
       "18               ...             0.0         0.0         0.0         0.0   \n",
       "19               ...             0.0         0.0         0.0         0.0   \n",
       "20               ...             0.0         0.0         0.0         0.0   \n",
       "21               ...             0.0         0.0         0.0         0.0   \n",
       "22               ...             0.0         0.0         0.0         0.0   \n",
       "23               ...             0.0         0.0         0.0         0.0   \n",
       "24               ...             0.0         0.0         0.0         0.0   \n",
       "25               ...             0.0         0.0         0.0         0.0   \n",
       "26               ...             0.0         0.0         0.0         0.0   \n",
       "27               ...             0.0         0.0         0.0         0.0   \n",
       "28               ...             0.0         0.0         0.0         0.0   \n",
       "29               ...             0.0         0.0         0.0         0.0   \n",
       "...              ...             ...         ...         ...         ...   \n",
       "620971           ...             0.0         0.0         0.0         0.0   \n",
       "620972           ...             0.0         0.0         0.0         0.0   \n",
       "620973           ...             0.0         0.0         0.0         0.0   \n",
       "620974           ...             0.0         0.0         0.0         0.0   \n",
       "620975           ...             0.0         0.0         0.0         0.0   \n",
       "620976           ...             0.0         0.0         0.0         0.0   \n",
       "620977           ...             0.0         0.0         0.0         0.0   \n",
       "620978           ...             0.0         0.0         0.0         0.0   \n",
       "620979           ...             0.0         0.0         0.0         0.0   \n",
       "620980           ...             0.0         0.0         0.0         0.0   \n",
       "620981           ...             0.0         0.0         0.0         0.0   \n",
       "620982           ...             0.0         0.0         0.0         0.0   \n",
       "620983           ...             0.0         0.0         0.0         0.0   \n",
       "620984           ...             0.0         0.0         0.0         0.0   \n",
       "620985           ...             0.0         0.0         0.0         0.0   \n",
       "620986           ...             0.0         0.0         0.0         0.0   \n",
       "620987           ...             0.0         0.0         0.0         0.0   \n",
       "620988           ...             0.0         0.0         0.0         0.0   \n",
       "620989           ...             0.0         0.0         0.0         0.0   \n",
       "620990           ...             0.0         0.0         0.0         0.0   \n",
       "620991           ...             0.0         0.0         0.0         0.0   \n",
       "620992           ...             0.0         0.0         0.0         0.0   \n",
       "620993           ...             0.0         0.0         0.0         0.0   \n",
       "620994           ...             0.0         0.0         0.0         0.0   \n",
       "620995           ...             0.0         0.0         0.0         0.0   \n",
       "620996           ...             0.0         0.0         0.0         0.0   \n",
       "620997           ...             0.0         0.0         0.0         0.0   \n",
       "620998           ...             0.0         0.0         0.0         0.0   \n",
       "620999           ...             0.0         0.0         0.0         0.0   \n",
       "621000           ...             0.0         0.0         0.0         0.0   \n",
       "\n",
       "day           2018-12-09  2018-12-10  2018-12-11  2018-12-12  2018-12-13  \\\n",
       "user_id_hash                                                               \n",
       "0                    0.0         0.0         0.0         0.0         0.0   \n",
       "1                    0.0         0.0         0.0         0.0         0.0   \n",
       "2                    0.0         0.0         0.0         0.0         0.0   \n",
       "3                    0.0         0.0         0.0         0.0         0.0   \n",
       "4                    0.0         0.0         0.0         0.0         0.0   \n",
       "5                    0.0         0.0         0.0         0.0         0.0   \n",
       "6                    0.0         0.0         0.0         0.0         0.0   \n",
       "7                    0.0         0.0         0.0         0.0         0.0   \n",
       "8                    0.0         0.0         0.0         0.0         0.0   \n",
       "9                    0.0         0.0         0.0         0.0         0.0   \n",
       "10                   0.0         0.0         0.0         0.0         0.0   \n",
       "11                   0.0         0.0         0.0         0.0         0.0   \n",
       "12                   0.0         0.0         0.0         0.0         0.0   \n",
       "13                   0.0         0.0         0.0         0.0         0.0   \n",
       "14                   0.0         0.0         0.0         0.0         0.0   \n",
       "15                   0.0         0.0         0.0         0.0         0.0   \n",
       "16                   0.0         0.0         0.0         0.0         0.0   \n",
       "17                   0.0         0.0         0.0         0.0         0.0   \n",
       "18                   0.0         0.0         0.0         0.0         0.0   \n",
       "19                   0.0         0.0         0.0         0.0         0.0   \n",
       "20                   0.0         0.0         0.0         0.0         0.0   \n",
       "21                   0.0         0.0         0.0         0.0         0.0   \n",
       "22                   0.0         0.0         0.0         0.0         0.0   \n",
       "23                   0.0         0.0         0.0         0.0         0.0   \n",
       "24                   0.0         0.0         0.0         0.0         0.0   \n",
       "25                   0.0         0.0         0.0         0.0         0.0   \n",
       "26                   0.0         0.0         0.0         0.0         0.0   \n",
       "27                   0.0         0.0         0.0         0.0         0.0   \n",
       "28                   0.0         0.0         0.0         0.0         0.0   \n",
       "29                   0.0         0.0         0.0         0.0         0.0   \n",
       "...                  ...         ...         ...         ...         ...   \n",
       "620971               0.0         0.0         0.0         0.0         0.0   \n",
       "620972               0.0         0.0         0.0         0.0         0.0   \n",
       "620973               0.0         0.0         0.0         0.0         0.0   \n",
       "620974               0.0         0.0         0.0         0.0         0.0   \n",
       "620975               0.0         0.0         0.0         0.0         0.0   \n",
       "620976               0.0         0.0         0.0         0.0         0.0   \n",
       "620977               0.0         0.0         0.0         0.0         0.0   \n",
       "620978               0.0         0.0         0.0         0.0         0.0   \n",
       "620979               0.0         0.0         0.0         0.0         0.0   \n",
       "620980               0.0         0.0         0.0         0.0         0.0   \n",
       "620981               0.0         0.0         0.0         0.0         0.0   \n",
       "620982               0.0         0.0         0.0         0.0         0.0   \n",
       "620983               0.0         0.0         0.0         0.0         0.0   \n",
       "620984               0.0         0.0         0.0         0.0         0.0   \n",
       "620985               0.0         0.0         0.0         0.0         0.0   \n",
       "620986               0.0         0.0         0.0         0.0         0.0   \n",
       "620987               0.0         0.0         0.0         0.0         0.0   \n",
       "620988               0.0         0.0         0.0         0.0         0.0   \n",
       "620989               0.0         0.0         0.0         0.0         0.0   \n",
       "620990               0.0         0.0         0.0         0.0         0.0   \n",
       "620991               0.0         0.0         0.0         0.0         0.0   \n",
       "620992               0.0         0.0         0.0         0.0         0.0   \n",
       "620993               0.0         0.0         0.0         0.0         0.0   \n",
       "620994               0.0         0.0         0.0         0.0         0.0   \n",
       "620995               0.0         0.0         0.0         0.0         0.0   \n",
       "620996               0.0         0.0         0.0         0.0         0.0   \n",
       "620997               0.0         0.0         0.0         0.0         0.0   \n",
       "620998               0.0         0.0         0.0         0.0         0.0   \n",
       "620999               0.0         0.0         0.0         0.0         0.0   \n",
       "621000               0.0         0.0         0.0         0.0         0.0   \n",
       "\n",
       "day           2018-12-14  \n",
       "user_id_hash              \n",
       "0                    0.0  \n",
       "1                    0.0  \n",
       "2                    0.0  \n",
       "3                    0.0  \n",
       "4                    0.0  \n",
       "5                    0.0  \n",
       "6                    0.0  \n",
       "7                    0.0  \n",
       "8                    0.0  \n",
       "9                    0.0  \n",
       "10                   0.0  \n",
       "11                   0.0  \n",
       "12                   0.0  \n",
       "13                   0.0  \n",
       "14                   0.0  \n",
       "15                   0.0  \n",
       "16                   0.0  \n",
       "17                   0.0  \n",
       "18                   0.0  \n",
       "19                   0.0  \n",
       "20                   0.0  \n",
       "21                   0.0  \n",
       "22                   0.0  \n",
       "23                   0.0  \n",
       "24                   0.0  \n",
       "25                   0.0  \n",
       "26                   0.0  \n",
       "27                   0.0  \n",
       "28                   0.0  \n",
       "29                   0.0  \n",
       "...                  ...  \n",
       "620971               0.0  \n",
       "620972               0.0  \n",
       "620973               0.0  \n",
       "620974               0.0  \n",
       "620975               0.0  \n",
       "620976               0.0  \n",
       "620977               0.0  \n",
       "620978               0.0  \n",
       "620979               0.0  \n",
       "620980               0.0  \n",
       "620981               0.0  \n",
       "620982               0.0  \n",
       "620983               0.0  \n",
       "620984               0.0  \n",
       "620985               0.0  \n",
       "620986               0.0  \n",
       "620987               0.0  \n",
       "620988               0.0  \n",
       "620989               0.0  \n",
       "620990               0.0  \n",
       "620991               0.0  \n",
       "620992               0.0  \n",
       "620993               0.0  \n",
       "620994               0.0  \n",
       "620995               0.0  \n",
       "620996               0.0  \n",
       "620997               0.0  \n",
       "620998               0.0  \n",
       "620999               0.0  \n",
       "621000               0.0  \n",
       "\n",
       "[621001 rows x 75 columns]"
      ]
     },
     "execution_count": 23,
     "metadata": {},
     "output_type": "execute_result"
    }
   ],
   "source": [
    "pivot_df"
   ]
  },
  {
   "cell_type": "code",
   "execution_count": 24,
   "metadata": {
    "ExecuteTime": {
     "end_time": "2019-02-17T07:22:18.872710Z",
     "start_time": "2019-02-17T07:22:18.868735Z"
    }
   },
   "outputs": [
    {
     "data": {
      "text/plain": [
       "(621001, 75)"
      ]
     },
     "execution_count": 24,
     "metadata": {},
     "output_type": "execute_result"
    }
   ],
   "source": [
    "pivot_df.values.shape"
   ]
  },
  {
   "cell_type": "code",
   "execution_count": 109,
   "metadata": {
    "ExecuteTime": {
     "end_time": "2019-02-17T04:20:06.953742Z",
     "start_time": "2019-02-17T04:20:06.951129Z"
    }
   },
   "outputs": [],
   "source": [
    "import scipy"
   ]
  },
  {
   "cell_type": "code",
   "execution_count": 110,
   "metadata": {
    "ExecuteTime": {
     "end_time": "2019-02-17T04:20:08.072580Z",
     "start_time": "2019-02-17T04:20:07.415400Z"
    }
   },
   "outputs": [],
   "source": [
    "pivot_sparse_mat = scipy.sparse.csr_matrix(pivot_df.values)"
   ]
  },
  {
   "cell_type": "code",
   "execution_count": 111,
   "metadata": {
    "ExecuteTime": {
     "end_time": "2019-02-17T04:20:08.712849Z",
     "start_time": "2019-02-17T04:20:08.708792Z"
    }
   },
   "outputs": [
    {
     "data": {
      "text/plain": [
       "<621001x75 sparse matrix of type '<class 'numpy.float64'>'\n",
       "\twith 117320 stored elements in Compressed Sparse Row format>"
      ]
     },
     "execution_count": 111,
     "metadata": {},
     "output_type": "execute_result"
    }
   ],
   "source": [
    "pivot_sparse_mat"
   ]
  },
  {
   "cell_type": "code",
   "execution_count": 112,
   "metadata": {
    "ExecuteTime": {
     "end_time": "2019-02-17T04:20:09.553493Z",
     "start_time": "2019-02-17T04:20:09.542484Z"
    }
   },
   "outputs": [
    {
     "name": "stdout",
     "output_type": "stream",
     "text": [
      "  (0, 41)\t7.0\n",
      "  (0, 42)\t1.0\n",
      "  (1, 52)\t1.0\n",
      "  (124, 66)\t3.0\n",
      "  (124, 67)\t1.0\n",
      "  (124, 68)\t1.0\n",
      "  (124, 71)\t1.0\n",
      "  (124, 74)\t1.0\n",
      "  (170, 57)\t2.0\n",
      "  (170, 69)\t1.0\n",
      "  (172, 13)\t1.0\n",
      "  (172, 15)\t1.0\n",
      "  (238, 28)\t2.0\n",
      "  (238, 29)\t1.0\n",
      "  (280, 2)\t1.0\n",
      "  (280, 14)\t2.0\n",
      "  (280, 15)\t1.0\n",
      "  (280, 16)\t1.0\n",
      "  (280, 18)\t1.0\n",
      "  (288, 44)\t2.0\n",
      "  (288, 45)\t3.0\n",
      "  (288, 46)\t1.0\n",
      "  (288, 47)\t2.0\n",
      "  (288, 48)\t3.0\n",
      "  (288, 49)\t2.0\n",
      "  :\t:\n",
      "  (620805, 36)\t1.0\n",
      "  (620805, 37)\t3.0\n",
      "  (620805, 38)\t2.0\n",
      "  (620805, 39)\t9.0\n",
      "  (620835, 23)\t2.0\n",
      "  (620835, 25)\t1.0\n",
      "  (620846, 46)\t1.0\n",
      "  (620852, 28)\t2.0\n",
      "  (620852, 29)\t1.0\n",
      "  (620852, 30)\t2.0\n",
      "  (620862, 61)\t1.0\n",
      "  (620871, 49)\t2.0\n",
      "  (620900, 12)\t4.0\n",
      "  (620907, 8)\t12.0\n",
      "  (620933, 13)\t1.0\n",
      "  (620933, 18)\t1.0\n",
      "  (620936, 18)\t1.0\n",
      "  (620936, 26)\t3.0\n",
      "  (620936, 27)\t1.0\n",
      "  (620936, 28)\t1.0\n",
      "  (620960, 36)\t2.0\n",
      "  (620960, 37)\t4.0\n",
      "  (620960, 38)\t1.0\n",
      "  (620982, 52)\t1.0\n",
      "  (620995, 6)\t1.0\n"
     ]
    }
   ],
   "source": [
    "print(pivot_sparse_mat)"
   ]
  },
  {
   "cell_type": "code",
   "execution_count": 113,
   "metadata": {
    "ExecuteTime": {
     "end_time": "2019-02-17T04:20:21.076332Z",
     "start_time": "2019-02-17T04:20:20.998938Z"
    }
   },
   "outputs": [],
   "source": [
    "arr = pivot_sparse_mat.toarray()"
   ]
  },
  {
   "cell_type": "code",
   "execution_count": 114,
   "metadata": {
    "ExecuteTime": {
     "end_time": "2019-02-17T04:20:21.825163Z",
     "start_time": "2019-02-17T04:20:21.544079Z"
    }
   },
   "outputs": [],
   "source": [
    "sparsity = 1.0 - np.count_nonzero(arr) / arr.size"
   ]
  },
  {
   "cell_type": "code",
   "execution_count": 115,
   "metadata": {
    "ExecuteTime": {
     "end_time": "2019-02-17T04:20:21.994059Z",
     "start_time": "2019-02-17T04:20:21.990371Z"
    }
   },
   "outputs": [
    {
     "data": {
      "text/plain": [
       "0.9974810561228297"
      ]
     },
     "execution_count": 115,
     "metadata": {},
     "output_type": "execute_result"
    }
   ],
   "source": [
    "sparsity"
   ]
  },
  {
   "cell_type": "code",
   "execution_count": 193,
   "metadata": {
    "ExecuteTime": {
     "end_time": "2019-02-19T00:57:13.636860Z",
     "start_time": "2019-02-19T00:57:13.078855Z"
    }
   },
   "outputs": [],
   "source": [
    "sample_submission_df = pd.read_csv(\"./sample_submission_2.csv\")"
   ]
  },
  {
   "cell_type": "code",
   "execution_count": 104,
   "metadata": {
    "ExecuteTime": {
     "end_time": "2019-02-17T02:32:04.808273Z",
     "start_time": "2019-02-17T02:32:04.798544Z"
    }
   },
   "outputs": [
    {
     "data": {
      "text/html": [
       "<div>\n",
       "<style scoped>\n",
       "    .dataframe tbody tr th:only-of-type {\n",
       "        vertical-align: middle;\n",
       "    }\n",
       "\n",
       "    .dataframe tbody tr th {\n",
       "        vertical-align: top;\n",
       "    }\n",
       "\n",
       "    .dataframe thead th {\n",
       "        text-align: right;\n",
       "    }\n",
       "</style>\n",
       "<table border=\"1\" class=\"dataframe\">\n",
       "  <thead>\n",
       "    <tr style=\"text-align: right;\">\n",
       "      <th></th>\n",
       "      <th>user_id_hash</th>\n",
       "      <th>user_purchase_binary_7_days</th>\n",
       "      <th>user_purchase_binary_14_days</th>\n",
       "    </tr>\n",
       "  </thead>\n",
       "  <tbody>\n",
       "    <tr>\n",
       "      <th>0</th>\n",
       "      <td>e469dfaed039ead9110165d9bc457acb11609ca34057dc...</td>\n",
       "      <td>0.01</td>\n",
       "      <td>0.02</td>\n",
       "    </tr>\n",
       "    <tr>\n",
       "      <th>1</th>\n",
       "      <td>afcc639a324b6c598ef83d360450afa011cb2dd1358bf9...</td>\n",
       "      <td>0.01</td>\n",
       "      <td>0.02</td>\n",
       "    </tr>\n",
       "    <tr>\n",
       "      <th>2</th>\n",
       "      <td>fd5a7cf211d08e3e00f7be6a9df6e6ea3d2e5c22a5d9c3...</td>\n",
       "      <td>0.01</td>\n",
       "      <td>0.02</td>\n",
       "    </tr>\n",
       "    <tr>\n",
       "      <th>3</th>\n",
       "      <td>00bfff98b9d0329f014c2eeac7ce47cd18b2bc6e10d608...</td>\n",
       "      <td>0.01</td>\n",
       "      <td>0.02</td>\n",
       "    </tr>\n",
       "    <tr>\n",
       "      <th>4</th>\n",
       "      <td>0d298f3638c43e915c119d4935e1ce8d168f81b5e3e8c1...</td>\n",
       "      <td>0.01</td>\n",
       "      <td>0.02</td>\n",
       "    </tr>\n",
       "    <tr>\n",
       "      <th>5</th>\n",
       "      <td>7f7e3c5da13a555b2c2047c2c94b45d289ffa8083908cb...</td>\n",
       "      <td>0.01</td>\n",
       "      <td>0.02</td>\n",
       "    </tr>\n",
       "    <tr>\n",
       "      <th>6</th>\n",
       "      <td>28b5edd0510e8517462bae9d67a99f272d8ccc8ba2f79d...</td>\n",
       "      <td>0.01</td>\n",
       "      <td>0.02</td>\n",
       "    </tr>\n",
       "    <tr>\n",
       "      <th>7</th>\n",
       "      <td>b9433b9c4d559218e64469b6807cb516a5866572c1c30b...</td>\n",
       "      <td>0.01</td>\n",
       "      <td>0.02</td>\n",
       "    </tr>\n",
       "    <tr>\n",
       "      <th>8</th>\n",
       "      <td>607da741597a3b15fecf9a30c76e2e418b629c975e069a...</td>\n",
       "      <td>0.01</td>\n",
       "      <td>0.02</td>\n",
       "    </tr>\n",
       "    <tr>\n",
       "      <th>9</th>\n",
       "      <td>455ff7334b87646d3ecc05d2e0ef5a8d99dc8fa6573e54...</td>\n",
       "      <td>0.01</td>\n",
       "      <td>0.02</td>\n",
       "    </tr>\n",
       "  </tbody>\n",
       "</table>\n",
       "</div>"
      ],
      "text/plain": [
       "                                        user_id_hash  \\\n",
       "0  e469dfaed039ead9110165d9bc457acb11609ca34057dc...   \n",
       "1  afcc639a324b6c598ef83d360450afa011cb2dd1358bf9...   \n",
       "2  fd5a7cf211d08e3e00f7be6a9df6e6ea3d2e5c22a5d9c3...   \n",
       "3  00bfff98b9d0329f014c2eeac7ce47cd18b2bc6e10d608...   \n",
       "4  0d298f3638c43e915c119d4935e1ce8d168f81b5e3e8c1...   \n",
       "5  7f7e3c5da13a555b2c2047c2c94b45d289ffa8083908cb...   \n",
       "6  28b5edd0510e8517462bae9d67a99f272d8ccc8ba2f79d...   \n",
       "7  b9433b9c4d559218e64469b6807cb516a5866572c1c30b...   \n",
       "8  607da741597a3b15fecf9a30c76e2e418b629c975e069a...   \n",
       "9  455ff7334b87646d3ecc05d2e0ef5a8d99dc8fa6573e54...   \n",
       "\n",
       "   user_purchase_binary_7_days  user_purchase_binary_14_days  \n",
       "0                         0.01                          0.02  \n",
       "1                         0.01                          0.02  \n",
       "2                         0.01                          0.02  \n",
       "3                         0.01                          0.02  \n",
       "4                         0.01                          0.02  \n",
       "5                         0.01                          0.02  \n",
       "6                         0.01                          0.02  \n",
       "7                         0.01                          0.02  \n",
       "8                         0.01                          0.02  \n",
       "9                         0.01                          0.02  "
      ]
     },
     "execution_count": 104,
     "metadata": {},
     "output_type": "execute_result"
    }
   ],
   "source": [
    "sample_submission_df.head(10)"
   ]
  },
  {
   "cell_type": "code",
   "execution_count": 25,
   "metadata": {
    "ExecuteTime": {
     "end_time": "2019-02-17T07:22:27.978291Z",
     "start_time": "2019-02-17T07:22:26.582338Z"
    }
   },
   "outputs": [],
   "source": [
    "pivot_ratio_df = purchase_ratio_df.pivot(index='user_id_hash', columns='day', values='purchase_ratio')"
   ]
  },
  {
   "cell_type": "code",
   "execution_count": 26,
   "metadata": {
    "ExecuteTime": {
     "end_time": "2019-02-17T07:22:30.445124Z",
     "start_time": "2019-02-17T07:22:28.848081Z"
    }
   },
   "outputs": [],
   "source": [
    "pivot_ratio_df = pivot_ratio_df.fillna(0)"
   ]
  },
  {
   "cell_type": "code",
   "execution_count": 64,
   "metadata": {
    "ExecuteTime": {
     "end_time": "2019-02-17T07:50:07.809386Z",
     "start_time": "2019-02-17T07:50:07.608635Z"
    }
   },
   "outputs": [],
   "source": [
    "X_train = pd.concat([np.sum(pivot_df.iloc[:,0:7], axis=1) > 0, \n",
    "                     np.sum(pivot_df.iloc[:,7:14], axis=1) > 0, \n",
    "                     np.sum(pivot_df.iloc[:,14:21], axis=1) > 0], axis=1)\n",
    "y_train = np.sum(pivot_ratio_df.iloc[:,21:28], axis=1) > 0"
   ]
  },
  {
   "cell_type": "code",
   "execution_count": 129,
   "metadata": {
    "ExecuteTime": {
     "end_time": "2019-02-17T04:38:45.409385Z",
     "start_time": "2019-02-17T04:38:45.349722Z"
    }
   },
   "outputs": [],
   "source": [
    "# X_train = pivot_df.iloc[:,0:7]\n",
    "# y_train = np.sum(pivot_ratio_df.iloc[:,7:14], axis=1)"
   ]
  },
  {
   "cell_type": "code",
   "execution_count": 28,
   "metadata": {
    "ExecuteTime": {
     "end_time": "2019-02-17T07:22:35.314960Z",
     "start_time": "2019-02-17T07:22:35.228134Z"
    }
   },
   "outputs": [],
   "source": [
    "from sklearn.tree import DecisionTreeClassifier"
   ]
  },
  {
   "cell_type": "code",
   "execution_count": 29,
   "metadata": {
    "ExecuteTime": {
     "end_time": "2019-02-17T07:22:38.181442Z",
     "start_time": "2019-02-17T07:22:38.178627Z"
    }
   },
   "outputs": [],
   "source": [
    "dtc1 = DecisionTreeClassifier(random_state=0, criterion='entropy', max_depth=3, min_samples_leaf=5)"
   ]
  },
  {
   "cell_type": "code",
   "execution_count": 30,
   "metadata": {
    "ExecuteTime": {
     "end_time": "2019-02-17T07:22:39.533092Z",
     "start_time": "2019-02-17T07:22:39.449554Z"
    }
   },
   "outputs": [
    {
     "data": {
      "text/plain": [
       "DecisionTreeClassifier(class_weight=None, criterion='entropy', max_depth=3,\n",
       "            max_features=None, max_leaf_nodes=None,\n",
       "            min_impurity_decrease=0.0, min_impurity_split=None,\n",
       "            min_samples_leaf=5, min_samples_split=2,\n",
       "            min_weight_fraction_leaf=0.0, presort=False, random_state=0,\n",
       "            splitter='best')"
      ]
     },
     "execution_count": 30,
     "metadata": {},
     "output_type": "execute_result"
    }
   ],
   "source": [
    "dtc1.fit(X_train, y_train)"
   ]
  },
  {
   "cell_type": "code",
   "execution_count": 31,
   "metadata": {
    "ExecuteTime": {
     "end_time": "2019-02-17T07:22:41.168627Z",
     "start_time": "2019-02-17T07:22:41.152320Z"
    }
   },
   "outputs": [],
   "source": [
    "y_train_pred = dtc1.predict(X_train)"
   ]
  },
  {
   "cell_type": "code",
   "execution_count": 32,
   "metadata": {
    "ExecuteTime": {
     "end_time": "2019-02-17T07:22:42.143771Z",
     "start_time": "2019-02-17T07:22:42.139778Z"
    }
   },
   "outputs": [
    {
     "data": {
      "text/plain": [
       "array([False, False, False, ..., False, False, False])"
      ]
     },
     "execution_count": 32,
     "metadata": {},
     "output_type": "execute_result"
    }
   ],
   "source": [
    "y_train_pred"
   ]
  },
  {
   "cell_type": "code",
   "execution_count": 33,
   "metadata": {
    "ExecuteTime": {
     "end_time": "2019-02-17T07:22:43.456333Z",
     "start_time": "2019-02-17T07:22:43.453687Z"
    }
   },
   "outputs": [],
   "source": [
    "from sklearn.metrics import roc_auc_score"
   ]
  },
  {
   "cell_type": "code",
   "execution_count": 34,
   "metadata": {
    "ExecuteTime": {
     "end_time": "2019-02-17T07:22:44.790408Z",
     "start_time": "2019-02-17T07:22:44.668793Z"
    }
   },
   "outputs": [
    {
     "data": {
      "text/plain": [
       "0.7455333218392045"
      ]
     },
     "execution_count": 34,
     "metadata": {},
     "output_type": "execute_result"
    }
   ],
   "source": [
    "roc_auc_score(y_train_pred, y_train)"
   ]
  },
  {
   "cell_type": "code",
   "execution_count": null,
   "metadata": {},
   "outputs": [],
   "source": [
    "# X_test = pivot_df.iloc[:, 7:14]\n",
    "# y_test = np.sum(pivot_ratio_df.iloc[:,14:28], axis=1)"
   ]
  },
  {
   "cell_type": "code",
   "execution_count": 35,
   "metadata": {
    "ExecuteTime": {
     "end_time": "2019-02-17T07:22:56.330441Z",
     "start_time": "2019-02-17T07:22:56.286780Z"
    }
   },
   "outputs": [],
   "source": [
    "import xgboost as xgb"
   ]
  },
  {
   "cell_type": "code",
   "execution_count": 36,
   "metadata": {
    "ExecuteTime": {
     "end_time": "2019-02-17T07:22:57.135463Z",
     "start_time": "2019-02-17T07:22:57.132642Z"
    }
   },
   "outputs": [],
   "source": [
    "xgb_clf = xgb.XGBClassifier(objective=\"binary:logistic\", random_state=42)"
   ]
  },
  {
   "cell_type": "code",
   "execution_count": 37,
   "metadata": {
    "ExecuteTime": {
     "end_time": "2019-02-17T07:23:15.065675Z",
     "start_time": "2019-02-17T07:22:58.414998Z"
    }
   },
   "outputs": [
    {
     "data": {
      "text/plain": [
       "XGBClassifier(base_score=0.5, booster='gbtree', colsample_bylevel=1,\n",
       "       colsample_bytree=1, gamma=0, learning_rate=0.1, max_delta_step=0,\n",
       "       max_depth=3, min_child_weight=1, missing=None, n_estimators=100,\n",
       "       n_jobs=1, nthread=None, objective='binary:logistic',\n",
       "       random_state=42, reg_alpha=0, reg_lambda=1, scale_pos_weight=1,\n",
       "       seed=None, silent=True, subsample=1)"
      ]
     },
     "execution_count": 37,
     "metadata": {},
     "output_type": "execute_result"
    }
   ],
   "source": [
    "xgb_clf.fit(X_train, y_train)"
   ]
  },
  {
   "cell_type": "code",
   "execution_count": 38,
   "metadata": {
    "ExecuteTime": {
     "end_time": "2019-02-17T07:23:17.959251Z",
     "start_time": "2019-02-17T07:23:17.328187Z"
    }
   },
   "outputs": [],
   "source": [
    "y_xgb_train_pred = xgb_clf.predict(X_train)"
   ]
  },
  {
   "cell_type": "code",
   "execution_count": 39,
   "metadata": {
    "ExecuteTime": {
     "end_time": "2019-02-17T07:23:18.830215Z",
     "start_time": "2019-02-17T07:23:18.825094Z"
    }
   },
   "outputs": [
    {
     "data": {
      "text/plain": [
       "379"
      ]
     },
     "execution_count": 39,
     "metadata": {},
     "output_type": "execute_result"
    }
   ],
   "source": [
    "np.count_nonzero(y_xgb_train_pred)"
   ]
  },
  {
   "cell_type": "code",
   "execution_count": 40,
   "metadata": {
    "ExecuteTime": {
     "end_time": "2019-02-17T07:23:19.853197Z",
     "start_time": "2019-02-17T07:23:19.737455Z"
    }
   },
   "outputs": [
    {
     "data": {
      "text/plain": [
       "0.7455333218392045"
      ]
     },
     "execution_count": 40,
     "metadata": {},
     "output_type": "execute_result"
    }
   ],
   "source": [
    "roc_auc_score(y_xgb_train_pred, y_train)"
   ]
  },
  {
   "cell_type": "code",
   "execution_count": 41,
   "metadata": {
    "ExecuteTime": {
     "end_time": "2019-02-17T07:23:21.514773Z",
     "start_time": "2019-02-17T07:23:21.510648Z"
    }
   },
   "outputs": [
    {
     "data": {
      "text/plain": [
       "(621001, 75)"
      ]
     },
     "execution_count": 41,
     "metadata": {},
     "output_type": "execute_result"
    }
   ],
   "source": [
    "pivot_df.shape"
   ]
  },
  {
   "cell_type": "code",
   "execution_count": 42,
   "metadata": {
    "ExecuteTime": {
     "end_time": "2019-02-17T07:23:23.135247Z",
     "start_time": "2019-02-17T07:23:23.061865Z"
    }
   },
   "outputs": [],
   "source": [
    "from sklearn.linear_model import LogisticRegression"
   ]
  },
  {
   "cell_type": "code",
   "execution_count": 43,
   "metadata": {
    "ExecuteTime": {
     "end_time": "2019-02-17T07:23:24.319685Z",
     "start_time": "2019-02-17T07:23:23.741849Z"
    }
   },
   "outputs": [
    {
     "name": "stderr",
     "output_type": "stream",
     "text": [
      "/anaconda3/lib/python3.7/site-packages/sklearn/linear_model/logistic.py:433: FutureWarning: Default solver will be changed to 'lbfgs' in 0.22. Specify a solver to silence this warning.\n",
      "  FutureWarning)\n"
     ]
    }
   ],
   "source": [
    "lr = LogisticRegression(random_state=0)\n",
    "lr.fit(X_train, y_train)\n",
    "y_lr_train_pred = lr.predict(X_train)"
   ]
  },
  {
   "cell_type": "code",
   "execution_count": 44,
   "metadata": {
    "ExecuteTime": {
     "end_time": "2019-02-17T07:23:27.253100Z",
     "start_time": "2019-02-17T07:23:27.112075Z"
    }
   },
   "outputs": [
    {
     "data": {
      "text/plain": [
       "0.7322428804034332"
      ]
     },
     "execution_count": 44,
     "metadata": {},
     "output_type": "execute_result"
    }
   ],
   "source": [
    "roc_auc_score(y_lr_train_pred, y_train)"
   ]
  },
  {
   "cell_type": "code",
   "execution_count": 45,
   "metadata": {
    "ExecuteTime": {
     "end_time": "2019-02-17T07:25:10.784347Z",
     "start_time": "2019-02-17T07:25:10.780683Z"
    }
   },
   "outputs": [],
   "source": [
    "from sklearn.model_selection import StratifiedKFold"
   ]
  },
  {
   "cell_type": "code",
   "execution_count": 46,
   "metadata": {
    "ExecuteTime": {
     "end_time": "2019-02-17T07:30:26.806593Z",
     "start_time": "2019-02-17T07:30:26.800368Z"
    }
   },
   "outputs": [],
   "source": [
    "def stacking(model, train, y, test, n_fold):\n",
    "    folds = StratifiedKFold(n_splits=n_fold, random_state=0)\n",
    "    test_pred = np.empty((test.shape[0], 1), float)\n",
    "    train_pred = np.empty((0, 1), float)\n",
    "    \n",
    "    for train_ind, val_ind in folds.split(train, y):\n",
    "        x_train, x_val = train.iloc[train_ind], train.iloc[val_ind]\n",
    "        y_train, y_val = y.iloc[train_ind], y.iloc[val_ind]\n",
    "        \n",
    "        model.fit(x_train, y_train)\n",
    "        train_pred = np.append(train_pred, model.predict(x_val))\n",
    "        test_pred = np.append(test_pred, model.predict(test))\n",
    "        \n",
    "    return test_pred.reshape(-1, 1), train_pred"
   ]
  },
  {
   "cell_type": "code",
   "execution_count": 81,
   "metadata": {
    "ExecuteTime": {
     "end_time": "2019-02-17T07:57:11.447129Z",
     "start_time": "2019-02-17T07:57:11.444681Z"
    }
   },
   "outputs": [],
   "source": [
    "train_batch_size = 3"
   ]
  },
  {
   "cell_type": "code",
   "execution_count": 90,
   "metadata": {
    "ExecuteTime": {
     "end_time": "2019-02-17T08:01:09.174858Z",
     "start_time": "2019-02-17T08:01:07.040043Z"
    }
   },
   "outputs": [],
   "source": [
    "d_trees = []\n",
    "roc_auc_scores = []\n",
    "for i in range(0, int(np.floor(pivot_df.shape[1]) / 7) - (train_batch_size)):\n",
    "    dtc = DecisionTreeClassifier(criterion='entropy', max_depth=3, min_samples_leaf=5)\n",
    "    num = i*7\n",
    "    X_train = pd.concat([np.sum(pivot_df.iloc[:,num:(num+7)], axis=1) > 0, \n",
    "                         np.sum(pivot_df.iloc[:,(num+7):(num+14)], axis=1) > 0, \n",
    "                         np.sum(pivot_df.iloc[:,(num+14):(num+21)], axis=1) > 0], axis=1)\n",
    "    if i < 7:\n",
    "        y_train = np.sum(pivot_ratio_df.iloc[:,(num+21):(num+28)], axis=1) > 0\n",
    "    else:\n",
    "        y_train = np.sum(pivot_ratio_df.iloc[:,(num+21):], axis=1) > 0\n",
    "    dtc.fit(X_train, y_train)\n",
    "    try:\n",
    "        y_pred = dtc.predict(X_train)\n",
    "        score = roc_auc_score(y_pred, y_train)\n",
    "        d_trees.append(dtc)\n",
    "        roc_auc_scores.append(score)\n",
    "    except ValueError:\n",
    "        pass"
   ]
  },
  {
   "cell_type": "code",
   "execution_count": 91,
   "metadata": {
    "ExecuteTime": {
     "end_time": "2019-02-17T08:01:10.046018Z",
     "start_time": "2019-02-17T08:01:10.042408Z"
    }
   },
   "outputs": [
    {
     "data": {
      "text/plain": [
       "[0.7455333218392045, 0.7586229466675629, 0.7653695159228449]"
      ]
     },
     "execution_count": 91,
     "metadata": {},
     "output_type": "execute_result"
    }
   ],
   "source": [
    "roc_auc_scores"
   ]
  },
  {
   "cell_type": "code",
   "execution_count": 92,
   "metadata": {
    "ExecuteTime": {
     "end_time": "2019-02-17T08:01:14.837826Z",
     "start_time": "2019-02-17T08:01:14.833628Z"
    }
   },
   "outputs": [
    {
     "data": {
      "text/plain": [
       "42"
      ]
     },
     "execution_count": 92,
     "metadata": {},
     "output_type": "execute_result"
    }
   ],
   "source": [
    "num"
   ]
  },
  {
   "cell_type": "code",
   "execution_count": 93,
   "metadata": {
    "ExecuteTime": {
     "end_time": "2019-02-17T08:02:19.870031Z",
     "start_time": "2019-02-17T08:02:19.866177Z"
    }
   },
   "outputs": [
    {
     "data": {
      "text/plain": [
       "12"
      ]
     },
     "execution_count": 93,
     "metadata": {},
     "output_type": "execute_result"
    }
   ],
   "source": [
    "75 - 63"
   ]
  },
  {
   "cell_type": "code",
   "execution_count": 94,
   "metadata": {
    "ExecuteTime": {
     "end_time": "2019-02-17T08:04:44.030371Z",
     "start_time": "2019-02-17T08:04:43.887360Z"
    }
   },
   "outputs": [],
   "source": [
    "X_val = pd.concat([np.sum(pivot_df.iloc[:,63:66], axis=1) > 0, \n",
    "                   np.sum(pivot_df.iloc[:,66:69], axis=1) > 0, \n",
    "                   np.sum(pivot_df.iloc[:,69:72], axis=1) > 0], axis=1)\n",
    "y_val = np.sum(pivot_ratio_df.iloc[:,72:75], axis=1) > 0"
   ]
  },
  {
   "cell_type": "code",
   "execution_count": 101,
   "metadata": {
    "ExecuteTime": {
     "end_time": "2019-02-18T19:59:07.772120Z",
     "start_time": "2019-02-18T19:59:02.356621Z"
    }
   },
   "outputs": [
    {
     "name": "stderr",
     "output_type": "stream",
     "text": [
      "/anaconda3/lib/python3.7/site-packages/sklearn/linear_model/logistic.py:433: FutureWarning: Default solver will be changed to 'lbfgs' in 0.22. Specify a solver to silence this warning.\n",
      "  FutureWarning)\n",
      "/anaconda3/lib/python3.7/site-packages/sklearn/linear_model/logistic.py:433: FutureWarning: Default solver will be changed to 'lbfgs' in 0.22. Specify a solver to silence this warning.\n",
      "  FutureWarning)\n",
      "/anaconda3/lib/python3.7/site-packages/sklearn/linear_model/logistic.py:433: FutureWarning: Default solver will be changed to 'lbfgs' in 0.22. Specify a solver to silence this warning.\n",
      "  FutureWarning)\n",
      "/anaconda3/lib/python3.7/site-packages/sklearn/linear_model/logistic.py:433: FutureWarning: Default solver will be changed to 'lbfgs' in 0.22. Specify a solver to silence this warning.\n",
      "  FutureWarning)\n",
      "/anaconda3/lib/python3.7/site-packages/sklearn/linear_model/logistic.py:433: FutureWarning: Default solver will be changed to 'lbfgs' in 0.22. Specify a solver to silence this warning.\n",
      "  FutureWarning)\n",
      "/anaconda3/lib/python3.7/site-packages/sklearn/linear_model/logistic.py:433: FutureWarning: Default solver will be changed to 'lbfgs' in 0.22. Specify a solver to silence this warning.\n",
      "  FutureWarning)\n",
      "/anaconda3/lib/python3.7/site-packages/sklearn/linear_model/logistic.py:433: FutureWarning: Default solver will be changed to 'lbfgs' in 0.22. Specify a solver to silence this warning.\n",
      "  FutureWarning)\n"
     ]
    }
   ],
   "source": [
    "l_regressions = []\n",
    "lroc_auc_scores = []\n",
    "for i in range(0, int(np.floor(pivot_df.shape[1]) / 7) - (train_batch_size)):\n",
    "    lr = LogisticRegression()\n",
    "    num = i*7\n",
    "    X_train = pd.concat([np.sum(pivot_df.iloc[:,num:(num+7)], axis=1) > 0, \n",
    "                         np.sum(pivot_df.iloc[:,(num+7):(num+14)], axis=1) > 0, \n",
    "                         np.sum(pivot_df.iloc[:,(num+14):(num+21)], axis=1) > 0], axis=1)\n",
    "    if i < 7:\n",
    "        y_train = np.sum(pivot_ratio_df.iloc[:,(num+21):(num+28)], axis=1) > 0\n",
    "    else:\n",
    "        y_train = np.sum(pivot_ratio_df.iloc[:,(num+21):], axis=1) > 0\n",
    "    lr.fit(X_train, y_train)\n",
    "    try:\n",
    "        y_pred = lr.predict(X_train)\n",
    "        score = roc_auc_score(y_pred, y_train)\n",
    "        l_regressions.append(lr)\n",
    "        lroc_auc_scores.append(score)\n",
    "    except ValueError:\n",
    "        pass"
   ]
  },
  {
   "cell_type": "code",
   "execution_count": 102,
   "metadata": {
    "ExecuteTime": {
     "end_time": "2019-02-18T19:59:10.121889Z",
     "start_time": "2019-02-18T19:59:10.116830Z"
    }
   },
   "outputs": [
    {
     "data": {
      "text/plain": [
       "[0.7322428804034332,\n",
       " 0.7361866576133365,\n",
       " 0.7353752302169487,\n",
       " 0.7354876071975534,\n",
       " 0.7406133704637319,\n",
       " 0.7400107193116467,\n",
       " 0.7483696994830114]"
      ]
     },
     "execution_count": 102,
     "metadata": {},
     "output_type": "execute_result"
    }
   ],
   "source": [
    "lroc_auc_scores"
   ]
  },
  {
   "cell_type": "code",
   "execution_count": 104,
   "metadata": {
    "ExecuteTime": {
     "end_time": "2019-02-18T19:59:54.754612Z",
     "start_time": "2019-02-18T19:59:54.729685Z"
    }
   },
   "outputs": [],
   "source": [
    "from sklearn.ensemble import RandomForestClassifier"
   ]
  },
  {
   "cell_type": "code",
   "execution_count": 105,
   "metadata": {
    "ExecuteTime": {
     "end_time": "2019-02-18T20:00:00.942969Z",
     "start_time": "2019-02-18T19:59:56.361292Z"
    }
   },
   "outputs": [],
   "source": [
    "rf_trees = []\n",
    "rf_roc_auc_scores = []\n",
    "for i in range(0, int(np.floor(pivot_df.shape[1]) / 7) - (train_batch_size)):\n",
    "    rfc = RandomForestClassifier(max_depth=10, n_estimators=3, max_features=1)\n",
    "    num = i*7\n",
    "    X_train = pd.concat([np.sum(pivot_df.iloc[:,num:(num+7)], axis=1) > 0, \n",
    "                         np.sum(pivot_df.iloc[:,(num+7):(num+14)], axis=1) > 0, \n",
    "                         np.sum(pivot_df.iloc[:,(num+14):(num+21)], axis=1) > 0], axis=1)\n",
    "    if i < 7:\n",
    "        y_train = np.sum(pivot_ratio_df.iloc[:,(num+21):(num+28)], axis=1) > 0\n",
    "    else:\n",
    "        y_train = np.sum(pivot_ratio_df.iloc[:,(num+21):], axis=1) > 0\n",
    "    rfc.fit(X_train, y_train)\n",
    "    try:\n",
    "        y_pred = rfc.predict(X_train)\n",
    "        score = roc_auc_score(y_pred, y_train)\n",
    "        rf_trees.append(rfc)\n",
    "        rf_roc_auc_scores.append(score)\n",
    "    except ValueError:\n",
    "        pass"
   ]
  },
  {
   "cell_type": "code",
   "execution_count": 106,
   "metadata": {
    "ExecuteTime": {
     "end_time": "2019-02-18T20:00:06.077535Z",
     "start_time": "2019-02-18T20:00:06.073396Z"
    }
   },
   "outputs": [
    {
     "data": {
      "text/plain": [
       "[0.7586229466675629, 0.7653695159228449]"
      ]
     },
     "execution_count": 106,
     "metadata": {},
     "output_type": "execute_result"
    }
   ],
   "source": [
    "rf_roc_auc_scores"
   ]
  },
  {
   "cell_type": "code",
   "execution_count": 107,
   "metadata": {
    "ExecuteTime": {
     "end_time": "2019-02-18T20:00:23.160166Z",
     "start_time": "2019-02-18T20:00:23.156549Z"
    }
   },
   "outputs": [],
   "source": [
    "from sklearn.ensemble import AdaBoostClassifier"
   ]
  },
  {
   "cell_type": "code",
   "execution_count": 219,
   "metadata": {
    "ExecuteTime": {
     "end_time": "2019-02-19T01:21:44.301639Z",
     "start_time": "2019-02-19T01:20:42.122289Z"
    }
   },
   "outputs": [],
   "source": [
    "ada_trees = []\n",
    "ada_roc_auc_scores = []\n",
    "for i in range(0, int(np.floor(pivot_df.shape[1]) / 7) - (train_batch_size)):\n",
    "    ada = AdaBoostClassifier()\n",
    "    num = i*7\n",
    "    X_train = pd.concat([np.sum(pivot_df.iloc[:,num:(num+7)], axis=1) > 0, \n",
    "                         np.sum(pivot_df.iloc[:,(num+7):(num+14)], axis=1) > 0, \n",
    "                         np.sum(pivot_df.iloc[:,(num+14):(num+21)], axis=1) > 0], axis=1)\n",
    "    if i < 7:\n",
    "        y_train = np.sum(pivot_ratio_df.iloc[:,(num+21):(num+28)], axis=1) > 0\n",
    "    else:\n",
    "        y_train = np.sum(pivot_ratio_df.iloc[:,(num+21):], axis=1) > 0\n",
    "    ada.fit(X_train, y_train)\n",
    "    try:\n",
    "        y_pred = ada.predict(X_train)\n",
    "        score = roc_auc_score(y_pred, y_train)\n",
    "        ada_trees.append(ada)\n",
    "        ada_roc_auc_scores.append(score)\n",
    "    except ValueError:\n",
    "        pass"
   ]
  },
  {
   "cell_type": "code",
   "execution_count": 220,
   "metadata": {
    "ExecuteTime": {
     "end_time": "2019-02-19T01:21:47.739507Z",
     "start_time": "2019-02-19T01:21:47.735482Z"
    }
   },
   "outputs": [
    {
     "data": {
      "text/plain": [
       "[0.6957922972875613,\n",
       " 0.7088059757296896,\n",
       " 0.7034801152584387,\n",
       " 0.7014377278165639,\n",
       " 0.6949369054186992,\n",
       " 0.7074016022974297,\n",
       " 0.7146981997596763]"
      ]
     },
     "execution_count": 220,
     "metadata": {},
     "output_type": "execute_result"
    }
   ],
   "source": [
    "ada_roc_auc_scores"
   ]
  },
  {
   "cell_type": "code",
   "execution_count": 126,
   "metadata": {
    "ExecuteTime": {
     "end_time": "2019-02-18T20:26:34.765150Z",
     "start_time": "2019-02-18T20:26:34.726032Z"
    }
   },
   "outputs": [],
   "source": [
    "X_val = pivot_df.iloc[:,70:73] > 0\n",
    "y_val = np.sum(pivot_ratio_df.iloc[:,73:], axis=1) > 0"
   ]
  },
  {
   "cell_type": "code",
   "execution_count": 143,
   "metadata": {
    "ExecuteTime": {
     "end_time": "2019-02-18T20:36:07.489878Z",
     "start_time": "2019-02-18T20:36:07.487166Z"
    }
   },
   "outputs": [],
   "source": [
    "kfold = StratifiedKFold(n_splits=10, random_state=0)"
   ]
  },
  {
   "cell_type": "code",
   "execution_count": 128,
   "metadata": {
    "ExecuteTime": {
     "end_time": "2019-02-18T20:29:09.563958Z",
     "start_time": "2019-02-18T20:29:09.554322Z"
    }
   },
   "outputs": [
    {
     "name": "stdout",
     "output_type": "stream",
     "text": [
      "decision_tree_0\n",
      "decision_tree_1\n",
      "decision_tree_2\n"
     ]
    }
   ],
   "source": [
    "for i in range(len(d_trees)):\n",
    "    print(f\"decision_tree_{i}\")"
   ]
  },
  {
   "cell_type": "code",
   "execution_count": 141,
   "metadata": {
    "ExecuteTime": {
     "end_time": "2019-02-18T20:34:53.424716Z",
     "start_time": "2019-02-18T20:34:53.419933Z"
    }
   },
   "outputs": [],
   "source": [
    "estimators = []\n",
    "for i in range(len(d_trees)):\n",
    "    estimators.append((f\"decision_tree_{i}\", d_trees[i]))\n",
    "for i in range(len(l_regressions)):\n",
    "    estimators.append((f\"logistic_{i}\", l_regressions[i]))\n",
    "for i in range(len(rf_trees)):\n",
    "    estimators.append((f\"random_forest_{i}\", rf_trees[i]))\n",
    "for i in range(len(ada_trees)):\n",
    "    estimators.append((f\"ada_boost_{i}\", ada_trees[i]))"
   ]
  },
  {
   "cell_type": "code",
   "execution_count": 144,
   "metadata": {
    "ExecuteTime": {
     "end_time": "2019-02-18T20:36:38.933626Z",
     "start_time": "2019-02-18T20:36:38.931171Z"
    }
   },
   "outputs": [],
   "source": [
    "from sklearn.ensemble import VotingClassifier"
   ]
  },
  {
   "cell_type": "code",
   "execution_count": 161,
   "metadata": {
    "ExecuteTime": {
     "end_time": "2019-02-18T20:55:08.615674Z",
     "start_time": "2019-02-18T20:55:08.613006Z"
    }
   },
   "outputs": [],
   "source": [
    "ensemble = VotingClassifier(estimators, voting='soft')"
   ]
  },
  {
   "cell_type": "code",
   "execution_count": 162,
   "metadata": {
    "ExecuteTime": {
     "end_time": "2019-02-18T20:55:10.465454Z",
     "start_time": "2019-02-18T20:55:10.250308Z"
    }
   },
   "outputs": [],
   "source": [
    "X_train_new = pd.concat([np.sum(pivot_df.iloc[:,42:49], axis=1) > 0, \n",
    "                         np.sum(pivot_df.iloc[:,49:56], axis=1) > 0, \n",
    "                         np.sum(pivot_df.iloc[:,56:63], axis=1) > 0], axis=1)\n",
    "y_train_new = np.sum(pivot_ratio_df.iloc[:,63:70], axis=1) > 0"
   ]
  },
  {
   "cell_type": "code",
   "execution_count": 163,
   "metadata": {
    "ExecuteTime": {
     "end_time": "2019-02-18T20:55:16.900705Z",
     "start_time": "2019-02-18T20:55:11.169063Z"
    }
   },
   "outputs": [
    {
     "name": "stderr",
     "output_type": "stream",
     "text": [
      "/anaconda3/lib/python3.7/site-packages/sklearn/linear_model/logistic.py:433: FutureWarning: Default solver will be changed to 'lbfgs' in 0.22. Specify a solver to silence this warning.\n",
      "  FutureWarning)\n",
      "/anaconda3/lib/python3.7/site-packages/sklearn/linear_model/logistic.py:433: FutureWarning: Default solver will be changed to 'lbfgs' in 0.22. Specify a solver to silence this warning.\n",
      "  FutureWarning)\n",
      "/anaconda3/lib/python3.7/site-packages/sklearn/linear_model/logistic.py:433: FutureWarning: Default solver will be changed to 'lbfgs' in 0.22. Specify a solver to silence this warning.\n",
      "  FutureWarning)\n",
      "/anaconda3/lib/python3.7/site-packages/sklearn/linear_model/logistic.py:433: FutureWarning: Default solver will be changed to 'lbfgs' in 0.22. Specify a solver to silence this warning.\n",
      "  FutureWarning)\n",
      "/anaconda3/lib/python3.7/site-packages/sklearn/linear_model/logistic.py:433: FutureWarning: Default solver will be changed to 'lbfgs' in 0.22. Specify a solver to silence this warning.\n",
      "  FutureWarning)\n",
      "/anaconda3/lib/python3.7/site-packages/sklearn/linear_model/logistic.py:433: FutureWarning: Default solver will be changed to 'lbfgs' in 0.22. Specify a solver to silence this warning.\n",
      "  FutureWarning)\n",
      "/anaconda3/lib/python3.7/site-packages/sklearn/linear_model/logistic.py:433: FutureWarning: Default solver will be changed to 'lbfgs' in 0.22. Specify a solver to silence this warning.\n",
      "  FutureWarning)\n"
     ]
    },
    {
     "data": {
      "text/plain": [
       "VotingClassifier(estimators=[('decision_tree_0', DecisionTreeClassifier(class_weight=None, criterion='entropy', max_depth=3,\n",
       "            max_features=None, max_leaf_nodes=None,\n",
       "            min_impurity_decrease=0.0, min_impurity_split=None,\n",
       "            min_samples_leaf=5, min_samples_split=2,\n",
       "            min_weight_...obs=None,\n",
       "            oob_score=False, random_state=None, verbose=0,\n",
       "            warm_start=False))],\n",
       "         flatten_transform=None, n_jobs=None, voting='soft', weights=None)"
      ]
     },
     "execution_count": 163,
     "metadata": {},
     "output_type": "execute_result"
    }
   ],
   "source": [
    "ensemble.fit(X_train_new, y_train_new)"
   ]
  },
  {
   "cell_type": "code",
   "execution_count": 164,
   "metadata": {
    "ExecuteTime": {
     "end_time": "2019-02-18T20:55:20.266599Z",
     "start_time": "2019-02-18T20:55:19.334223Z"
    }
   },
   "outputs": [
    {
     "data": {
      "text/plain": [
       "0.8494205001886275"
      ]
     },
     "execution_count": 164,
     "metadata": {},
     "output_type": "execute_result"
    }
   ],
   "source": [
    "y_val_pred = ensemble.predict(X_val)\n",
    "roc_auc_score(y_val_pred, y_val)"
   ]
  },
  {
   "cell_type": "code",
   "execution_count": 165,
   "metadata": {
    "ExecuteTime": {
     "end_time": "2019-02-18T20:55:22.882368Z",
     "start_time": "2019-02-18T20:55:22.055868Z"
    }
   },
   "outputs": [
    {
     "data": {
      "text/plain": [
       "0.7653695159228449"
      ]
     },
     "execution_count": 165,
     "metadata": {},
     "output_type": "execute_result"
    }
   ],
   "source": [
    "y_val_pred = ensemble.predict(X_train_new)\n",
    "roc_auc_score(y_val_pred, y_train_new)"
   ]
  },
  {
   "cell_type": "markdown",
   "metadata": {},
   "source": [
    "### User Purchase Binary 7 Days"
   ]
  },
  {
   "cell_type": "code",
   "execution_count": 168,
   "metadata": {
    "ExecuteTime": {
     "end_time": "2019-02-19T00:18:19.146511Z",
     "start_time": "2019-02-19T00:18:18.986381Z"
    }
   },
   "outputs": [],
   "source": [
    "X_test = pd.concat([np.sum(pivot_df.iloc[:,54:61], axis=1) > 0, \n",
    "                    np.sum(pivot_df.iloc[:,61:68], axis=1) > 0, \n",
    "                    np.sum(pivot_df.iloc[:,68:75], axis=1) > 0], axis=1)"
   ]
  },
  {
   "cell_type": "code",
   "execution_count": 171,
   "metadata": {
    "ExecuteTime": {
     "end_time": "2019-02-19T00:21:42.641107Z",
     "start_time": "2019-02-19T00:21:42.451484Z"
    }
   },
   "outputs": [],
   "source": [
    "submission_df = pd.DataFrame({'user_id_hash':le_user_id.inverse_transform(pivot_df.index)})"
   ]
  },
  {
   "cell_type": "code",
   "execution_count": 178,
   "metadata": {
    "ExecuteTime": {
     "end_time": "2019-02-19T00:25:10.228784Z",
     "start_time": "2019-02-19T00:25:09.526920Z"
    }
   },
   "outputs": [],
   "source": [
    "submission_df['user_purchase_binary_7_days'] = ensemble.predict_proba(X_test)[:,1]"
   ]
  },
  {
   "cell_type": "code",
   "execution_count": null,
   "metadata": {},
   "outputs": [],
   "source": []
  },
  {
   "cell_type": "markdown",
   "metadata": {},
   "source": [
    "### User Purchase Binary 14 Days"
   ]
  },
  {
   "cell_type": "code",
   "execution_count": 188,
   "metadata": {
    "ExecuteTime": {
     "end_time": "2019-02-19T00:50:44.554926Z",
     "start_time": "2019-02-19T00:50:44.326256Z"
    }
   },
   "outputs": [],
   "source": [
    "X_test = pd.concat([np.sum(pivot_df.iloc[:,33:47], axis=1) > 0, \n",
    "                    np.sum(pivot_df.iloc[:,47:61], axis=1) > 0, \n",
    "                    np.sum(pivot_df.iloc[:,61:75], axis=1) > 0], axis=1)"
   ]
  },
  {
   "cell_type": "code",
   "execution_count": 189,
   "metadata": {
    "ExecuteTime": {
     "end_time": "2019-02-19T00:51:00.973367Z",
     "start_time": "2019-02-19T00:51:00.174437Z"
    }
   },
   "outputs": [],
   "source": [
    "submission_df['user_purchase_binary_14_days'] = ensemble.predict_proba(X_test)[:,1]"
   ]
  },
  {
   "cell_type": "code",
   "execution_count": 194,
   "metadata": {
    "ExecuteTime": {
     "end_time": "2019-02-19T00:57:18.499065Z",
     "start_time": "2019-02-19T00:57:18.494728Z"
    }
   },
   "outputs": [
    {
     "data": {
      "text/plain": [
       "(312568, 3)"
      ]
     },
     "execution_count": 194,
     "metadata": {},
     "output_type": "execute_result"
    }
   ],
   "source": [
    "sample_submission_df.shape"
   ]
  },
  {
   "cell_type": "code",
   "execution_count": 203,
   "metadata": {
    "ExecuteTime": {
     "end_time": "2019-02-19T01:05:23.787557Z",
     "start_time": "2019-02-19T01:05:23.382241Z"
    }
   },
   "outputs": [],
   "source": [
    "sub_df = submission_df[submission_df['user_id_hash'].isin(sample_submission_df['user_id_hash'])]"
   ]
  },
  {
   "cell_type": "code",
   "execution_count": 209,
   "metadata": {
    "ExecuteTime": {
     "end_time": "2019-02-19T01:07:24.835296Z",
     "start_time": "2019-02-19T01:07:24.831210Z"
    }
   },
   "outputs": [
    {
     "data": {
      "text/plain": [
       "(312316, 3)"
      ]
     },
     "execution_count": 209,
     "metadata": {},
     "output_type": "execute_result"
    }
   ],
   "source": [
    "sub_df.shape"
   ]
  },
  {
   "cell_type": "code",
   "execution_count": 207,
   "metadata": {
    "ExecuteTime": {
     "end_time": "2019-02-19T01:06:19.267302Z",
     "start_time": "2019-02-19T01:06:18.916490Z"
    }
   },
   "outputs": [],
   "source": [
    "sub_notin_df = sample_submission_df[~sample_submission_df['user_id_hash'].isin(submission_df['user_id_hash'])]"
   ]
  },
  {
   "cell_type": "code",
   "execution_count": 208,
   "metadata": {
    "ExecuteTime": {
     "end_time": "2019-02-19T01:06:27.231829Z",
     "start_time": "2019-02-19T01:06:27.227575Z"
    }
   },
   "outputs": [
    {
     "data": {
      "text/plain": [
       "(252, 3)"
      ]
     },
     "execution_count": 208,
     "metadata": {},
     "output_type": "execute_result"
    }
   ],
   "source": [
    "sub_notin_df.shape"
   ]
  },
  {
   "cell_type": "code",
   "execution_count": 211,
   "metadata": {
    "ExecuteTime": {
     "end_time": "2019-02-19T01:08:36.514113Z",
     "start_time": "2019-02-19T01:08:35.574923Z"
    }
   },
   "outputs": [
    {
     "name": "stderr",
     "output_type": "stream",
     "text": [
      "/anaconda3/lib/python3.7/site-packages/ipykernel_launcher.py:1: SettingWithCopyWarning: \n",
      "A value is trying to be set on a copy of a slice from a DataFrame.\n",
      "Try using .loc[row_indexer,col_indexer] = value instead\n",
      "\n",
      "See the caveats in the documentation: http://pandas.pydata.org/pandas-docs/stable/indexing.html#indexing-view-versus-copy\n",
      "  \"\"\"Entry point for launching an IPython kernel.\n",
      "/anaconda3/lib/python3.7/site-packages/ipykernel_launcher.py:2: SettingWithCopyWarning: \n",
      "A value is trying to be set on a copy of a slice from a DataFrame.\n",
      "Try using .loc[row_indexer,col_indexer] = value instead\n",
      "\n",
      "See the caveats in the documentation: http://pandas.pydata.org/pandas-docs/stable/indexing.html#indexing-view-versus-copy\n",
      "  \n"
     ]
    }
   ],
   "source": [
    "sub_notin_df['user_purchase_binary_7_days'] = np.mean(sub_df['user_purchase_binary_7_days'])\n",
    "sub_notin_df['user_purchase_binary_14_days'] = np.mean(sub_df['user_purchase_binary_14_days'])"
   ]
  },
  {
   "cell_type": "code",
   "execution_count": 214,
   "metadata": {
    "ExecuteTime": {
     "end_time": "2019-02-19T01:09:44.230434Z",
     "start_time": "2019-02-19T01:09:44.191851Z"
    }
   },
   "outputs": [],
   "source": [
    "sub_df_final = pd.concat([sub_df, sub_notin_df], axis=0)"
   ]
  },
  {
   "cell_type": "code",
   "execution_count": 217,
   "metadata": {
    "ExecuteTime": {
     "end_time": "2019-02-19T01:10:44.917570Z",
     "start_time": "2019-02-19T01:10:44.913455Z"
    }
   },
   "outputs": [
    {
     "data": {
      "text/plain": [
       "(312568, 3)"
      ]
     },
     "execution_count": 217,
     "metadata": {},
     "output_type": "execute_result"
    }
   ],
   "source": [
    "sub_df_final.shape"
   ]
  },
  {
   "cell_type": "code",
   "execution_count": 216,
   "metadata": {
    "ExecuteTime": {
     "end_time": "2019-02-19T01:10:30.487945Z",
     "start_time": "2019-02-19T01:10:28.406925Z"
    }
   },
   "outputs": [],
   "source": [
    "sub_df_final.to_csv('submission.csv', encoding='utf-8', index=False)"
   ]
  },
  {
   "cell_type": "markdown",
   "metadata": {},
   "source": [
    "### Try with more features, 10 features now"
   ]
  },
  {
   "cell_type": "code",
   "execution_count": 295,
   "metadata": {
    "ExecuteTime": {
     "end_time": "2019-02-19T01:56:48.958221Z",
     "start_time": "2019-02-19T01:56:48.434938Z"
    }
   },
   "outputs": [],
   "source": [
    "X_train_7d = pd.concat([#np.sum(pivot_df.iloc[:,0:7], axis=1) > 0,\n",
    "                        np.sum(pivot_df.iloc[:,5:12], axis=1) > 0,\n",
    "                        np.sum(pivot_df.iloc[:,12:19], axis=1) > 0,\n",
    "                        np.sum(pivot_df.iloc[:,19:26], axis=1) > 0,\n",
    "                        np.sum(pivot_df.iloc[:,26:33], axis=1) > 0,\n",
    "                        np.sum(pivot_df.iloc[:,33:40], axis=1) > 0,\n",
    "                        np.sum(pivot_df.iloc[:,40:47], axis=1) > 0,\n",
    "                        np.sum(pivot_df.iloc[:,47:54], axis=1) > 0,\n",
    "                        np.sum(pivot_df.iloc[:,54:61], axis=1) > 0,\n",
    "                        np.sum(pivot_df.iloc[:,61:68], axis=1) > 0], axis=1)\n",
    "y_train = np.sum(pivot_ratio_df.iloc[:,68:], axis=1) > 0"
   ]
  },
  {
   "cell_type": "code",
   "execution_count": 296,
   "metadata": {
    "ExecuteTime": {
     "end_time": "2019-02-19T01:56:50.389967Z",
     "start_time": "2019-02-19T01:56:50.387019Z"
    }
   },
   "outputs": [],
   "source": [
    "from sklearn.ensemble import GradientBoostingClassifier"
   ]
  },
  {
   "cell_type": "markdown",
   "metadata": {},
   "source": [
    "## Gradient Boosting"
   ]
  },
  {
   "cell_type": "code",
   "execution_count": 305,
   "metadata": {
    "ExecuteTime": {
     "end_time": "2019-02-19T02:03:15.785351Z",
     "start_time": "2019-02-19T02:03:11.868157Z"
    }
   },
   "outputs": [
    {
     "data": {
      "text/plain": [
       "GradientBoostingClassifier(criterion='friedman_mse', init=None,\n",
       "              learning_rate=0.1, loss='deviance', max_depth=3,\n",
       "              max_features=None, max_leaf_nodes=None,\n",
       "              min_impurity_decrease=0.0, min_impurity_split=None,\n",
       "              min_samples_leaf=1, min_samples_split=2,\n",
       "              min_weight_fraction_leaf=0.0, n_estimators=20,\n",
       "              n_iter_no_change=None, presort='auto', random_state=None,\n",
       "              subsample=1.0, tol=0.0001, validation_fraction=0.1,\n",
       "              verbose=0, warm_start=False)"
      ]
     },
     "execution_count": 305,
     "metadata": {},
     "output_type": "execute_result"
    }
   ],
   "source": [
    "gbc = GradientBoostingClassifier(n_estimators=20)\n",
    "gbc.fit(X_train_7d, y_train)"
   ]
  },
  {
   "cell_type": "code",
   "execution_count": 272,
   "metadata": {
    "ExecuteTime": {
     "end_time": "2019-02-19T01:47:19.806081Z",
     "start_time": "2019-02-19T01:47:19.797118Z"
    }
   },
   "outputs": [
    {
     "data": {
      "text/plain": [
       "21246"
      ]
     },
     "execution_count": 272,
     "metadata": {},
     "output_type": "execute_result"
    }
   ],
   "source": [
    "np.count_nonzero(X_train)"
   ]
  },
  {
   "cell_type": "code",
   "execution_count": 263,
   "metadata": {
    "ExecuteTime": {
     "end_time": "2019-02-19T01:45:15.400386Z",
     "start_time": "2019-02-19T01:45:15.391578Z"
    }
   },
   "outputs": [
    {
     "data": {
      "text/plain": [
       "1242002"
      ]
     },
     "execution_count": 263,
     "metadata": {},
     "output_type": "execute_result"
    }
   ],
   "source": [
    "np.count_nonzero(y_train_pred)"
   ]
  },
  {
   "cell_type": "code",
   "execution_count": 274,
   "metadata": {
    "ExecuteTime": {
     "end_time": "2019-02-19T01:47:28.439964Z",
     "start_time": "2019-02-19T01:47:28.434635Z"
    }
   },
   "outputs": [
    {
     "data": {
      "text/plain": [
       "array([0.02994381, 0.04969869, 0.00114128, ..., 0.00114128, 0.00114128,\n",
       "       0.00114128])"
      ]
     },
     "execution_count": 274,
     "metadata": {},
     "output_type": "execute_result"
    }
   ],
   "source": [
    "y_train_pred"
   ]
  },
  {
   "cell_type": "code",
   "execution_count": 307,
   "metadata": {
    "ExecuteTime": {
     "end_time": "2019-02-19T02:03:37.135859Z",
     "start_time": "2019-02-19T02:03:37.011933Z"
    }
   },
   "outputs": [],
   "source": [
    "y_train_pred = gbc.predict_proba(X_train_7d) [:,1]"
   ]
  },
  {
   "cell_type": "code",
   "execution_count": 308,
   "metadata": {
    "ExecuteTime": {
     "end_time": "2019-02-19T02:03:38.872946Z",
     "start_time": "2019-02-19T02:03:38.758692Z"
    }
   },
   "outputs": [
    {
     "data": {
      "text/plain": [
       "0.9204652777879387"
      ]
     },
     "execution_count": 308,
     "metadata": {},
     "output_type": "execute_result"
    }
   ],
   "source": [
    "roc_auc_score(y_train, y_train_pred)"
   ]
  },
  {
   "cell_type": "markdown",
   "metadata": {},
   "source": [
    "## Random Forest"
   ]
  },
  {
   "cell_type": "code",
   "execution_count": 313,
   "metadata": {
    "ExecuteTime": {
     "end_time": "2019-02-19T02:07:45.479847Z",
     "start_time": "2019-02-19T02:07:45.041023Z"
    }
   },
   "outputs": [
    {
     "data": {
      "text/plain": [
       "RandomForestClassifier(bootstrap=True, class_weight=None, criterion='gini',\n",
       "            max_depth=10, max_features=1, max_leaf_nodes=None,\n",
       "            min_impurity_decrease=0.0, min_impurity_split=None,\n",
       "            min_samples_leaf=1, min_samples_split=2,\n",
       "            min_weight_fraction_leaf=0.0, n_estimators=3, n_jobs=None,\n",
       "            oob_score=False, random_state=None, verbose=0,\n",
       "            warm_start=False)"
      ]
     },
     "execution_count": 313,
     "metadata": {},
     "output_type": "execute_result"
    }
   ],
   "source": [
    "rfc = RandomForestClassifier(max_depth=10, n_estimators=3, max_features=1)\n",
    "rfc.fit(X_train_7d, y_train)"
   ]
  },
  {
   "cell_type": "code",
   "execution_count": 314,
   "metadata": {
    "ExecuteTime": {
     "end_time": "2019-02-19T02:07:53.030751Z",
     "start_time": "2019-02-19T02:07:52.888195Z"
    }
   },
   "outputs": [],
   "source": [
    "y_train_pred_rf = rfc.predict_proba(X_train_7d)[:,1]"
   ]
  },
  {
   "cell_type": "code",
   "execution_count": 315,
   "metadata": {
    "ExecuteTime": {
     "end_time": "2019-02-19T02:07:53.867852Z",
     "start_time": "2019-02-19T02:07:53.729770Z"
    }
   },
   "outputs": [
    {
     "data": {
      "text/plain": [
       "0.9205137027281287"
      ]
     },
     "execution_count": 315,
     "metadata": {},
     "output_type": "execute_result"
    }
   ],
   "source": [
    "roc_auc_score(y_train, y_train_pred_rf)"
   ]
  },
  {
   "cell_type": "markdown",
   "metadata": {},
   "source": [
    "## Logistic Regression"
   ]
  },
  {
   "cell_type": "code",
   "execution_count": 316,
   "metadata": {
    "ExecuteTime": {
     "end_time": "2019-02-19T02:09:31.321513Z",
     "start_time": "2019-02-19T02:09:30.642656Z"
    }
   },
   "outputs": [
    {
     "name": "stderr",
     "output_type": "stream",
     "text": [
      "/anaconda3/lib/python3.7/site-packages/sklearn/linear_model/logistic.py:433: FutureWarning: Default solver will be changed to 'lbfgs' in 0.22. Specify a solver to silence this warning.\n",
      "  FutureWarning)\n"
     ]
    },
    {
     "data": {
      "text/plain": [
       "LogisticRegression(C=1.0, class_weight=None, dual=False, fit_intercept=True,\n",
       "          intercept_scaling=1, max_iter=100, multi_class='warn',\n",
       "          n_jobs=None, penalty='l2', random_state=0, solver='warn',\n",
       "          tol=0.0001, verbose=0, warm_start=False)"
      ]
     },
     "execution_count": 316,
     "metadata": {},
     "output_type": "execute_result"
    }
   ],
   "source": [
    "lr = LogisticRegression(random_state=0)\n",
    "lr.fit(X_train_7d, y_train)"
   ]
  },
  {
   "cell_type": "code",
   "execution_count": 319,
   "metadata": {
    "ExecuteTime": {
     "end_time": "2019-02-19T02:10:27.145443Z",
     "start_time": "2019-02-19T02:10:27.116611Z"
    }
   },
   "outputs": [],
   "source": [
    "y_train_pred_lr = lr.predict_proba(X_train_7d)[:,1]"
   ]
  },
  {
   "cell_type": "code",
   "execution_count": 320,
   "metadata": {
    "ExecuteTime": {
     "end_time": "2019-02-19T02:10:28.302355Z",
     "start_time": "2019-02-19T02:10:28.158935Z"
    }
   },
   "outputs": [
    {
     "data": {
      "text/plain": [
       "0.9214332270333144"
      ]
     },
     "execution_count": 320,
     "metadata": {},
     "output_type": "execute_result"
    }
   ],
   "source": [
    "roc_auc_score(y_train, y_train_pred_lr)"
   ]
  },
  {
   "cell_type": "markdown",
   "metadata": {},
   "source": [
    "### Making prediction for 7 days"
   ]
  },
  {
   "cell_type": "code",
   "execution_count": 327,
   "metadata": {
    "ExecuteTime": {
     "end_time": "2019-02-19T02:15:13.063836Z",
     "start_time": "2019-02-19T02:15:13.061392Z"
    }
   },
   "outputs": [],
   "source": [
    "estimators = []"
   ]
  },
  {
   "cell_type": "code",
   "execution_count": 328,
   "metadata": {
    "ExecuteTime": {
     "end_time": "2019-02-19T02:15:15.430357Z",
     "start_time": "2019-02-19T02:15:15.427351Z"
    }
   },
   "outputs": [],
   "source": [
    "gbc = GradientBoostingClassifier(n_estimators=20)\n",
    "rfc = RandomForestClassifier(max_depth=10, n_estimators=3, max_features=1)\n",
    "lr = LogisticRegression()"
   ]
  },
  {
   "cell_type": "code",
   "execution_count": 329,
   "metadata": {
    "ExecuteTime": {
     "end_time": "2019-02-19T02:15:16.803795Z",
     "start_time": "2019-02-19T02:15:16.800360Z"
    }
   },
   "outputs": [],
   "source": [
    "estimators.append(('random_forest', rfc))\n",
    "estimators.append(('gradient_boosting', gbc))\n",
    "estimators.append(('logistic_regression', lr))"
   ]
  },
  {
   "cell_type": "code",
   "execution_count": 334,
   "metadata": {
    "ExecuteTime": {
     "end_time": "2019-02-19T02:17:00.117012Z",
     "start_time": "2019-02-19T02:17:00.114412Z"
    }
   },
   "outputs": [],
   "source": [
    "vc = VotingClassifier(estimators=estimators, voting='soft')"
   ]
  },
  {
   "cell_type": "code",
   "execution_count": 335,
   "metadata": {
    "ExecuteTime": {
     "end_time": "2019-02-19T02:17:06.161683Z",
     "start_time": "2019-02-19T02:17:01.170375Z"
    }
   },
   "outputs": [
    {
     "name": "stderr",
     "output_type": "stream",
     "text": [
      "/anaconda3/lib/python3.7/site-packages/sklearn/linear_model/logistic.py:433: FutureWarning: Default solver will be changed to 'lbfgs' in 0.22. Specify a solver to silence this warning.\n",
      "  FutureWarning)\n"
     ]
    },
    {
     "data": {
      "text/plain": [
       "VotingClassifier(estimators=[('random_forest', RandomForestClassifier(bootstrap=True, class_weight=None, criterion='gini',\n",
       "            max_depth=10, max_features=1, max_leaf_nodes=None,\n",
       "            min_impurity_decrease=0.0, min_impurity_split=None,\n",
       "            min_samples_leaf=1, min_samples_split=2,\n",
       "            mi...penalty='l2', random_state=None, solver='warn',\n",
       "          tol=0.0001, verbose=0, warm_start=False))],\n",
       "         flatten_transform=None, n_jobs=None, voting='soft', weights=None)"
      ]
     },
     "execution_count": 335,
     "metadata": {},
     "output_type": "execute_result"
    }
   ],
   "source": [
    "vc.fit(X_train_7d, y_train)"
   ]
  },
  {
   "cell_type": "code",
   "execution_count": 338,
   "metadata": {
    "ExecuteTime": {
     "end_time": "2019-02-19T02:17:29.083431Z",
     "start_time": "2019-02-19T02:17:28.780329Z"
    }
   },
   "outputs": [],
   "source": [
    "y_train_pred_vc = vc.predict_proba(X_train_7d)[:,1]"
   ]
  },
  {
   "cell_type": "code",
   "execution_count": 339,
   "metadata": {
    "ExecuteTime": {
     "end_time": "2019-02-19T02:17:31.454410Z",
     "start_time": "2019-02-19T02:17:31.321259Z"
    }
   },
   "outputs": [
    {
     "data": {
      "text/plain": [
       "0.9217804036078248"
      ]
     },
     "execution_count": 339,
     "metadata": {},
     "output_type": "execute_result"
    }
   ],
   "source": [
    "roc_auc_score(y_train, y_train_pred_vc)"
   ]
  },
  {
   "cell_type": "code",
   "execution_count": 342,
   "metadata": {
    "ExecuteTime": {
     "end_time": "2019-02-19T02:19:37.591516Z",
     "start_time": "2019-02-19T02:19:37.405719Z"
    }
   },
   "outputs": [],
   "source": [
    "sub_in_df = pd.DataFrame({'user_id_hash':le_user_id.inverse_transform(pivot_df.index)})"
   ]
  },
  {
   "cell_type": "code",
   "execution_count": 351,
   "metadata": {
    "ExecuteTime": {
     "end_time": "2019-02-19T02:26:26.053262Z",
     "start_time": "2019-02-19T02:26:26.030728Z"
    }
   },
   "outputs": [],
   "source": [
    "temp = pd.concat([X_train_7d, y_train], axis=1)\n",
    "temp.columns = range(temp.shape[1])\n",
    "X_test = temp.iloc[:,1:]"
   ]
  },
  {
   "cell_type": "code",
   "execution_count": 353,
   "metadata": {
    "ExecuteTime": {
     "end_time": "2019-02-19T02:26:44.179894Z",
     "start_time": "2019-02-19T02:26:43.850412Z"
    }
   },
   "outputs": [],
   "source": [
    "sub_in_df['user_purchase_binary_7_days'] = vc.predict_proba(X_test)[:,1]"
   ]
  },
  {
   "cell_type": "markdown",
   "metadata": {},
   "source": [
    "### Making predictions for 14 days"
   ]
  },
  {
   "cell_type": "code",
   "execution_count": 357,
   "metadata": {
    "ExecuteTime": {
     "end_time": "2019-02-19T02:32:36.566395Z",
     "start_time": "2019-02-19T02:32:36.107738Z"
    }
   },
   "outputs": [],
   "source": [
    "X_train_14d = pd.concat([#np.sum(pivot_df.iloc[:,0:7], axis=1) > 0,\n",
    "                         np.sum(pivot_df.iloc[:,5:19], axis=1) > 0,\n",
    "                         np.sum(pivot_df.iloc[:,19:33], axis=1) > 0,\n",
    "                         np.sum(pivot_df.iloc[:,33:47], axis=1) > 0,\n",
    "                         np.sum(pivot_df.iloc[:,47:61], axis=1) > 0], axis=1)\n",
    "y_train_14d = np.sum(pivot_ratio_df.iloc[:,61:], axis=1) > 0"
   ]
  },
  {
   "cell_type": "code",
   "execution_count": 358,
   "metadata": {
    "ExecuteTime": {
     "end_time": "2019-02-19T02:32:57.948101Z",
     "start_time": "2019-02-19T02:32:57.535100Z"
    }
   },
   "outputs": [
    {
     "data": {
      "text/plain": [
       "RandomForestClassifier(bootstrap=True, class_weight=None, criterion='gini',\n",
       "            max_depth=10, max_features=1, max_leaf_nodes=None,\n",
       "            min_impurity_decrease=0.0, min_impurity_split=None,\n",
       "            min_samples_leaf=1, min_samples_split=2,\n",
       "            min_weight_fraction_leaf=0.0, n_estimators=3, n_jobs=None,\n",
       "            oob_score=False, random_state=None, verbose=0,\n",
       "            warm_start=False)"
      ]
     },
     "execution_count": 358,
     "metadata": {},
     "output_type": "execute_result"
    }
   ],
   "source": [
    "rfc = RandomForestClassifier(max_depth=10, n_estimators=3, max_features=1)\n",
    "rfc.fit(X_train_14d, y_train_14d)"
   ]
  },
  {
   "cell_type": "code",
   "execution_count": 360,
   "metadata": {
    "ExecuteTime": {
     "end_time": "2019-02-19T02:33:52.784047Z",
     "start_time": "2019-02-19T02:33:52.541458Z"
    }
   },
   "outputs": [
    {
     "data": {
      "text/plain": [
       "0.8577465045390567"
      ]
     },
     "execution_count": 360,
     "metadata": {},
     "output_type": "execute_result"
    }
   ],
   "source": [
    "y_train_pred_rf_14d = rfc.predict_proba(X_train_14d)[:,1]\n",
    "roc_auc_score(y_train_14d, y_train_pred_rf_14d)"
   ]
  },
  {
   "cell_type": "code",
   "execution_count": 362,
   "metadata": {
    "ExecuteTime": {
     "end_time": "2019-02-19T02:34:51.635059Z",
     "start_time": "2019-02-19T02:34:51.630078Z"
    }
   },
   "outputs": [],
   "source": [
    "estimators = []\n",
    "gbc = GradientBoostingClassifier(n_estimators=20)\n",
    "rfc = RandomForestClassifier(max_depth=10, n_estimators=3, max_features=1)\n",
    "lr = LogisticRegression()\n",
    "estimators.append(('random_forest', rfc))\n",
    "estimators.append(('gradient_boosting', gbc))\n",
    "estimators.append(('logistic_regression', lr))"
   ]
  },
  {
   "cell_type": "code",
   "execution_count": 363,
   "metadata": {
    "ExecuteTime": {
     "end_time": "2019-02-19T02:35:09.165170Z",
     "start_time": "2019-02-19T02:35:09.161725Z"
    }
   },
   "outputs": [],
   "source": [
    "vc_14d = VotingClassifier(estimators=estimators, voting='soft')"
   ]
  },
  {
   "cell_type": "code",
   "execution_count": 364,
   "metadata": {
    "ExecuteTime": {
     "end_time": "2019-02-19T02:35:33.858458Z",
     "start_time": "2019-02-19T02:35:29.674799Z"
    }
   },
   "outputs": [
    {
     "name": "stderr",
     "output_type": "stream",
     "text": [
      "/anaconda3/lib/python3.7/site-packages/sklearn/linear_model/logistic.py:433: FutureWarning: Default solver will be changed to 'lbfgs' in 0.22. Specify a solver to silence this warning.\n",
      "  FutureWarning)\n"
     ]
    },
    {
     "data": {
      "text/plain": [
       "VotingClassifier(estimators=[('random_forest', RandomForestClassifier(bootstrap=True, class_weight=None, criterion='gini',\n",
       "            max_depth=10, max_features=1, max_leaf_nodes=None,\n",
       "            min_impurity_decrease=0.0, min_impurity_split=None,\n",
       "            min_samples_leaf=1, min_samples_split=2,\n",
       "            mi...penalty='l2', random_state=None, solver='warn',\n",
       "          tol=0.0001, verbose=0, warm_start=False))],\n",
       "         flatten_transform=None, n_jobs=None, voting='soft', weights=None)"
      ]
     },
     "execution_count": 364,
     "metadata": {},
     "output_type": "execute_result"
    }
   ],
   "source": [
    "vc_14d.fit(X_train_14d, y_train_14d)"
   ]
  },
  {
   "cell_type": "code",
   "execution_count": 366,
   "metadata": {
    "ExecuteTime": {
     "end_time": "2019-02-19T02:36:21.529004Z",
     "start_time": "2019-02-19T02:36:21.126152Z"
    }
   },
   "outputs": [
    {
     "data": {
      "text/plain": [
       "0.8577338529625576"
      ]
     },
     "execution_count": 366,
     "metadata": {},
     "output_type": "execute_result"
    }
   ],
   "source": [
    "y_train_pred_vc_14d = vc_14d.predict_proba(X_train_14d)[:,1]\n",
    "roc_auc_score(y_train_14d, y_train_pred_vc_14d)"
   ]
  },
  {
   "cell_type": "code",
   "execution_count": 367,
   "metadata": {
    "ExecuteTime": {
     "end_time": "2019-02-19T02:37:37.560343Z",
     "start_time": "2019-02-19T02:37:37.545979Z"
    }
   },
   "outputs": [],
   "source": [
    "temp = pd.concat([X_train_14d, y_train_14d], axis=1)\n",
    "temp.columns = range(temp.shape[1])\n",
    "X_test_14d = temp.iloc[:,1:]"
   ]
  },
  {
   "cell_type": "code",
   "execution_count": 369,
   "metadata": {
    "ExecuteTime": {
     "end_time": "2019-02-19T02:38:09.224844Z",
     "start_time": "2019-02-19T02:38:08.935386Z"
    }
   },
   "outputs": [],
   "source": [
    "sub_in_df['user_purchase_binary_14_days'] = vc_14d.predict_proba(X_test_14d)[:,1]"
   ]
  },
  {
   "cell_type": "code",
   "execution_count": 394,
   "metadata": {
    "ExecuteTime": {
     "end_time": "2019-02-19T02:45:27.283848Z",
     "start_time": "2019-02-19T02:45:26.856468Z"
    }
   },
   "outputs": [],
   "source": [
    "sub_df = sub_in_df[sub_in_df['user_id_hash'].isin(sample_submission_df['user_id_hash'])]"
   ]
  },
  {
   "cell_type": "code",
   "execution_count": 395,
   "metadata": {
    "ExecuteTime": {
     "end_time": "2019-02-19T02:45:27.879567Z",
     "start_time": "2019-02-19T02:45:27.875170Z"
    }
   },
   "outputs": [
    {
     "data": {
      "text/plain": [
       "(312316, 3)"
      ]
     },
     "execution_count": 395,
     "metadata": {},
     "output_type": "execute_result"
    }
   ],
   "source": [
    "sub_df.shape"
   ]
  },
  {
   "cell_type": "code",
   "execution_count": 396,
   "metadata": {
    "ExecuteTime": {
     "end_time": "2019-02-19T02:45:35.677034Z",
     "start_time": "2019-02-19T02:45:35.337600Z"
    }
   },
   "outputs": [],
   "source": [
    "sub_notin_df = sample_submission_df[~sample_submission_df['user_id_hash'].isin(sub_in_df['user_id_hash'])]"
   ]
  },
  {
   "cell_type": "code",
   "execution_count": 397,
   "metadata": {
    "ExecuteTime": {
     "end_time": "2019-02-19T02:45:36.527833Z",
     "start_time": "2019-02-19T02:45:36.523305Z"
    }
   },
   "outputs": [
    {
     "data": {
      "text/plain": [
       "(252, 3)"
      ]
     },
     "execution_count": 397,
     "metadata": {},
     "output_type": "execute_result"
    }
   ],
   "source": [
    "sub_notin_df.shape"
   ]
  },
  {
   "cell_type": "code",
   "execution_count": 398,
   "metadata": {
    "ExecuteTime": {
     "end_time": "2019-02-19T02:45:38.811778Z",
     "start_time": "2019-02-19T02:45:37.922520Z"
    },
    "scrolled": true
   },
   "outputs": [
    {
     "name": "stderr",
     "output_type": "stream",
     "text": [
      "/anaconda3/lib/python3.7/site-packages/ipykernel_launcher.py:1: SettingWithCopyWarning: \n",
      "A value is trying to be set on a copy of a slice from a DataFrame.\n",
      "Try using .loc[row_indexer,col_indexer] = value instead\n",
      "\n",
      "See the caveats in the documentation: http://pandas.pydata.org/pandas-docs/stable/indexing.html#indexing-view-versus-copy\n",
      "  \"\"\"Entry point for launching an IPython kernel.\n",
      "/anaconda3/lib/python3.7/site-packages/ipykernel_launcher.py:2: SettingWithCopyWarning: \n",
      "A value is trying to be set on a copy of a slice from a DataFrame.\n",
      "Try using .loc[row_indexer,col_indexer] = value instead\n",
      "\n",
      "See the caveats in the documentation: http://pandas.pydata.org/pandas-docs/stable/indexing.html#indexing-view-versus-copy\n",
      "  \n"
     ]
    }
   ],
   "source": [
    "sub_notin_df['user_purchase_binary_7_days'] = np.mean(sub_df['user_purchase_binary_7_days'])\n",
    "sub_notin_df['user_purchase_binary_14_days'] = np.mean(sub_df['user_purchase_binary_14_days'])"
   ]
  },
  {
   "cell_type": "code",
   "execution_count": 399,
   "metadata": {
    "ExecuteTime": {
     "end_time": "2019-02-19T02:45:41.126558Z",
     "start_time": "2019-02-19T02:45:41.083220Z"
    }
   },
   "outputs": [
    {
     "data": {
      "text/plain": [
       "(312568, 3)"
      ]
     },
     "execution_count": 399,
     "metadata": {},
     "output_type": "execute_result"
    }
   ],
   "source": [
    "sub_df_final = pd.concat([sub_df, sub_notin_df], axis=0)\n",
    "sub_df_final.shape"
   ]
  },
  {
   "cell_type": "code",
   "execution_count": 402,
   "metadata": {
    "ExecuteTime": {
     "end_time": "2019-02-19T02:46:11.480659Z",
     "start_time": "2019-02-19T02:46:09.440967Z"
    }
   },
   "outputs": [],
   "source": [
    "sub_df_final.to_csv('submission.csv', encoding='utf-8', index=False)"
   ]
  },
  {
   "cell_type": "code",
   "execution_count": null,
   "metadata": {},
   "outputs": [],
   "source": []
  }
 ],
 "metadata": {
  "kernelspec": {
   "display_name": "Python 3",
   "language": "python",
   "name": "python3"
  },
  "language_info": {
   "codemirror_mode": {
    "name": "ipython",
    "version": 3
   },
   "file_extension": ".py",
   "mimetype": "text/x-python",
   "name": "python",
   "nbconvert_exporter": "python",
   "pygments_lexer": "ipython3",
   "version": "3.7.1"
  },
  "toc": {
   "base_numbering": 1,
   "nav_menu": {},
   "number_sections": true,
   "sideBar": true,
   "skip_h1_title": false,
   "title_cell": "Table of Contents",
   "title_sidebar": "Contents",
   "toc_cell": false,
   "toc_position": {},
   "toc_section_display": true,
   "toc_window_display": false
  }
 },
 "nbformat": 4,
 "nbformat_minor": 2
}
